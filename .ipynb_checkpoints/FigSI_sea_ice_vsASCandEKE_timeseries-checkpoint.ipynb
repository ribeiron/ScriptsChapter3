{
 "cells": [
  {
   "cell_type": "markdown",
   "id": "2ca10321-1b58-4526-808b-c9c61af99b27",
   "metadata": {},
   "source": [
    "## This creates teh SI Figure with the time series for Sea ice vs ASC and Ekman pumping"
   ]
  },
  {
   "cell_type": "markdown",
   "id": "0561f63b-08cb-424b-a783-6c8be13983e5",
   "metadata": {},
   "source": [
    "## Calculation\n"
   ]
  },
  {
   "cell_type": "markdown",
   "id": "0167b568-88ff-480b-bfca-f5c7c1cd2f89",
   "metadata": {},
   "source": [
    "We start by importing some useful packages."
   ]
  },
  {
   "cell_type": "code",
   "execution_count": 6,
   "id": "bb7cf68a-2d77-4727-a249-a9355c7cba82",
   "metadata": {
    "tags": []
   },
   "outputs": [],
   "source": [
    "%matplotlib inline\n",
    "%config InlineBackend.figure_format='retina'\n",
    "\n",
    "\n",
    "\n",
    "import cosima_cookbook as cc\n",
    "\n",
    "from cosima_cookbook import distributed as ccd\n",
    "\n",
    "import matplotlib.pyplot as plt\n",
    "import numpy as np\n",
    "import cmocean as cm\n",
    "import xarray as xr\n",
    "import cmocean.cm as cmocean\n",
    "import matplotlib.ticker as ticker\n",
    "from dask.distributed import Client"
   ]
  },
  {
   "cell_type": "code",
   "execution_count": 7,
   "id": "562d298d-b7f3-40a5-8a2e-9a7c384d3410",
   "metadata": {
    "tags": []
   },
   "outputs": [],
   "source": [
    "# from tqdm import tqdm_notebook"
   ]
  },
  {
   "cell_type": "markdown",
   "id": "70d3693e-d11c-469b-8c04-56d884fd031a",
   "metadata": {},
   "source": [
    "Import cartopy to plot maps:"
   ]
  },
  {
   "cell_type": "code",
   "execution_count": 8,
   "id": "e10d50c7-cb64-4e9f-9db8-d4aead5fbb15",
   "metadata": {
    "tags": []
   },
   "outputs": [],
   "source": [
    "import cartopy.crs as ccrs\n",
    "import cartopy.feature as feature\n",
    "\n",
    "land_50m = feature.NaturalEarthFeature('physical', 'land', '50m',\n",
    "                                        edgecolor='black',\n",
    "                                        facecolor='gray',\n",
    "                                        linewidth=0.2)"
   ]
  },
  {
   "cell_type": "markdown",
   "id": "2e77891d-1746-4d40-9fc9-7862cd34612f",
   "metadata": {},
   "source": [
    "Start up a dask cluster."
   ]
  },
  {
   "cell_type": "code",
   "execution_count": 9,
   "id": "89126e4c-adae-40e5-b448-35b310862236",
   "metadata": {
    "tags": []
   },
   "outputs": [
    {
     "name": "stdout",
     "output_type": "stream",
     "text": [
      "starting distributed client...\n"
     ]
    },
    {
     "data": {
      "text/html": [
       "<div>\n",
       "    <div style=\"width: 24px; height: 24px; background-color: #e1e1e1; border: 3px solid #9D9D9D; border-radius: 5px; position: absolute;\"> </div>\n",
       "    <div style=\"margin-left: 48px;\">\n",
       "        <h3 style=\"margin-bottom: 0px;\">Client</h3>\n",
       "        <p style=\"color: #9D9D9D; margin-bottom: 0px;\">Client-20dd8bc4-f6b4-11ed-bd0e-0000076bfe80</p>\n",
       "        <table style=\"width: 100%; text-align: left;\">\n",
       "\n",
       "        <tr>\n",
       "        \n",
       "            <td style=\"text-align: left;\"><strong>Connection method:</strong> Cluster object</td>\n",
       "            <td style=\"text-align: left;\"><strong>Cluster type:</strong> distributed.LocalCluster</td>\n",
       "        \n",
       "        </tr>\n",
       "\n",
       "        \n",
       "            <tr>\n",
       "                <td style=\"text-align: left;\">\n",
       "                    <strong>Dashboard: </strong> <a href=\"/proxy/33095/status\" target=\"_blank\">/proxy/33095/status</a>\n",
       "                </td>\n",
       "                <td style=\"text-align: left;\"></td>\n",
       "            </tr>\n",
       "        \n",
       "\n",
       "        </table>\n",
       "\n",
       "        \n",
       "\n",
       "        \n",
       "            <details>\n",
       "            <summary style=\"margin-bottom: 20px;\"><h3 style=\"display: inline;\">Cluster Info</h3></summary>\n",
       "            <div class=\"jp-RenderedHTMLCommon jp-RenderedHTML jp-mod-trusted jp-OutputArea-output\">\n",
       "    <div style=\"width: 24px; height: 24px; background-color: #e1e1e1; border: 3px solid #9D9D9D; border-radius: 5px; position: absolute;\">\n",
       "    </div>\n",
       "    <div style=\"margin-left: 48px;\">\n",
       "        <h3 style=\"margin-bottom: 0px; margin-top: 0px;\">LocalCluster</h3>\n",
       "        <p style=\"color: #9D9D9D; margin-bottom: 0px;\">7936b18f</p>\n",
       "        <table style=\"width: 100%; text-align: left;\">\n",
       "            <tr>\n",
       "                <td style=\"text-align: left;\">\n",
       "                    <strong>Dashboard:</strong> <a href=\"/proxy/33095/status\" target=\"_blank\">/proxy/33095/status</a>\n",
       "                </td>\n",
       "                <td style=\"text-align: left;\">\n",
       "                    <strong>Workers:</strong> 7\n",
       "                </td>\n",
       "            </tr>\n",
       "            <tr>\n",
       "                <td style=\"text-align: left;\">\n",
       "                    <strong>Total threads:</strong> 28\n",
       "                </td>\n",
       "                <td style=\"text-align: left;\">\n",
       "                    <strong>Total memory:</strong> 251.20 GiB\n",
       "                </td>\n",
       "            </tr>\n",
       "            \n",
       "            <tr>\n",
       "    <td style=\"text-align: left;\"><strong>Status:</strong> running</td>\n",
       "    <td style=\"text-align: left;\"><strong>Using processes:</strong> True</td>\n",
       "</tr>\n",
       "\n",
       "            \n",
       "        </table>\n",
       "\n",
       "        <details>\n",
       "            <summary style=\"margin-bottom: 20px;\">\n",
       "                <h3 style=\"display: inline;\">Scheduler Info</h3>\n",
       "            </summary>\n",
       "\n",
       "            <div style=\"\">\n",
       "    <div>\n",
       "        <div style=\"width: 24px; height: 24px; background-color: #FFF7E5; border: 3px solid #FF6132; border-radius: 5px; position: absolute;\"> </div>\n",
       "        <div style=\"margin-left: 48px;\">\n",
       "            <h3 style=\"margin-bottom: 0px;\">Scheduler</h3>\n",
       "            <p style=\"color: #9D9D9D; margin-bottom: 0px;\">Scheduler-2b7d9961-1aa8-43d4-af1f-bcc6b5985934</p>\n",
       "            <table style=\"width: 100%; text-align: left;\">\n",
       "                <tr>\n",
       "                    <td style=\"text-align: left;\">\n",
       "                        <strong>Comm:</strong> tcp://127.0.0.1:45461\n",
       "                    </td>\n",
       "                    <td style=\"text-align: left;\">\n",
       "                        <strong>Workers:</strong> 7\n",
       "                    </td>\n",
       "                </tr>\n",
       "                <tr>\n",
       "                    <td style=\"text-align: left;\">\n",
       "                        <strong>Dashboard:</strong> <a href=\"/proxy/33095/status\" target=\"_blank\">/proxy/33095/status</a>\n",
       "                    </td>\n",
       "                    <td style=\"text-align: left;\">\n",
       "                        <strong>Total threads:</strong> 28\n",
       "                    </td>\n",
       "                </tr>\n",
       "                <tr>\n",
       "                    <td style=\"text-align: left;\">\n",
       "                        <strong>Started:</strong> Just now\n",
       "                    </td>\n",
       "                    <td style=\"text-align: left;\">\n",
       "                        <strong>Total memory:</strong> 251.20 GiB\n",
       "                    </td>\n",
       "                </tr>\n",
       "            </table>\n",
       "        </div>\n",
       "    </div>\n",
       "\n",
       "    <details style=\"margin-left: 48px;\">\n",
       "        <summary style=\"margin-bottom: 20px;\">\n",
       "            <h3 style=\"display: inline;\">Workers</h3>\n",
       "        </summary>\n",
       "\n",
       "        \n",
       "        <div style=\"margin-bottom: 20px;\">\n",
       "            <div style=\"width: 24px; height: 24px; background-color: #DBF5FF; border: 3px solid #4CC9FF; border-radius: 5px; position: absolute;\"> </div>\n",
       "            <div style=\"margin-left: 48px;\">\n",
       "            <details>\n",
       "                <summary>\n",
       "                    <h4 style=\"margin-bottom: 0px; display: inline;\">Worker: 0</h4>\n",
       "                </summary>\n",
       "                <table style=\"width: 100%; text-align: left;\">\n",
       "                    <tr>\n",
       "                        <td style=\"text-align: left;\">\n",
       "                            <strong>Comm: </strong> tcp://127.0.0.1:35813\n",
       "                        </td>\n",
       "                        <td style=\"text-align: left;\">\n",
       "                            <strong>Total threads: </strong> 4\n",
       "                        </td>\n",
       "                    </tr>\n",
       "                    <tr>\n",
       "                        <td style=\"text-align: left;\">\n",
       "                            <strong>Dashboard: </strong> <a href=\"/proxy/42441/status\" target=\"_blank\">/proxy/42441/status</a>\n",
       "                        </td>\n",
       "                        <td style=\"text-align: left;\">\n",
       "                            <strong>Memory: </strong> 35.89 GiB\n",
       "                        </td>\n",
       "                    </tr>\n",
       "                    <tr>\n",
       "                        <td style=\"text-align: left;\">\n",
       "                            <strong>Nanny: </strong> tcp://127.0.0.1:35917\n",
       "                        </td>\n",
       "                        <td style=\"text-align: left;\"></td>\n",
       "                    </tr>\n",
       "                    <tr>\n",
       "                        <td colspan=\"2\" style=\"text-align: left;\">\n",
       "                            <strong>Local directory: </strong> /jobfs/84369779.gadi-pbs/dask-worker-space/worker-rxu0jjht\n",
       "                        </td>\n",
       "                    </tr>\n",
       "\n",
       "                    \n",
       "\n",
       "                    \n",
       "\n",
       "                </table>\n",
       "            </details>\n",
       "            </div>\n",
       "        </div>\n",
       "        \n",
       "        <div style=\"margin-bottom: 20px;\">\n",
       "            <div style=\"width: 24px; height: 24px; background-color: #DBF5FF; border: 3px solid #4CC9FF; border-radius: 5px; position: absolute;\"> </div>\n",
       "            <div style=\"margin-left: 48px;\">\n",
       "            <details>\n",
       "                <summary>\n",
       "                    <h4 style=\"margin-bottom: 0px; display: inline;\">Worker: 1</h4>\n",
       "                </summary>\n",
       "                <table style=\"width: 100%; text-align: left;\">\n",
       "                    <tr>\n",
       "                        <td style=\"text-align: left;\">\n",
       "                            <strong>Comm: </strong> tcp://127.0.0.1:41217\n",
       "                        </td>\n",
       "                        <td style=\"text-align: left;\">\n",
       "                            <strong>Total threads: </strong> 4\n",
       "                        </td>\n",
       "                    </tr>\n",
       "                    <tr>\n",
       "                        <td style=\"text-align: left;\">\n",
       "                            <strong>Dashboard: </strong> <a href=\"/proxy/35043/status\" target=\"_blank\">/proxy/35043/status</a>\n",
       "                        </td>\n",
       "                        <td style=\"text-align: left;\">\n",
       "                            <strong>Memory: </strong> 35.89 GiB\n",
       "                        </td>\n",
       "                    </tr>\n",
       "                    <tr>\n",
       "                        <td style=\"text-align: left;\">\n",
       "                            <strong>Nanny: </strong> tcp://127.0.0.1:33623\n",
       "                        </td>\n",
       "                        <td style=\"text-align: left;\"></td>\n",
       "                    </tr>\n",
       "                    <tr>\n",
       "                        <td colspan=\"2\" style=\"text-align: left;\">\n",
       "                            <strong>Local directory: </strong> /jobfs/84369779.gadi-pbs/dask-worker-space/worker-7qkxoouy\n",
       "                        </td>\n",
       "                    </tr>\n",
       "\n",
       "                    \n",
       "\n",
       "                    \n",
       "\n",
       "                </table>\n",
       "            </details>\n",
       "            </div>\n",
       "        </div>\n",
       "        \n",
       "        <div style=\"margin-bottom: 20px;\">\n",
       "            <div style=\"width: 24px; height: 24px; background-color: #DBF5FF; border: 3px solid #4CC9FF; border-radius: 5px; position: absolute;\"> </div>\n",
       "            <div style=\"margin-left: 48px;\">\n",
       "            <details>\n",
       "                <summary>\n",
       "                    <h4 style=\"margin-bottom: 0px; display: inline;\">Worker: 2</h4>\n",
       "                </summary>\n",
       "                <table style=\"width: 100%; text-align: left;\">\n",
       "                    <tr>\n",
       "                        <td style=\"text-align: left;\">\n",
       "                            <strong>Comm: </strong> tcp://127.0.0.1:43019\n",
       "                        </td>\n",
       "                        <td style=\"text-align: left;\">\n",
       "                            <strong>Total threads: </strong> 4\n",
       "                        </td>\n",
       "                    </tr>\n",
       "                    <tr>\n",
       "                        <td style=\"text-align: left;\">\n",
       "                            <strong>Dashboard: </strong> <a href=\"/proxy/32917/status\" target=\"_blank\">/proxy/32917/status</a>\n",
       "                        </td>\n",
       "                        <td style=\"text-align: left;\">\n",
       "                            <strong>Memory: </strong> 35.89 GiB\n",
       "                        </td>\n",
       "                    </tr>\n",
       "                    <tr>\n",
       "                        <td style=\"text-align: left;\">\n",
       "                            <strong>Nanny: </strong> tcp://127.0.0.1:45027\n",
       "                        </td>\n",
       "                        <td style=\"text-align: left;\"></td>\n",
       "                    </tr>\n",
       "                    <tr>\n",
       "                        <td colspan=\"2\" style=\"text-align: left;\">\n",
       "                            <strong>Local directory: </strong> /jobfs/84369779.gadi-pbs/dask-worker-space/worker-d9ly0_77\n",
       "                        </td>\n",
       "                    </tr>\n",
       "\n",
       "                    \n",
       "\n",
       "                    \n",
       "\n",
       "                </table>\n",
       "            </details>\n",
       "            </div>\n",
       "        </div>\n",
       "        \n",
       "        <div style=\"margin-bottom: 20px;\">\n",
       "            <div style=\"width: 24px; height: 24px; background-color: #DBF5FF; border: 3px solid #4CC9FF; border-radius: 5px; position: absolute;\"> </div>\n",
       "            <div style=\"margin-left: 48px;\">\n",
       "            <details>\n",
       "                <summary>\n",
       "                    <h4 style=\"margin-bottom: 0px; display: inline;\">Worker: 3</h4>\n",
       "                </summary>\n",
       "                <table style=\"width: 100%; text-align: left;\">\n",
       "                    <tr>\n",
       "                        <td style=\"text-align: left;\">\n",
       "                            <strong>Comm: </strong> tcp://127.0.0.1:43945\n",
       "                        </td>\n",
       "                        <td style=\"text-align: left;\">\n",
       "                            <strong>Total threads: </strong> 4\n",
       "                        </td>\n",
       "                    </tr>\n",
       "                    <tr>\n",
       "                        <td style=\"text-align: left;\">\n",
       "                            <strong>Dashboard: </strong> <a href=\"/proxy/37655/status\" target=\"_blank\">/proxy/37655/status</a>\n",
       "                        </td>\n",
       "                        <td style=\"text-align: left;\">\n",
       "                            <strong>Memory: </strong> 35.89 GiB\n",
       "                        </td>\n",
       "                    </tr>\n",
       "                    <tr>\n",
       "                        <td style=\"text-align: left;\">\n",
       "                            <strong>Nanny: </strong> tcp://127.0.0.1:46343\n",
       "                        </td>\n",
       "                        <td style=\"text-align: left;\"></td>\n",
       "                    </tr>\n",
       "                    <tr>\n",
       "                        <td colspan=\"2\" style=\"text-align: left;\">\n",
       "                            <strong>Local directory: </strong> /jobfs/84369779.gadi-pbs/dask-worker-space/worker-qv10lu1r\n",
       "                        </td>\n",
       "                    </tr>\n",
       "\n",
       "                    \n",
       "\n",
       "                    \n",
       "\n",
       "                </table>\n",
       "            </details>\n",
       "            </div>\n",
       "        </div>\n",
       "        \n",
       "        <div style=\"margin-bottom: 20px;\">\n",
       "            <div style=\"width: 24px; height: 24px; background-color: #DBF5FF; border: 3px solid #4CC9FF; border-radius: 5px; position: absolute;\"> </div>\n",
       "            <div style=\"margin-left: 48px;\">\n",
       "            <details>\n",
       "                <summary>\n",
       "                    <h4 style=\"margin-bottom: 0px; display: inline;\">Worker: 4</h4>\n",
       "                </summary>\n",
       "                <table style=\"width: 100%; text-align: left;\">\n",
       "                    <tr>\n",
       "                        <td style=\"text-align: left;\">\n",
       "                            <strong>Comm: </strong> tcp://127.0.0.1:41405\n",
       "                        </td>\n",
       "                        <td style=\"text-align: left;\">\n",
       "                            <strong>Total threads: </strong> 4\n",
       "                        </td>\n",
       "                    </tr>\n",
       "                    <tr>\n",
       "                        <td style=\"text-align: left;\">\n",
       "                            <strong>Dashboard: </strong> <a href=\"/proxy/40489/status\" target=\"_blank\">/proxy/40489/status</a>\n",
       "                        </td>\n",
       "                        <td style=\"text-align: left;\">\n",
       "                            <strong>Memory: </strong> 35.89 GiB\n",
       "                        </td>\n",
       "                    </tr>\n",
       "                    <tr>\n",
       "                        <td style=\"text-align: left;\">\n",
       "                            <strong>Nanny: </strong> tcp://127.0.0.1:33695\n",
       "                        </td>\n",
       "                        <td style=\"text-align: left;\"></td>\n",
       "                    </tr>\n",
       "                    <tr>\n",
       "                        <td colspan=\"2\" style=\"text-align: left;\">\n",
       "                            <strong>Local directory: </strong> /jobfs/84369779.gadi-pbs/dask-worker-space/worker-yimvyekt\n",
       "                        </td>\n",
       "                    </tr>\n",
       "\n",
       "                    \n",
       "\n",
       "                    \n",
       "\n",
       "                </table>\n",
       "            </details>\n",
       "            </div>\n",
       "        </div>\n",
       "        \n",
       "        <div style=\"margin-bottom: 20px;\">\n",
       "            <div style=\"width: 24px; height: 24px; background-color: #DBF5FF; border: 3px solid #4CC9FF; border-radius: 5px; position: absolute;\"> </div>\n",
       "            <div style=\"margin-left: 48px;\">\n",
       "            <details>\n",
       "                <summary>\n",
       "                    <h4 style=\"margin-bottom: 0px; display: inline;\">Worker: 5</h4>\n",
       "                </summary>\n",
       "                <table style=\"width: 100%; text-align: left;\">\n",
       "                    <tr>\n",
       "                        <td style=\"text-align: left;\">\n",
       "                            <strong>Comm: </strong> tcp://127.0.0.1:41821\n",
       "                        </td>\n",
       "                        <td style=\"text-align: left;\">\n",
       "                            <strong>Total threads: </strong> 4\n",
       "                        </td>\n",
       "                    </tr>\n",
       "                    <tr>\n",
       "                        <td style=\"text-align: left;\">\n",
       "                            <strong>Dashboard: </strong> <a href=\"/proxy/46739/status\" target=\"_blank\">/proxy/46739/status</a>\n",
       "                        </td>\n",
       "                        <td style=\"text-align: left;\">\n",
       "                            <strong>Memory: </strong> 35.89 GiB\n",
       "                        </td>\n",
       "                    </tr>\n",
       "                    <tr>\n",
       "                        <td style=\"text-align: left;\">\n",
       "                            <strong>Nanny: </strong> tcp://127.0.0.1:38137\n",
       "                        </td>\n",
       "                        <td style=\"text-align: left;\"></td>\n",
       "                    </tr>\n",
       "                    <tr>\n",
       "                        <td colspan=\"2\" style=\"text-align: left;\">\n",
       "                            <strong>Local directory: </strong> /jobfs/84369779.gadi-pbs/dask-worker-space/worker-gp31_8bp\n",
       "                        </td>\n",
       "                    </tr>\n",
       "\n",
       "                    \n",
       "\n",
       "                    \n",
       "\n",
       "                </table>\n",
       "            </details>\n",
       "            </div>\n",
       "        </div>\n",
       "        \n",
       "        <div style=\"margin-bottom: 20px;\">\n",
       "            <div style=\"width: 24px; height: 24px; background-color: #DBF5FF; border: 3px solid #4CC9FF; border-radius: 5px; position: absolute;\"> </div>\n",
       "            <div style=\"margin-left: 48px;\">\n",
       "            <details>\n",
       "                <summary>\n",
       "                    <h4 style=\"margin-bottom: 0px; display: inline;\">Worker: 6</h4>\n",
       "                </summary>\n",
       "                <table style=\"width: 100%; text-align: left;\">\n",
       "                    <tr>\n",
       "                        <td style=\"text-align: left;\">\n",
       "                            <strong>Comm: </strong> tcp://127.0.0.1:35081\n",
       "                        </td>\n",
       "                        <td style=\"text-align: left;\">\n",
       "                            <strong>Total threads: </strong> 4\n",
       "                        </td>\n",
       "                    </tr>\n",
       "                    <tr>\n",
       "                        <td style=\"text-align: left;\">\n",
       "                            <strong>Dashboard: </strong> <a href=\"/proxy/44817/status\" target=\"_blank\">/proxy/44817/status</a>\n",
       "                        </td>\n",
       "                        <td style=\"text-align: left;\">\n",
       "                            <strong>Memory: </strong> 35.89 GiB\n",
       "                        </td>\n",
       "                    </tr>\n",
       "                    <tr>\n",
       "                        <td style=\"text-align: left;\">\n",
       "                            <strong>Nanny: </strong> tcp://127.0.0.1:46105\n",
       "                        </td>\n",
       "                        <td style=\"text-align: left;\"></td>\n",
       "                    </tr>\n",
       "                    <tr>\n",
       "                        <td colspan=\"2\" style=\"text-align: left;\">\n",
       "                            <strong>Local directory: </strong> /jobfs/84369779.gadi-pbs/dask-worker-space/worker-bhgv_1y3\n",
       "                        </td>\n",
       "                    </tr>\n",
       "\n",
       "                    \n",
       "\n",
       "                    \n",
       "\n",
       "                </table>\n",
       "            </details>\n",
       "            </div>\n",
       "        </div>\n",
       "        \n",
       "\n",
       "    </details>\n",
       "</div>\n",
       "\n",
       "        </details>\n",
       "    </div>\n",
       "</div>\n",
       "            </details>\n",
       "        \n",
       "\n",
       "    </div>\n",
       "</div>"
      ],
      "text/plain": [
       "<Client: 'tcp://127.0.0.1:45461' processes=7 threads=28, memory=251.20 GiB>"
      ]
     },
     "metadata": {},
     "output_type": "display_data"
    }
   ],
   "source": [
    "from dask.distributed import Client\n",
    "\n",
    "print('starting distributed client...')\n",
    "client = Client()\n",
    "display(client)"
   ]
  },
  {
   "cell_type": "markdown",
   "id": "7f7c9af8-0c76-41ac-b6a5-c4459bca97d9",
   "metadata": {},
   "source": [
    "Create a database session and select an experiment. Here we choose an experiment which has daily velocities saved for the Southern Ocean."
   ]
  },
  {
   "cell_type": "code",
   "execution_count": 10,
   "id": "b14e7931-d2a6-42ab-916c-0cef8d9da963",
   "metadata": {
    "tags": []
   },
   "outputs": [],
   "source": [
    "master_session = cc.database.create_session('/g/data/ik11/databases/cosima_master.db')\n",
    "expt = '01deg_jra55v13_ryf9091'\n",
    "iaf_cycle3 = '01deg_jra55v140_iaf_cycle3'\n",
    "iaf_cycle = '01deg_jra55v140_iaf'\n",
    "\n",
    "first_year = '1958'\n",
    "last_year = '2018'\n",
    "\n",
    "start_time=first_year+'-01-01'\n",
    "end_time=last_year+'-12-31'\n",
    "\n",
    "time_period = str(int(start_time[:4]))+'-'+str(int(end_time[:4]))"
   ]
  },
  {
   "cell_type": "code",
   "execution_count": null,
   "id": "fb75193f-f192-4879-9352-c37a209e1ce7",
   "metadata": {},
   "outputs": [],
   "source": []
  },
  {
   "cell_type": "markdown",
   "id": "0bb6db3d-90f8-46b9-99fc-ff6bd08dd4e0",
   "metadata": {},
   "source": [
    "## Correlation Formula"
   ]
  },
  {
   "cell_type": "code",
   "execution_count": 11,
   "id": "c32f4fd7-17d2-4083-8825-8e813d32dd19",
   "metadata": {
    "tags": []
   },
   "outputs": [],
   "source": [
    "def lag_linregress_3D(x, y, lagx=0, lagy=0):\n",
    "    \"\"\"\n",
    "    Input: Two xr.Datarrays of any dimensions with the first dim being time. \n",
    "    Thus the input data could be a 1D time series, or \n",
    "    for example, have three dimensions (time,lat,lon). \n",
    "    Datasets can be provied in any order, but note that the regression slope and intercept will be calculated\n",
    "    for y with respect to x.\n",
    "    Output: Covariance, correlation, regression slope and intercept, p-value, and standard error on regression\n",
    "    between the two datasets along their aligned time dimension.  \n",
    "    Lag values can be assigned to either of the data, with lagx shifting x, and lagy shifting y, with the specified lag amount. \n",
    "    \"\"\" \n",
    "    #1. Ensure that the data are properly alinged to each other. \n",
    "    x,y = xr.align(x,y)\n",
    "    \n",
    "    #2. Add lag information if any, and shift the data accordingly\n",
    "    if lagx!=0:\n",
    "        #If x lags y by 1, x must be shifted 1 step backwards. \n",
    "        #But as the 'zero-th' value is nonexistant, xr assigns it as invalid (nan). Hence it needs to be dropped\n",
    "        x   = x.shift(time = -lagx).dropna(dim='time')\n",
    "        #Next important step is to re-align the two datasets so that y adjusts to the changed coordinates of x\n",
    "        x,y = xr.align(x,y)\n",
    "\n",
    "    if lagy!=0:\n",
    "        y   = y.shift(time = -lagy).dropna(dim='time')\n",
    "        x,y = xr.align(x,y)\n",
    " \n",
    "    #3. Compute data length, mean and standard deviation along time axis for further use: \n",
    "    x = x.dropna(dim='time')\n",
    "    y = y.dropna(dim='time')\n",
    "    n     = x.shape[0]\n",
    "    xmean = x.mean(axis=0)\n",
    "    ymean = y.mean(axis=0)\n",
    "    xstd  = x.std(axis=0)\n",
    "    ystd  = y.std(axis=0)\n",
    "     \n",
    "    #4. Compute covariance along time axis\n",
    "    cov   =  np.sum((x - xmean)*(y - ymean), axis=0)/(n)\n",
    "    \n",
    "    #5. Compute correlation along time axis\n",
    "    cor   = cov/(xstd*ystd)\n",
    "    \n",
    "    #6. Compute regression slope and intercept:\n",
    "    slope     = cov/(xstd**2)\n",
    "    intercept = ymean - xmean*slope  \n",
    "    \n",
    "    #7. Compute P-value and standard error\n",
    "    #Compute t-statistics\n",
    "    tstats = cor*np.sqrt(n-2)/np.sqrt(1-cor**2)\n",
    "    stderr = slope/tstats\n",
    "    \n",
    "    from scipy.stats import t\n",
    "    pval   = t.sf(tstats, n-2)*2\n",
    "    pval   = xr.DataArray(pval, dims=cor.dims, coords=cor.coords)\n",
    "\n",
    "    return cov,cor,slope,intercept,pval,stderr\n",
    "\n",
    "# detrending function:\n",
    "def detrend_dim(da, dim, deg=1):\n",
    "    # detrend along a single dimension\n",
    "    p = da.polyfit(dim=dim, deg=deg)\n",
    "    fit = xr.polyval(da[dim], p.polyfit_coefficients)\n",
    "    return da - fit"
   ]
  },
  {
   "cell_type": "code",
   "execution_count": null,
   "id": "333ff65f-4d8a-4507-8d6b-58266296b252",
   "metadata": {},
   "outputs": [],
   "source": []
  },
  {
   "cell_type": "markdown",
   "id": "b7c8707b-6638-4e8e-95b4-6e8e14b8082f",
   "metadata": {},
   "source": [
    "### ASC SPEED USING TRANSECT LINE"
   ]
  },
  {
   "cell_type": "code",
   "execution_count": 12,
   "id": "2d1388da-937a-43c0-8294-60c6e36d1957",
   "metadata": {},
   "outputs": [],
   "source": [
    "# depth limits chosen based on transects\n",
    "depth_slice = slice(0, 500)\n",
    "# set this to the rough region of interest:\n",
    "#lat_slice  = slice(-65.5,-65.4)\n",
    "#lat_slice  = -65\n",
    "lat_slice  = slice(-66, -63)\n",
    "lon_slice  = slice(-255, -248)\n",
    "#get U general \n",
    "u_speed = cc.querying.getvar(iaf_cycle3,'u',master_session,\n",
    "                 start_time=start_time, end_time=end_time,frequency='1 monthly').sel(yu_ocean=lat_slice).sel(xu_ocean=lon_slice).sel(st_ocean=depth_slice)"
   ]
  },
  {
   "cell_type": "code",
   "execution_count": 13,
   "id": "37040ef0-8171-4c1c-9c08-275ff8ec6517",
   "metadata": {},
   "outputs": [],
   "source": [
    "# load a sample slice of data to plot just for testing:\n",
    "#temp_slice = temp.sel(st_ocean=400,method='nearest').isel(time=0)\n",
    "u_slice = u_speed.sel(st_ocean=400,method='nearest').mean('time')\n",
    "u_slice = u_slice.load()\n",
    "\n",
    "# also get bathymetry:\n",
    "ht = cc.querying.getvar(iaf_cycle3,'ht' , master_session,n=1)\n",
    "ht = ht.sel(yt_ocean=lat_slice).sel(xt_ocean=lon_slice)\n",
    "ht = ht.load()"
   ]
  },
  {
   "cell_type": "code",
   "execution_count": 14,
   "id": "30ec7beb-5b11-4c83-8c2e-de7206857025",
   "metadata": {},
   "outputs": [
    {
     "data": {
      "image/png": "[encoded data removed]",
      "text/plain": [
       "<Figure size 864x504 with 2 Axes>"
      ]
     },
     "metadata": {
      "image/png": {
       "height": 415,
       "width": 684
      },
      "needs_background": "light"
     },
     "output_type": "display_data"
    }
   ],
   "source": [
    "# define transect start and end points:\n",
    "# Change these values until you get the transect you want:\n",
    "lat0 = -64.7 #64.8\n",
    "lat1= -65.2 #65.1\n",
    "lon0 = -252.6 #252.1\n",
    "lon1 = -250.1 #250.1\n",
    "\n",
    "plt.figure(figsize=(12,7))\n",
    "\n",
    "# plot temperature:\n",
    "plt.pcolormesh(u_slice.xu_ocean,u_slice.yu_ocean,u_slice, cmap=cmocean.balance)#,\n",
    "#              vmin=-2,vmax=1)\n",
    "plt.colorbar()\n",
    "#plt.clim((-2.1,.8))\n",
    "\n",
    "# plot transect location:\n",
    "plt.plot([lon0,lon1],[lat0,lat1],'r')\n",
    "plt.xlim((-255, -248))\n",
    "plt.ylim((-67.5, -63))\n",
    "# plot bathymetry contours:\n",
    "i=plt.contour(ht.xt_ocean,ht.yt_ocean,ht,[1000,2000],colors='k')\n",
    "\n",
    "#save_results_to = '/g/data/jk72/ns3783/Round8'\n",
    "#plt.savefig(save_results_to + 'transect_lat_IAF3.png', dpi=120,bbox_inches='tight', pad_inches=0.1)\n",
    "#plt.savefig(save_results_to + 'transect_asc_trajectory+temp.png', dpi=120,bbox_inches='tight', pad_inches=0.1)"
   ]
  },
  {
   "cell_type": "code",
   "execution_count": null,
   "id": "d687cb77-43b3-4292-a215-38101c2962ac",
   "metadata": {},
   "outputs": [],
   "source": [
    "# Note that this cell is slow, but it will load the entire timeseries along the transect \n",
    "# (which means you could later make movies of this or look at different snapshots):\n",
    "lons = [lon0, lon1]\n",
    "lats = [lat0, lat1]\n",
    "\n",
    "yu_ocean = u_speed.yu_ocean\n",
    "\n",
    "\n",
    "# get latitude of points along transect:\n",
    "lat_transect = yu_ocean.sel(yu_ocean = slice(lats[1],lats[0])).values\n",
    "\n",
    "# calculate slope and intercept of transect line:\n",
    "slope = (lons[0] - lons[1])/(lats[0]-lats[1])\n",
    "intercept = lons[0] - slope * lats[0]\n",
    "\n",
    "# get longitude along transect and convert to xarray:\n",
    "lon_transect = slope * lat_transect + intercept\n",
    "lon_transect = xr.DataArray(lon_transect, dims = 'yu_ocean')\n",
    "\n",
    "# convert to xarray:\n",
    "lat_transect = xr.DataArray(lat_transect, dims = 'yu_ocean')\n",
    "\n",
    "# Extract temp and salt along transect:\n",
    "u_transect = u_speed.sel(xu_ocean = lon_transect, yu_ocean = lat_transect, method = 'nearest')\n",
    "\n",
    "u_transect = u_transect.load()"
   ]
  },
  {
   "cell_type": "code",
   "execution_count": null,
   "id": "82a0d9c3-2bac-40ba-aa29-078adaa7c560",
   "metadata": {},
   "outputs": [],
   "source": [
    "# depth average:\n",
    "# there is no dzu saved\n",
    "# calculate grid thickness, adjusted for partial cells:\n",
    "zlevel1 = 100\n",
    "zlevel2 = 500\n",
    "\n",
    "# import edges of st_ocean and add lat/lon dimensions:\n",
    "st_edges_ocean = cc.querying.getvar(iaf_cycle3,'st_edges_ocean',master_session,\n",
    "                 start_time=start_time, end_time=end_time,n=1)\n",
    "st_edges_array = st_edges_ocean.expand_dims({'yu_ocean':u_speed.yu_ocean,'xu_ocean':u_speed.xu_ocean},axis=[1,2])\n",
    "# import bathymetry:\n",
    "ht = cc.querying.getvar(iaf_cycle3,'hu',master_session,n=1)\n",
    "ht = ht.sel(yu_ocean=lat_slice).sel(xu_ocean=lon_slice)\n",
    "# adjust edges at bottom for partial thickness:\n",
    "st_edges_with_partial = st_edges_array.where(st_edges_array<ht,other=ht)\n",
    "thickness = st_edges_with_partial.diff(dim='st_edges_ocean')\n",
    "\n",
    "# change coordinate of thickness to st_ocean (needed for multipling with other variables):\n",
    "st_ocean = cc.querying.getvar(iaf_cycle3,'st_ocean',master_session,n=1)\n",
    "thickness['st_edges_ocean'] = st_ocean.values\n",
    "thickness = thickness.rename(({'st_edges_ocean':'st_ocean'}))\n",
    "\n",
    "# select correct depths:\n",
    "thickness = thickness.sel(st_ocean=slice(zlevel1,zlevel2))\n",
    "# multiply by thickness to avg\n",
    "u_transect = (u_transect*thickness).sum('st_ocean')/thickness.sum('st_ocean')"
   ]
  },
  {
   "cell_type": "raw",
   "id": "e50b498a-9d65-4f5c-840d-25a8c7636ee7",
   "metadata": {},
   "source": [
    "#AREA WEIGHTING #area t cant be found at iaf_cycle3\n",
    "# area weighting:\n",
    "area_u = cc.querying.getvar('01deg_jra55v13_ryf9091','area_u',master_session, ncfile = 'ocean_grid.nc',n=-1)\n",
    "area_u = area_u.sel(yu_ocean=lat_slice).sel(xu_ocean=lon_slice)\n",
    "\n",
    "\n",
    "#add mask to area_t\n",
    "#NRS added it here because it looks like area weighting also adds zero to masked area instead of nans \n",
    "area_u = area_u*region_mask\n",
    "\n",
    "# sum area:\n",
    "area_u_sum = area_u.sum('xu_ocean').sum('yu_ocean')\n",
    "\n",
    "# Apply area weight:\n",
    "u_transect = (u_transect*area_u).sum('xu_ocean').sum('yu_ocean')/area_u_sum"
   ]
  },
  {
   "cell_type": "code",
   "execution_count": null,
   "id": "f3808559-0def-4973-baea-f0c46418ed84",
   "metadata": {
    "tags": []
   },
   "outputs": [],
   "source": [
    "u_transect = u_transect.mean('xu_ocean').mean('yu_ocean')"
   ]
  },
  {
   "cell_type": "code",
   "execution_count": null,
   "id": "825bed4f-9f90-43d5-8105-320882c25ddc",
   "metadata": {
    "tags": []
   },
   "outputs": [],
   "source": [
    "u_transect = u_transect.load() "
   ]
  },
  {
   "cell_type": "markdown",
   "id": "8bcf123a-c561-4315-9c6d-aabb4802c650",
   "metadata": {
    "tags": []
   },
   "source": [
    "#### Detrend time series both ASC heat flux X and speed time series"
   ]
  },
  {
   "cell_type": "code",
   "execution_count": null,
   "id": "925ac312-73d6-4576-943e-086ea5f76cb7",
   "metadata": {},
   "outputs": [],
   "source": [
    "#asc_X_d = detrend_dim(asc_heat_x,'time')\n",
    "u_speed_td = detrend_dim(u_transect,'time')"
   ]
  },
  {
   "cell_type": "markdown",
   "id": "8e90b3b0-3a29-430f-9300-5f860aa0ff67",
   "metadata": {},
   "source": [
    "#### Apply Rolling mean to them "
   ]
  },
  {
   "cell_type": "code",
   "execution_count": null,
   "id": "80bd5622-2a3d-4034-aa8e-7563a2c96f3a",
   "metadata": {
    "tags": []
   },
   "outputs": [],
   "source": [
    "#asc_X_dr = asc_X_d.rolling(time=12, center=True).mean()\n",
    "u_speed_tdr = u_speed_td.rolling(time=12, center=True).mean()"
   ]
  },
  {
   "cell_type": "code",
   "execution_count": null,
   "id": "738c54d1-7c23-41ed-b962-744bdb1469e3",
   "metadata": {
    "tags": []
   },
   "outputs": [],
   "source": [
    "u_speed_tr = u_transect.rolling(time=12, center=True).mean()"
   ]
  },
  {
   "cell_type": "code",
   "execution_count": null,
   "id": "e4bfad2a-69e5-438a-a8a3-78a6a5c7f1fc",
   "metadata": {},
   "outputs": [],
   "source": []
  },
  {
   "cell_type": "markdown",
   "id": "2d0dff2a-e158-4269-a787-cf1e273196cc",
   "metadata": {},
   "source": [
    "## SEA ICE CONCENTRATION"
   ]
  },
  {
   "cell_type": "markdown",
   "id": "6761c1c7-23ee-4277-afb1-524bda854c02",
   "metadata": {},
   "source": [
    "Here we load sea-ice monthly concentration. Note that aice_m is the monthly average of fractional ice area in each grid cell aka the concentration. To find the actual area of the ice we need to know the area of each cell. Unfortunately, CICE doesn't save this for us ... but the ocean model does. So, let's load area_t from the ocean model, and rename the coordinates in our ice variable to match the ocean model. Then we can multiply the ice concentration with the cell area to get a total ice area."
   ]
  },
  {
   "cell_type": "code",
   "execution_count": null,
   "id": "116f9e76-3ea2-4dc1-bec4-e2ef3aec19b6",
   "metadata": {
    "tags": []
   },
   "outputs": [],
   "source": [
    "# cut the data BOX 1\n",
    "lon_slice  = slice(-258, -248)\n",
    "lat_slice  = slice(-67.5, -61)\n",
    "\n",
    "first_year = '1958'\n",
    "last_year = '2018'\n",
    "\n",
    "start_time=first_year+'-01-01'\n",
    "end_time=last_year+'-12-31'\n",
    "\n",
    "var=cc.querying.getvar(iaf_cycle3,'aice_m' , master_session,frequency='1 monthly',start_time=start_time, end_time=end_time, decode_coords = False)\n",
    "area_t = cc.querying.getvar(iaf_cycle3, 'area_t',master_session,n = 1)\n",
    "var.coords['ni'] = area_t['xt_ocean'].values\n",
    "var.coords['nj'] = area_t['yt_ocean'].values\n",
    "var = var.rename(({'ni':'xt_ocean', 'nj':'yt_ocean'}))\n",
    "ice_all=var.sel(yt_ocean=lat_slice).sel(xt_ocean=lon_slice)\n",
    "#ice_all=ice_all.mean(dim='time')\n",
    "ice_all=ice_all.load()"
   ]
  },
  {
   "cell_type": "code",
   "execution_count": null,
   "id": "1f08ce8d-fd68-4678-974f-145435e1e26d",
   "metadata": {},
   "outputs": [],
   "source": [
    "# cut the data BOX 1\n",
    "#lon_slice  = slice(-252.3, -250.1) \n",
    "lon_slice  = slice(-251, -246) # best -251\n",
    "#lon_slice  = slice(-253.5, -251.1)\n",
    "lat_slice  = slice(-65.6, -63)\n",
    "\n",
    "# topography data:\n",
    "ht = cc.querying.getvar(iaf_cycle3,'ht' , master_session,n=1)\n",
    "ht = ht.sel(yt_ocean=lat_slice).sel(xt_ocean=lon_slice)\n",
    "land_mask = np.squeeze(ht.values)*0\n",
    "land_mask[np.isnan(land_mask)] = 1\n",
    "land_mask = np.where(land_mask==1,land_mask,np.nan)\n",
    "\n",
    "fontsize=16"
   ]
  },
  {
   "cell_type": "markdown",
   "id": "c74661b8-9792-46db-a5c7-091d0a350a72",
   "metadata": {},
   "source": [
    "MAKE MASK FOR BOX 1 offshore in between 1000 and 2000 isopycnals"
   ]
  },
  {
   "cell_type": "code",
   "execution_count": null,
   "id": "17657b10-c22f-41d5-8224-ffdd1b7d6506",
   "metadata": {},
   "outputs": [],
   "source": [
    "# Mask \n",
    "\n",
    "# set to 1 everywhere:\n",
    "region_mask = ht*0 +1\n",
    "\n",
    "# mask open ocean:\n",
    "# shelf masking:\n",
    "contour_file = np.load('/g/data/jk72/ns3783/Antarctic_slope_contour_5001000m.npz')\n",
    "shelf_mask = contour_file['temp_mask']\n",
    "yt_ocean = contour_file['yt_ocean']\n",
    "xt_ocean = contour_file['xt_ocean']\n",
    "# Mask values that are non-zero\n",
    "shelf_mask[np.where(shelf_mask!=0)] = np.nan\n",
    "shelf_mask = shelf_mask+1\n",
    "shelf_mask = xr.DataArray(shelf_mask, coords = [('yt_ocean', yt_ocean), ('xt_ocean', xt_ocean)])\n",
    "\n",
    "region_mask = region_mask * shelf_mask.sel(yt_ocean=lat_slice).sel(xt_ocean=lon_slice)\n",
    "\n",
    "\n",
    "plt.figure(figsize=(8,6))\n",
    "region_mask.plot()\n",
    "plt.contour(ht.xt_ocean,ht.yt_ocean,ht,[700,1000,2000,3000],colors='k')\n",
    "#plt.xlim(-275,-245)\n",
    "plt.contourf(ht.xt_ocean,ht.yt_ocean,land_mask,colors='grey')"
   ]
  },
  {
   "cell_type": "code",
   "execution_count": null,
   "id": "f3d6d423-b722-477e-ad0d-97cd7e9becaa",
   "metadata": {
    "tags": []
   },
   "outputs": [],
   "source": [
    "#apply the mask\n",
    "ice_all_off = ice_all*region_mask\n",
    "ice_all_off = ice_all_off.where(ice_all_off!=0)"
   ]
  },
  {
   "cell_type": "code",
   "execution_count": null,
   "id": "f66e61e9-30ff-4478-aefd-9fd4eaa749ba",
   "metadata": {},
   "outputs": [],
   "source": [
    "# first time step only:\n",
    "iceice=ice_all_off.mean('time')\n",
    "iceice.plot()\n",
    "#ekman_con_off[0,...].plot()"
   ]
  },
  {
   "cell_type": "code",
   "execution_count": null,
   "id": "50a2b4c4-2c20-4ca2-871f-6eb632d74946",
   "metadata": {},
   "outputs": [],
   "source": [
    "#AREA WEIGHTING #area t cant be found at iaf_cycle3\n",
    "# area weighting:\n",
    "area_t = cc.querying.getvar('01deg_jra55v13_ryf9091','area_t',master_session, ncfile = 'ocean_grid.nc',n=-1)\n",
    "area_t = area_t.sel(yt_ocean=lat_slice).sel(xt_ocean=lon_slice)\n",
    "\n",
    "\n",
    "\n",
    "#add mask to area_t\n",
    "#NRS added it here because it looks like area weighting also adds zero to masked area instead of nans \n",
    "area_t = area_t*region_mask\n",
    "\n",
    "# sum area:\n",
    "area_t_sum = area_t.sum('xt_ocean').sum('yt_ocean')\n",
    "\n",
    "# Apply area weight:\n",
    "iceice_a = (ice_all_off*area_t).sum('xt_ocean').sum('yt_ocean')/area_t_sum\n",
    "\n"
   ]
  },
  {
   "cell_type": "code",
   "execution_count": null,
   "id": "0a21d402-5c23-4412-9d7f-ae2d2b765bfc",
   "metadata": {
    "tags": []
   },
   "outputs": [],
   "source": [
    "ice_conc=iceice_a\n",
    "ice_conc = ice_conc.load()"
   ]
  },
  {
   "cell_type": "markdown",
   "id": "17463029-95cf-4d24-b06a-99319d6ca063",
   "metadata": {
    "tags": []
   },
   "source": [
    "### Detrend and rolling mean"
   ]
  },
  {
   "cell_type": "code",
   "execution_count": null,
   "id": "c8f81de2-9565-47e2-bfa5-f82d4db48364",
   "metadata": {
    "tags": []
   },
   "outputs": [],
   "source": [
    "# Note we need to first detrend the data:\n",
    "ice_zad = detrend_dim(ice_conc,'time')\n",
    "ice_zadr = ice_zad.rolling(time=12, center=True).mean()\n",
    "ice_r = ice_conc.rolling(time=12, center=True).mean()\n"
   ]
  },
  {
   "cell_type": "code",
   "execution_count": null,
   "id": "b91baa5e-f2dd-41af-b127-933ae6226fad",
   "metadata": {
    "tags": []
   },
   "outputs": [],
   "source": [
    "ice_r.plot()"
   ]
  },
  {
   "cell_type": "code",
   "execution_count": null,
   "id": "b4824d04-8aae-474e-8865-ffea667525e1",
   "metadata": {},
   "outputs": [],
   "source": []
  },
  {
   "cell_type": "markdown",
   "id": "7a73f552-c323-4859-801c-87b5ff3957fd",
   "metadata": {},
   "source": [
    "## Ekman along the fine slope area "
   ]
  },
  {
   "cell_type": "code",
   "execution_count": null,
   "id": "80d6773f-ceda-4ea2-adfd-06b8c00c4ae8",
   "metadata": {},
   "outputs": [],
   "source": [
    "lon_slice  = slice(-251, -245) \n",
    "lat_slice  = slice(-67.5, -63)\n",
    "\n",
    "\n",
    "# these are the values used by MOM5\n",
    "sigma = 7.292e-5     # Earth's rotation rate in radians/s\n",
    "Rearth = 6371.e3 # Earth's radius in m\n",
    "variable='geolat_c'\n",
    "geolat_c = cc.querying.getvar(iaf_cycle3,'geolat_c',master_session, n=-1).sel(yu_ocean=lat_slice).sel(xu_ocean=lon_slice)\n",
    "\n",
    "f = 2 * sigma * np.sin(np.deg2rad(geolat_c)) # convert lat in radians\n"
   ]
  },
  {
   "cell_type": "code",
   "execution_count": null,
   "id": "f5fea9e6-434b-44bf-8b68-f5897e0cbd4f",
   "metadata": {},
   "outputs": [],
   "source": [
    "#pick the northern latitude, so there are an equal number of t-cell and u-cell gridpoint in this range:\n",
    "lon_slice  = slice(-256, -245) # TRY SAME AS ISOPYCNALS\n",
    "lat_slice  = slice(-67.5, -63)\n",
    "\n",
    "\n",
    "first_year = '1958'\n",
    "last_year = '2018'\n",
    "\n",
    "start_time=first_year+'-01-01'\n",
    "end_time=last_year+'-12-31'\n",
    "\n",
    "tau_x_con = cc.querying.getvar(iaf_cycle3, 'tau_x', master_session, frequency='1 monthly',start_time=start_time, end_time=end_time).sel(yu_ocean=lat_slice).sel(xu_ocean=lon_slice)\n",
    "tau_x_con = tau_x_con.load()\n",
    "\n",
    "tau_y_con = cc.querying.getvar(iaf_cycle3, 'tau_y', master_session, frequency='1 monthly',start_time=start_time, end_time=end_time).sel(yu_ocean=lat_slice).sel(xu_ocean=lon_slice)\n",
    "tau_y_con = tau_y_con.load()"
   ]
  },
  {
   "cell_type": "code",
   "execution_count": null,
   "id": "177e5075-764b-4403-9667-1d0ffd130323",
   "metadata": {},
   "outputs": [],
   "source": [
    "# database for control simulation:\n",
    "control = '01deg_jra55v13_ryf9091'\n",
    "\n",
    "# Need to use these unmasked dxu and dyu, because otherwise it spreads the mask and we miss the Ekman pumping in the first ocean cell.\n",
    "\n",
    "tau_x_con_full = cc.querying.getvar(control, 'tau_x', master_session, ncfile='ocean_month.nc',start_time=start_time, end_time=end_time)\n",
    "dyu = cc.querying.getvar(control, 'dyu', master_session, n=1)\n",
    "dyu['ni'] = tau_x_con_full['xu_ocean'].values\n",
    "dyu['nj'] = tau_x_con_full['yu_ocean'].values\n",
    "#dyu = dyu.rename(({'nk':'time','ni':'xu_ocean', 'nj':'yu_ocean'}))\n",
    "dyu = dyu.rename(({'ni':'xu_ocean', 'nj':'yu_ocean'}))\n",
    "dyu = dyu.sel(yu_ocean=lat_slice)\n",
    "\n",
    "dxu = cc.querying.getvar(control, 'dxu', master_session, n=1)\n",
    "dxu['ni'] = tau_x_con_full['xu_ocean'].values\n",
    "dxu['nj'] = tau_x_con_full['yu_ocean'].values\n",
    "#dxu = dxu.rename(({'nk':'time','ni':'xu_ocean', 'nj':'yu_ocean'}))\n",
    "dxu = dxu.rename(({'ni':'xu_ocean', 'nj':'yu_ocean'}))\n",
    "dxu = dxu.sel(yu_ocean=lat_slice)"
   ]
  },
  {
   "cell_type": "code",
   "execution_count": null,
   "id": "978b9bee-536b-4239-b80f-647c4ac5cb15",
   "metadata": {},
   "outputs": [],
   "source": [
    "# See https://cosima-recipes.readthedocs.io/en/latest/documented_examples/RelativeVorticity.html#gallery-documented-examples-relativevorticity-ipynb\n",
    "#ds = xr.open_mfdataset('/g/data/ik11/outputs/access-om2-01/01deg_jra55v13_ryf9091/output000/ocean/ocean_grid.nc', combine='by_coords')\n",
    "#inverse_dxtn = 0.5*(1/ds.dxu + np.roll(1/ds.dxu, 1, axis=1))\n",
    "#inverse_dyte = 0.5*(1/ds.dyu + np.roll(1/ds.dyu, 1, axis=1))\n",
    "\n",
    "# use dyu from above, because otherwise the nans from land spread:\n",
    "inverse_dyte = 0.5*(1/dyu + np.roll(1/dyu, 1, axis=0))\n",
    "inverse_dxtn = 0.5*(1/dxu + np.roll(1/dxu, 1, axis=0))\n",
    "\n",
    "# fill land with zeros:\n",
    "tauy_f_con = tau_y_con/f\n",
    "tauy_f_con = tauy_f_con.fillna(0)\n",
    "taux_f_con = tau_x_con/f\n",
    "taux_f_con = taux_f_con.fillna(0)"
   ]
  },
  {
   "cell_type": "code",
   "execution_count": null,
   "id": "84883943-cdd4-4403-9045-395c123bce74",
   "metadata": {},
   "outputs": [],
   "source": [
    "# compute derivatives:\n",
    "#d_dx_tauyf_con = (tauy_f_con - np.roll(tauy_f_con, 1, axis=1))*inverse_dxtn\n",
    "d_dx_tauyf_con = (tauy_f_con - np.roll(tauy_f_con, 1, axis=2))*inverse_dxtn\n",
    "#d_dy_tauxf_con = (taux_f_con - np.roll(taux_f_con, 1, axis=0))*inverse_dyte\n",
    "d_dy_tauxf_con = (taux_f_con - np.roll(taux_f_con, 1, axis=1))*inverse_dyte\n",
    "\n",
    "# interpolate onto the same grid:\n",
    "#d_dx_tauyf_con = 0.5 * (d_dx_tauyf_con + np.roll(d_dx_tauyf_con, 1, axis=0))\n",
    "d_dx_tauyf_con = 0.5 * (d_dx_tauyf_con + np.roll(d_dx_tauyf_con, 1, axis=1))\n",
    "#d_dy_tauxf_con = 0.5 * (d_dy_tauxf_con + np.roll(d_dy_tauxf_con, 1, axis=1))\n",
    "d_dy_tauxf_con = 0.5 * (d_dy_tauxf_con + np.roll(d_dy_tauxf_con, 1, axis=2))\n",
    "\n",
    "# compute curl:\n",
    "curl_tauf_con = d_dx_tauyf_con - d_dy_tauxf_con\n",
    "curl_tauf_con = curl_tauf_con.load()\n",
    "\n",
    "#convert from m/s to m/day\n",
    "s_day=60*60*24\n",
    "rho0 = 1035.\n",
    "ekman_con = curl_tauf_con/rho0*s_day\n"
   ]
  },
  {
   "cell_type": "code",
   "execution_count": null,
   "id": "15226848-de10-41c0-bd97-54275e2a0fd4",
   "metadata": {
    "tags": []
   },
   "outputs": [],
   "source": [
    "# quick check that this looks ok:\n",
    "ekman_con.mean('time').plot(vmin=-2,vmax=2,cmap=cmocean.balance)"
   ]
  },
  {
   "cell_type": "code",
   "execution_count": null,
   "id": "27a561bf-cdaf-48bf-b96c-11ac36e64f00",
   "metadata": {},
   "outputs": [],
   "source": [
    "# cut the data BOX 1\n",
    "#lon_slice  = slice(-252.3, -250.1) \n",
    "lon_slice  = slice(-251, -246) # best -251\n",
    "#lon_slice  = slice(-253.5, -251.1)\n",
    "lat_slice  = slice(-65.6, -63)\n",
    "\n",
    "# topography data:\n",
    "hu = cc.querying.getvar(iaf_cycle3,'hu' , master_session,n=1)\n",
    "hu = hu.sel(yu_ocean=lat_slice).sel(xu_ocean=lon_slice)\n",
    "land_maskU = np.squeeze(hu.values)*0\n",
    "land_maskU[np.isnan(land_maskU)] = 1\n",
    "land_maskU = np.where(land_maskU==1,land_maskU,np.nan)"
   ]
  },
  {
   "cell_type": "code",
   "execution_count": null,
   "id": "7bee310d-18ba-45aa-8210-c614816e7577",
   "metadata": {},
   "outputs": [],
   "source": [
    "# Mask \n",
    "\n",
    "# set to 1 everywhere:\n",
    "region_mask = hu*0 +1\n",
    "\n",
    "# mask open ocean:\n",
    "# shelf masking:\n",
    "contour_file = np.load('/g/data/jk72/ns3783/Antarctic_slope_contour_U5001000m.npz')\n",
    "shelf_mask = contour_file['temp_maskU']\n",
    "yu_ocean = contour_file['yu_ocean']\n",
    "xu_ocean = contour_file['xu_ocean']\n",
    "# Mask values that are non-zero\n",
    "shelf_mask[np.where(shelf_mask!=0)] = np.nan\n",
    "shelf_mask = shelf_mask+1\n",
    "shelf_mask = xr.DataArray(shelf_mask, coords = [('yu_ocean', yu_ocean), ('xu_ocean', xu_ocean)])\n",
    "\n",
    "region_mask = region_mask * shelf_mask.sel(yu_ocean=lat_slice).sel(xu_ocean=lon_slice)\n",
    "\n",
    "\n",
    "#plt.figure(figsize=(8,6))\n",
    "region_mask.plot()\n",
    "#i=plt.contour(hu.xu_ocean,hu.yu_ocean,hu,[1000,2000,3000],colors='k')\n",
    "i=plt.contour(hu.xu_ocean,hu.yu_ocean,hu,[550,600,650,900,1050,2000,3000],colors='b')\n",
    "#plt.xlim(-275,-245)\n",
    "plt.contourf(hu.xu_ocean,hu.yu_ocean,land_maskU,colors='grey')"
   ]
  },
  {
   "cell_type": "code",
   "execution_count": null,
   "id": "23e36b4d-59c5-4aae-97dc-e6288e0153f1",
   "metadata": {
    "tags": []
   },
   "outputs": [],
   "source": [
    "#apply the mask\n",
    "ekman_con_off = ekman_con*region_mask\n",
    "ekman_con_off = ekman_con_off.where(ekman_con_off!=0)"
   ]
  },
  {
   "cell_type": "code",
   "execution_count": null,
   "id": "0819a339-a033-4265-9197-cfa67d404572",
   "metadata": {},
   "outputs": [],
   "source": [
    "# first time step only:\n",
    "ek=ekman_con_off.mean('time')\n",
    "ek.plot()\n",
    "#ekman_con_off[0,...].plot()"
   ]
  },
  {
   "cell_type": "code",
   "execution_count": null,
   "id": "1b0ccca0-0591-421f-863f-7cb79e3d4f47",
   "metadata": {},
   "outputs": [],
   "source": [
    "#AREA WEIGHTING #area t cant be found at iaf_cycle3\n",
    "# area weighting:\n",
    "area_u = cc.querying.getvar('01deg_jra55v13_ryf9091','area_u',master_session, ncfile = 'ocean_grid.nc',n=-1)\n",
    "area_u = area_u.sel(yu_ocean=lat_slice).sel(xu_ocean=lon_slice)\n",
    "\n",
    "\n",
    "#add mask to area_t\n",
    "#NRS added it here because it looks like area weighting also adds zero to masked area instead of nans \n",
    "area_u = area_u*region_mask\n",
    "\n",
    "# sum area:\n",
    "area_u_sum = area_u.sum('xu_ocean').sum('yu_ocean')\n",
    "\n",
    "# Apply area weight:\n",
    "ekman_con_a = (ekman_con_off*area_u).sum('xu_ocean').sum('yu_ocean')/area_u_sum"
   ]
  },
  {
   "cell_type": "code",
   "execution_count": null,
   "id": "9ba7c394-11e8-4e8b-8d78-9267c6023171",
   "metadata": {
    "tags": []
   },
   "outputs": [],
   "source": [
    "#load the variable\n",
    "ekman_con_a = ekman_con_a.load()"
   ]
  },
  {
   "cell_type": "code",
   "execution_count": null,
   "id": "69770043-f715-44ea-8240-f172f2303e8e",
   "metadata": {},
   "outputs": [],
   "source": []
  },
  {
   "cell_type": "markdown",
   "id": "4f083565-7fb1-4327-963f-b311aa23a342",
   "metadata": {
    "tags": []
   },
   "source": [
    "### Detrend and rolling mean"
   ]
  },
  {
   "cell_type": "code",
   "execution_count": null,
   "id": "5f10707a-bf25-418e-9bcf-8dd91e25611b",
   "metadata": {
    "tags": []
   },
   "outputs": [],
   "source": [
    "# Note we need to first detrend the data:\n",
    "ekman_zad = detrend_dim(ekman_con_a,'time')\n",
    "ekman_zadr = ekman_zad.rolling(time=12, center=True).mean()\n",
    "ekman_r = ekman_con_a.rolling(time=12, center=True).mean()\n"
   ]
  },
  {
   "cell_type": "code",
   "execution_count": null,
   "id": "426d02f4-e846-43ea-9fde-ca7a32797c04",
   "metadata": {
    "tags": []
   },
   "outputs": [],
   "source": [
    "ekman_r.plot()"
   ]
  },
  {
   "cell_type": "code",
   "execution_count": null,
   "id": "0905f23e-05f3-457c-b415-8d17d761c98c",
   "metadata": {},
   "outputs": [],
   "source": []
  },
  {
   "cell_type": "code",
   "execution_count": null,
   "id": "1b3a3a72-ac4f-4afa-9825-32f7f7a7b7a5",
   "metadata": {},
   "outputs": [],
   "source": []
  },
  {
   "cell_type": "markdown",
   "id": "1e55d4fd-efad-47a9-ab9b-93cd01c5d8e7",
   "metadata": {},
   "source": [
    "### CORRELATIONS WITH Ekman vs Sea ice"
   ]
  },
  {
   "cell_type": "code",
   "execution_count": 115,
   "id": "5c25d166-a58c-4cf1-a116-5cbcd00c8bc9",
   "metadata": {
    "tags": []
   },
   "outputs": [
    {
     "name": "stdout",
     "output_type": "stream",
     "text": [
      "lag -23 :  <xarray.DataArray ()>\n",
      "array(-0.11643974)\n",
      "lag -22 :  <xarray.DataArray ()>\n",
      "array(-0.08539282)\n",
      "lag -21 :  <xarray.DataArray ()>\n",
      "array(-0.0534703)\n",
      "lag -20 :  <xarray.DataArray ()>\n",
      "array(-0.02280354)\n",
      "lag -19 :  <xarray.DataArray ()>\n",
      "array(0.00569582)\n",
      "lag -18 :  <xarray.DataArray ()>\n",
      "array(0.02538568)\n",
      "lag -17 :  <xarray.DataArray ()>\n",
      "array(0.04075695)\n",
      "lag -16 :  <xarray.DataArray ()>\n",
      "array(0.0546217)\n",
      "lag -15 :  <xarray.DataArray ()>\n",
      "array(0.0641575)\n",
      "lag -14 :  <xarray.DataArray ()>\n",
      "array(0.06818402)\n",
      "lag -13 :  <xarray.DataArray ()>\n",
      "array(0.06523871)\n",
      "lag -12 :  <xarray.DataArray ()>\n",
      "array(0.05496033)\n",
      "lag -11 :  <xarray.DataArray ()>\n",
      "array(0.03773935)\n",
      "lag -10 :  <xarray.DataArray ()>\n",
      "array(0.01738559)\n",
      "lag -9 :  <xarray.DataArray ()>\n",
      "array(-0.00272374)\n",
      "lag -8 :  <xarray.DataArray ()>\n",
      "array(-0.019949)\n",
      "lag -7 :  <xarray.DataArray ()>\n",
      "array(-0.03463975)\n",
      "lag -6 :  <xarray.DataArray ()>\n",
      "array(-0.04451621)\n",
      "lag -5 :  <xarray.DataArray ()>\n",
      "array(-0.05314461)\n",
      "lag -4 :  <xarray.DataArray ()>\n",
      "array(-0.06169237)\n",
      "lag -3 :  <xarray.DataArray ()>\n",
      "array(-0.06986342)\n",
      "lag -2 :  <xarray.DataArray ()>\n",
      "array(-0.08071844)\n",
      "lag -1 :  <xarray.DataArray ()>\n",
      "array(-0.09396263)\n",
      "lag 0 :  <xarray.DataArray ()>\n",
      "array(-0.10109591)\n"
     ]
    }
   ],
   "source": [
    "# AA\n",
    "s=24;\n",
    "for i in range(-s,0):\n",
    "    cov,cor,slope,intercept,pval,stderr = lag_linregress_3D(ekman_zadr,ice_zadr,\n",
    "                                                       lagx=0, lagy=i)\n",
    "\n",
    "    print('lag', i+1, ': ',cor)"
   ]
  },
  {
   "cell_type": "code",
   "execution_count": null,
   "id": "73b1af0f-4c0c-49a7-939e-502bfc074157",
   "metadata": {},
   "outputs": [],
   "source": []
  }
 ],
 "metadata": {
  "kernelspec": {
   "display_name": "Python [conda env:analysis3-22.07]",
   "language": "python",
   "name": "conda-env-analysis3-22.07-py"
  },
  "language_info": {
   "codemirror_mode": {
    "name": "ipython",
    "version": 3
   },
   "file_extension": ".py",
   "mimetype": "text/x-python",
   "name": "python",
   "nbconvert_exporter": "python",
   "pygments_lexer": "ipython3",
   "version": "3.9.15"
  }
 },
 "nbformat": 4,
 "nbformat_minor": 5
}
