{
 "cells": [
  {
   "cell_type": "markdown",
   "id": "284ebb8d-9894-437b-97e4-227e2281996f",
   "metadata": {
    "tags": []
   },
   "source": [
    "## Plot new correlations and new time series between\n",
    "### Temperature / Isopycnal / Ekman Pump / ASC"
   ]
  },
  {
   "cell_type": "markdown",
   "id": "52958b8f-4a2e-46ad-a64d-36d0149b0dbc",
   "metadata": {},
   "source": [
    "## Correlation Formula"
   ]
  },
  {
   "cell_type": "code",
   "execution_count": 1,
   "id": "0db9eb1a-d5aa-4e06-8d96-26fa8da59bee",
   "metadata": {},
   "outputs": [],
   "source": [
    "def lag_linregress_3D(x, y, lagx=0, lagy=0):\n",
    "    \"\"\"\n",
    "    Input: Two xr.Datarrays of any dimensions with the first dim being time. \n",
    "    Thus the input data could be a 1D time series, or \n",
    "    for example, have three dimensions (time,lat,lon). \n",
    "    Datasets can be provied in any order, but note that the regression slope and intercept will be calculated\n",
    "    for y with respect to x.\n",
    "    Output: Covariance, correlation, regression slope and intercept, p-value, and standard error on regression\n",
    "    between the two datasets along their aligned time dimension.  \n",
    "    Lag values can be assigned to either of the data, with lagx shifting x, and lagy shifting y, with the specified lag amount. \n",
    "    \"\"\" \n",
    "    #1. Ensure that the data are properly alinged to each other. \n",
    "    x,y = xr.align(x,y)\n",
    "    \n",
    "    #2. Add lag information if any, and shift the data accordingly\n",
    "    if lagx!=0:\n",
    "        #If x lags y by 1, x must be shifted 1 step backwards. \n",
    "        #But as the 'zero-th' value is nonexistant, xr assigns it as invalid (nan). Hence it needs to be dropped\n",
    "        x   = x.shift(time = -lagx).dropna(dim='time')\n",
    "        #Next important step is to re-align the two datasets so that y adjusts to the changed coordinates of x\n",
    "        x,y = xr.align(x,y)\n",
    "\n",
    "    if lagy!=0:\n",
    "        y   = y.shift(time = -lagy).dropna(dim='time')\n",
    "        x,y = xr.align(x,y)\n",
    " \n",
    "    #3. Compute data length, mean and standard deviation along time axis for further use: \n",
    "    n     = x.shape[0]\n",
    "    xmean = x.mean(axis=0)\n",
    "    ymean = y.mean(axis=0)\n",
    "    xstd  = x.std(axis=0)\n",
    "    ystd  = y.std(axis=0)\n",
    "     \n",
    "    #4. Compute covariance along time axis\n",
    "    cov   =  np.sum((x - xmean)*(y - ymean), axis=0)/(n)\n",
    "    \n",
    "    #5. Compute correlation along time axis\n",
    "    cor   = cov/(xstd*ystd)\n",
    "    \n",
    "    #6. Compute regression slope and intercept:\n",
    "    slope     = cov/(xstd**2)\n",
    "    intercept = ymean - xmean*slope  \n",
    "    \n",
    "    #7. Compute P-value and standard error\n",
    "    #Compute t-statistics\n",
    "    tstats = cor*np.sqrt(n-2)/np.sqrt(1-cor**2)\n",
    "    stderr = slope/tstats\n",
    "    \n",
    "    from scipy.stats import t\n",
    "    pval   = t.sf(tstats, n-2)*2\n",
    "    pval   = xr.DataArray(pval, dims=cor.dims, coords=cor.coords)\n",
    "\n",
    "    return cov,cor,slope,intercept,pval,stderr\n",
    "\n",
    "# detrending function:\n",
    "def detrend_dim(da, dim, deg=1):\n",
    "    # detrend along a single dimension\n",
    "    p = da.polyfit(dim=dim, deg=deg)\n",
    "    fit = xr.polyval(da[dim], p.polyfit_coefficients)\n",
    "    return da - fit"
   ]
  },
  {
   "cell_type": "markdown",
   "id": "37e12ace-23c6-42f6-978e-9c237724dc5c",
   "metadata": {
    "tags": []
   },
   "source": [
    "## Loading datasets\n"
   ]
  },
  {
   "cell_type": "code",
   "execution_count": 2,
   "id": "9e6f8a4d-2a46-4421-8cba-d5b1abbf4caa",
   "metadata": {},
   "outputs": [],
   "source": [
    "%matplotlib inline\n",
    "\n",
    "import cosima_cookbook as cc\n",
    "import matplotlib.pyplot as plt\n",
    "import numpy as np\n",
    "import netCDF4 as nc\n",
    "import xarray as xr\n",
    "import cmocean.cm as cmocean\n",
    "from collections import OrderedDict\n",
    "import cartopy.crs as ccrs\n",
    "import matplotlib.path as mpath\n",
    "import cftime\n",
    "import glob\n",
    "import dask\n",
    "import os\n",
    "import datetime\n",
    "import matplotlib.colors as col\n",
    "import gsw\n",
    "from mpl_toolkits.axes_grid1 import make_axes_locatable\n",
    "from datetime import timedelta\n",
    "\n",
    "import logging\n",
    "logging.captureWarnings(True)\n",
    "logging.getLogger('py.warnings').setLevel(logging.ERROR)\n",
    "\n",
    "from dask.distributed import Client\n",
    "# from cosima_cookbook import distributed as ccd"
   ]
  },
  {
   "cell_type": "code",
   "execution_count": 3,
   "id": "2b3dbec6-5e75-411f-a4de-7941b4eabfdc",
   "metadata": {},
   "outputs": [
    {
     "name": "stdout",
     "output_type": "stream",
     "text": [
      "starting distributed client...\n"
     ]
    },
    {
     "data": {
      "text/html": [
       "<div>\n",
       "    <div style=\"width: 24px; height: 24px; background-color: #e1e1e1; border: 3px solid #9D9D9D; border-radius: 5px; position: absolute;\"> </div>\n",
       "    <div style=\"margin-left: 48px;\">\n",
       "        <h3 style=\"margin-bottom: 0px;\">Client</h3>\n",
       "        <p style=\"color: #9D9D9D; margin-bottom: 0px;\">Client-ac970909-d5df-11ed-8e5b-00000747fe80</p>\n",
       "        <table style=\"width: 100%; text-align: left;\">\n",
       "\n",
       "        <tr>\n",
       "        \n",
       "            <td style=\"text-align: left;\"><strong>Connection method:</strong> Cluster object</td>\n",
       "            <td style=\"text-align: left;\"><strong>Cluster type:</strong> distributed.LocalCluster</td>\n",
       "        \n",
       "        </tr>\n",
       "\n",
       "        \n",
       "            <tr>\n",
       "                <td style=\"text-align: left;\">\n",
       "                    <strong>Dashboard: </strong> <a href=\"/proxy/8787/status\" target=\"_blank\">/proxy/8787/status</a>\n",
       "                </td>\n",
       "                <td style=\"text-align: left;\"></td>\n",
       "            </tr>\n",
       "        \n",
       "\n",
       "        </table>\n",
       "\n",
       "        \n",
       "            <details>\n",
       "            <summary style=\"margin-bottom: 20px;\"><h3 style=\"display: inline;\">Cluster Info</h3></summary>\n",
       "            <div class=\"jp-RenderedHTMLCommon jp-RenderedHTML jp-mod-trusted jp-OutputArea-output\">\n",
       "    <div style=\"width: 24px; height: 24px; background-color: #e1e1e1; border: 3px solid #9D9D9D; border-radius: 5px; position: absolute;\">\n",
       "    </div>\n",
       "    <div style=\"margin-left: 48px;\">\n",
       "        <h3 style=\"margin-bottom: 0px; margin-top: 0px;\">LocalCluster</h3>\n",
       "        <p style=\"color: #9D9D9D; margin-bottom: 0px;\">a1c29c8b</p>\n",
       "        <table style=\"width: 100%; text-align: left;\">\n",
       "            <tr>\n",
       "                <td style=\"text-align: left;\">\n",
       "                    <strong>Dashboard:</strong> <a href=\"/proxy/8787/status\" target=\"_blank\">/proxy/8787/status</a>\n",
       "                </td>\n",
       "                <td style=\"text-align: left;\">\n",
       "                    <strong>Workers:</strong> 7\n",
       "                </td>\n",
       "            </tr>\n",
       "            <tr>\n",
       "                <td style=\"text-align: left;\">\n",
       "                    <strong>Total threads:</strong> 14\n",
       "                </td>\n",
       "                <td style=\"text-align: left;\">\n",
       "                    <strong>Total memory:</strong> 63.00 GiB\n",
       "                </td>\n",
       "            </tr>\n",
       "            \n",
       "            <tr>\n",
       "    <td style=\"text-align: left;\"><strong>Status:</strong> running</td>\n",
       "    <td style=\"text-align: left;\"><strong>Using processes:</strong> True</td>\n",
       "</tr>\n",
       "\n",
       "            \n",
       "        </table>\n",
       "\n",
       "        <details>\n",
       "            <summary style=\"margin-bottom: 20px;\">\n",
       "                <h3 style=\"display: inline;\">Scheduler Info</h3>\n",
       "            </summary>\n",
       "\n",
       "            <div style=\"\">\n",
       "    <div>\n",
       "        <div style=\"width: 24px; height: 24px; background-color: #FFF7E5; border: 3px solid #FF6132; border-radius: 5px; position: absolute;\"> </div>\n",
       "        <div style=\"margin-left: 48px;\">\n",
       "            <h3 style=\"margin-bottom: 0px;\">Scheduler</h3>\n",
       "            <p style=\"color: #9D9D9D; margin-bottom: 0px;\">Scheduler-e9878237-bf90-44ab-aa5d-454c2faed096</p>\n",
       "            <table style=\"width: 100%; text-align: left;\">\n",
       "                <tr>\n",
       "                    <td style=\"text-align: left;\">\n",
       "                        <strong>Comm:</strong> tcp://127.0.0.1:42659\n",
       "                    </td>\n",
       "                    <td style=\"text-align: left;\">\n",
       "                        <strong>Workers:</strong> 7\n",
       "                    </td>\n",
       "                </tr>\n",
       "                <tr>\n",
       "                    <td style=\"text-align: left;\">\n",
       "                        <strong>Dashboard:</strong> <a href=\"/proxy/8787/status\" target=\"_blank\">/proxy/8787/status</a>\n",
       "                    </td>\n",
       "                    <td style=\"text-align: left;\">\n",
       "                        <strong>Total threads:</strong> 14\n",
       "                    </td>\n",
       "                </tr>\n",
       "                <tr>\n",
       "                    <td style=\"text-align: left;\">\n",
       "                        <strong>Started:</strong> Just now\n",
       "                    </td>\n",
       "                    <td style=\"text-align: left;\">\n",
       "                        <strong>Total memory:</strong> 63.00 GiB\n",
       "                    </td>\n",
       "                </tr>\n",
       "            </table>\n",
       "        </div>\n",
       "    </div>\n",
       "\n",
       "    <details style=\"margin-left: 48px;\">\n",
       "        <summary style=\"margin-bottom: 20px;\">\n",
       "            <h3 style=\"display: inline;\">Workers</h3>\n",
       "        </summary>\n",
       "\n",
       "        \n",
       "        <div style=\"margin-bottom: 20px;\">\n",
       "            <div style=\"width: 24px; height: 24px; background-color: #DBF5FF; border: 3px solid #4CC9FF; border-radius: 5px; position: absolute;\"> </div>\n",
       "            <div style=\"margin-left: 48px;\">\n",
       "            <details>\n",
       "                <summary>\n",
       "                    <h4 style=\"margin-bottom: 0px; display: inline;\">Worker: 0</h4>\n",
       "                </summary>\n",
       "                <table style=\"width: 100%; text-align: left;\">\n",
       "                    <tr>\n",
       "                        <td style=\"text-align: left;\">\n",
       "                            <strong>Comm: </strong> tcp://127.0.0.1:37427\n",
       "                        </td>\n",
       "                        <td style=\"text-align: left;\">\n",
       "                            <strong>Total threads: </strong> 2\n",
       "                        </td>\n",
       "                    </tr>\n",
       "                    <tr>\n",
       "                        <td style=\"text-align: left;\">\n",
       "                            <strong>Dashboard: </strong> <a href=\"/proxy/43897/status\" target=\"_blank\">/proxy/43897/status</a>\n",
       "                        </td>\n",
       "                        <td style=\"text-align: left;\">\n",
       "                            <strong>Memory: </strong> 9.00 GiB\n",
       "                        </td>\n",
       "                    </tr>\n",
       "                    <tr>\n",
       "                        <td style=\"text-align: left;\">\n",
       "                            <strong>Nanny: </strong> tcp://127.0.0.1:46337\n",
       "                        </td>\n",
       "                        <td style=\"text-align: left;\"></td>\n",
       "                    </tr>\n",
       "                    <tr>\n",
       "                        <td colspan=\"2\" style=\"text-align: left;\">\n",
       "                            <strong>Local directory: </strong> /jobfs/78852335.gadi-pbs/dask-worker-space/worker-l2lhesrn\n",
       "                        </td>\n",
       "                    </tr>\n",
       "\n",
       "                    \n",
       "\n",
       "                    \n",
       "\n",
       "                </table>\n",
       "            </details>\n",
       "            </div>\n",
       "        </div>\n",
       "        \n",
       "        <div style=\"margin-bottom: 20px;\">\n",
       "            <div style=\"width: 24px; height: 24px; background-color: #DBF5FF; border: 3px solid #4CC9FF; border-radius: 5px; position: absolute;\"> </div>\n",
       "            <div style=\"margin-left: 48px;\">\n",
       "            <details>\n",
       "                <summary>\n",
       "                    <h4 style=\"margin-bottom: 0px; display: inline;\">Worker: 1</h4>\n",
       "                </summary>\n",
       "                <table style=\"width: 100%; text-align: left;\">\n",
       "                    <tr>\n",
       "                        <td style=\"text-align: left;\">\n",
       "                            <strong>Comm: </strong> tcp://127.0.0.1:33919\n",
       "                        </td>\n",
       "                        <td style=\"text-align: left;\">\n",
       "                            <strong>Total threads: </strong> 2\n",
       "                        </td>\n",
       "                    </tr>\n",
       "                    <tr>\n",
       "                        <td style=\"text-align: left;\">\n",
       "                            <strong>Dashboard: </strong> <a href=\"/proxy/37581/status\" target=\"_blank\">/proxy/37581/status</a>\n",
       "                        </td>\n",
       "                        <td style=\"text-align: left;\">\n",
       "                            <strong>Memory: </strong> 9.00 GiB\n",
       "                        </td>\n",
       "                    </tr>\n",
       "                    <tr>\n",
       "                        <td style=\"text-align: left;\">\n",
       "                            <strong>Nanny: </strong> tcp://127.0.0.1:36915\n",
       "                        </td>\n",
       "                        <td style=\"text-align: left;\"></td>\n",
       "                    </tr>\n",
       "                    <tr>\n",
       "                        <td colspan=\"2\" style=\"text-align: left;\">\n",
       "                            <strong>Local directory: </strong> /jobfs/78852335.gadi-pbs/dask-worker-space/worker-pdfs155u\n",
       "                        </td>\n",
       "                    </tr>\n",
       "\n",
       "                    \n",
       "\n",
       "                    \n",
       "\n",
       "                </table>\n",
       "            </details>\n",
       "            </div>\n",
       "        </div>\n",
       "        \n",
       "        <div style=\"margin-bottom: 20px;\">\n",
       "            <div style=\"width: 24px; height: 24px; background-color: #DBF5FF; border: 3px solid #4CC9FF; border-radius: 5px; position: absolute;\"> </div>\n",
       "            <div style=\"margin-left: 48px;\">\n",
       "            <details>\n",
       "                <summary>\n",
       "                    <h4 style=\"margin-bottom: 0px; display: inline;\">Worker: 2</h4>\n",
       "                </summary>\n",
       "                <table style=\"width: 100%; text-align: left;\">\n",
       "                    <tr>\n",
       "                        <td style=\"text-align: left;\">\n",
       "                            <strong>Comm: </strong> tcp://127.0.0.1:35627\n",
       "                        </td>\n",
       "                        <td style=\"text-align: left;\">\n",
       "                            <strong>Total threads: </strong> 2\n",
       "                        </td>\n",
       "                    </tr>\n",
       "                    <tr>\n",
       "                        <td style=\"text-align: left;\">\n",
       "                            <strong>Dashboard: </strong> <a href=\"/proxy/43149/status\" target=\"_blank\">/proxy/43149/status</a>\n",
       "                        </td>\n",
       "                        <td style=\"text-align: left;\">\n",
       "                            <strong>Memory: </strong> 9.00 GiB\n",
       "                        </td>\n",
       "                    </tr>\n",
       "                    <tr>\n",
       "                        <td style=\"text-align: left;\">\n",
       "                            <strong>Nanny: </strong> tcp://127.0.0.1:35293\n",
       "                        </td>\n",
       "                        <td style=\"text-align: left;\"></td>\n",
       "                    </tr>\n",
       "                    <tr>\n",
       "                        <td colspan=\"2\" style=\"text-align: left;\">\n",
       "                            <strong>Local directory: </strong> /jobfs/78852335.gadi-pbs/dask-worker-space/worker-k7toflfm\n",
       "                        </td>\n",
       "                    </tr>\n",
       "\n",
       "                    \n",
       "\n",
       "                    \n",
       "\n",
       "                </table>\n",
       "            </details>\n",
       "            </div>\n",
       "        </div>\n",
       "        \n",
       "        <div style=\"margin-bottom: 20px;\">\n",
       "            <div style=\"width: 24px; height: 24px; background-color: #DBF5FF; border: 3px solid #4CC9FF; border-radius: 5px; position: absolute;\"> </div>\n",
       "            <div style=\"margin-left: 48px;\">\n",
       "            <details>\n",
       "                <summary>\n",
       "                    <h4 style=\"margin-bottom: 0px; display: inline;\">Worker: 3</h4>\n",
       "                </summary>\n",
       "                <table style=\"width: 100%; text-align: left;\">\n",
       "                    <tr>\n",
       "                        <td style=\"text-align: left;\">\n",
       "                            <strong>Comm: </strong> tcp://127.0.0.1:39485\n",
       "                        </td>\n",
       "                        <td style=\"text-align: left;\">\n",
       "                            <strong>Total threads: </strong> 2\n",
       "                        </td>\n",
       "                    </tr>\n",
       "                    <tr>\n",
       "                        <td style=\"text-align: left;\">\n",
       "                            <strong>Dashboard: </strong> <a href=\"/proxy/38067/status\" target=\"_blank\">/proxy/38067/status</a>\n",
       "                        </td>\n",
       "                        <td style=\"text-align: left;\">\n",
       "                            <strong>Memory: </strong> 9.00 GiB\n",
       "                        </td>\n",
       "                    </tr>\n",
       "                    <tr>\n",
       "                        <td style=\"text-align: left;\">\n",
       "                            <strong>Nanny: </strong> tcp://127.0.0.1:42503\n",
       "                        </td>\n",
       "                        <td style=\"text-align: left;\"></td>\n",
       "                    </tr>\n",
       "                    <tr>\n",
       "                        <td colspan=\"2\" style=\"text-align: left;\">\n",
       "                            <strong>Local directory: </strong> /jobfs/78852335.gadi-pbs/dask-worker-space/worker-5dcq4f1w\n",
       "                        </td>\n",
       "                    </tr>\n",
       "\n",
       "                    \n",
       "\n",
       "                    \n",
       "\n",
       "                </table>\n",
       "            </details>\n",
       "            </div>\n",
       "        </div>\n",
       "        \n",
       "        <div style=\"margin-bottom: 20px;\">\n",
       "            <div style=\"width: 24px; height: 24px; background-color: #DBF5FF; border: 3px solid #4CC9FF; border-radius: 5px; position: absolute;\"> </div>\n",
       "            <div style=\"margin-left: 48px;\">\n",
       "            <details>\n",
       "                <summary>\n",
       "                    <h4 style=\"margin-bottom: 0px; display: inline;\">Worker: 4</h4>\n",
       "                </summary>\n",
       "                <table style=\"width: 100%; text-align: left;\">\n",
       "                    <tr>\n",
       "                        <td style=\"text-align: left;\">\n",
       "                            <strong>Comm: </strong> tcp://127.0.0.1:45281\n",
       "                        </td>\n",
       "                        <td style=\"text-align: left;\">\n",
       "                            <strong>Total threads: </strong> 2\n",
       "                        </td>\n",
       "                    </tr>\n",
       "                    <tr>\n",
       "                        <td style=\"text-align: left;\">\n",
       "                            <strong>Dashboard: </strong> <a href=\"/proxy/44329/status\" target=\"_blank\">/proxy/44329/status</a>\n",
       "                        </td>\n",
       "                        <td style=\"text-align: left;\">\n",
       "                            <strong>Memory: </strong> 9.00 GiB\n",
       "                        </td>\n",
       "                    </tr>\n",
       "                    <tr>\n",
       "                        <td style=\"text-align: left;\">\n",
       "                            <strong>Nanny: </strong> tcp://127.0.0.1:39919\n",
       "                        </td>\n",
       "                        <td style=\"text-align: left;\"></td>\n",
       "                    </tr>\n",
       "                    <tr>\n",
       "                        <td colspan=\"2\" style=\"text-align: left;\">\n",
       "                            <strong>Local directory: </strong> /jobfs/78852335.gadi-pbs/dask-worker-space/worker-sn91eift\n",
       "                        </td>\n",
       "                    </tr>\n",
       "\n",
       "                    \n",
       "\n",
       "                    \n",
       "\n",
       "                </table>\n",
       "            </details>\n",
       "            </div>\n",
       "        </div>\n",
       "        \n",
       "        <div style=\"margin-bottom: 20px;\">\n",
       "            <div style=\"width: 24px; height: 24px; background-color: #DBF5FF; border: 3px solid #4CC9FF; border-radius: 5px; position: absolute;\"> </div>\n",
       "            <div style=\"margin-left: 48px;\">\n",
       "            <details>\n",
       "                <summary>\n",
       "                    <h4 style=\"margin-bottom: 0px; display: inline;\">Worker: 5</h4>\n",
       "                </summary>\n",
       "                <table style=\"width: 100%; text-align: left;\">\n",
       "                    <tr>\n",
       "                        <td style=\"text-align: left;\">\n",
       "                            <strong>Comm: </strong> tcp://127.0.0.1:42771\n",
       "                        </td>\n",
       "                        <td style=\"text-align: left;\">\n",
       "                            <strong>Total threads: </strong> 2\n",
       "                        </td>\n",
       "                    </tr>\n",
       "                    <tr>\n",
       "                        <td style=\"text-align: left;\">\n",
       "                            <strong>Dashboard: </strong> <a href=\"/proxy/41743/status\" target=\"_blank\">/proxy/41743/status</a>\n",
       "                        </td>\n",
       "                        <td style=\"text-align: left;\">\n",
       "                            <strong>Memory: </strong> 9.00 GiB\n",
       "                        </td>\n",
       "                    </tr>\n",
       "                    <tr>\n",
       "                        <td style=\"text-align: left;\">\n",
       "                            <strong>Nanny: </strong> tcp://127.0.0.1:32791\n",
       "                        </td>\n",
       "                        <td style=\"text-align: left;\"></td>\n",
       "                    </tr>\n",
       "                    <tr>\n",
       "                        <td colspan=\"2\" style=\"text-align: left;\">\n",
       "                            <strong>Local directory: </strong> /jobfs/78852335.gadi-pbs/dask-worker-space/worker-4ra7m4m2\n",
       "                        </td>\n",
       "                    </tr>\n",
       "\n",
       "                    \n",
       "\n",
       "                    \n",
       "\n",
       "                </table>\n",
       "            </details>\n",
       "            </div>\n",
       "        </div>\n",
       "        \n",
       "        <div style=\"margin-bottom: 20px;\">\n",
       "            <div style=\"width: 24px; height: 24px; background-color: #DBF5FF; border: 3px solid #4CC9FF; border-radius: 5px; position: absolute;\"> </div>\n",
       "            <div style=\"margin-left: 48px;\">\n",
       "            <details>\n",
       "                <summary>\n",
       "                    <h4 style=\"margin-bottom: 0px; display: inline;\">Worker: 6</h4>\n",
       "                </summary>\n",
       "                <table style=\"width: 100%; text-align: left;\">\n",
       "                    <tr>\n",
       "                        <td style=\"text-align: left;\">\n",
       "                            <strong>Comm: </strong> tcp://127.0.0.1:34471\n",
       "                        </td>\n",
       "                        <td style=\"text-align: left;\">\n",
       "                            <strong>Total threads: </strong> 2\n",
       "                        </td>\n",
       "                    </tr>\n",
       "                    <tr>\n",
       "                        <td style=\"text-align: left;\">\n",
       "                            <strong>Dashboard: </strong> <a href=\"/proxy/41805/status\" target=\"_blank\">/proxy/41805/status</a>\n",
       "                        </td>\n",
       "                        <td style=\"text-align: left;\">\n",
       "                            <strong>Memory: </strong> 9.00 GiB\n",
       "                        </td>\n",
       "                    </tr>\n",
       "                    <tr>\n",
       "                        <td style=\"text-align: left;\">\n",
       "                            <strong>Nanny: </strong> tcp://127.0.0.1:37549\n",
       "                        </td>\n",
       "                        <td style=\"text-align: left;\"></td>\n",
       "                    </tr>\n",
       "                    <tr>\n",
       "                        <td colspan=\"2\" style=\"text-align: left;\">\n",
       "                            <strong>Local directory: </strong> /jobfs/78852335.gadi-pbs/dask-worker-space/worker-1m9tran8\n",
       "                        </td>\n",
       "                    </tr>\n",
       "\n",
       "                    \n",
       "\n",
       "                    \n",
       "\n",
       "                </table>\n",
       "            </details>\n",
       "            </div>\n",
       "        </div>\n",
       "        \n",
       "\n",
       "    </details>\n",
       "</div>\n",
       "\n",
       "        </details>\n",
       "    </div>\n",
       "</div>\n",
       "            </details>\n",
       "        \n",
       "\n",
       "    </div>\n",
       "</div>"
      ],
      "text/plain": [
       "<Client: 'tcp://127.0.0.1:42659' processes=7 threads=14, memory=63.00 GiB>"
      ]
     },
     "metadata": {},
     "output_type": "display_data"
    }
   ],
   "source": [
    "from dask.distributed import Client\n",
    "\n",
    "print('starting distributed client...')\n",
    "client = Client()\n",
    "display(client)"
   ]
  },
  {
   "cell_type": "code",
   "execution_count": 4,
   "id": "12b7dcc9-da8b-445f-ba8b-fad138218914",
   "metadata": {},
   "outputs": [],
   "source": [
    "master_session = cc.database.create_session('/g/data/ik11/databases/cosima_master.db')\n",
    "iaf_cycle3 = '01deg_jra55v140_iaf_cycle3'\n",
    "\n",
    "first_year = '1958'\n",
    "last_year = '2018'\n",
    "\n",
    "start_time=first_year+'-01-01'\n",
    "end_time=last_year+'-12-31'\n",
    "\n",
    "time_period = str(int(start_time[:4]))+'-'+str(int(end_time[:4]))"
   ]
  },
  {
   "cell_type": "markdown",
   "id": "fba4f91a-b119-4326-b96e-51966043ff34",
   "metadata": {},
   "source": [
    "### PREPARE TEMPERATURE"
   ]
  },
  {
   "cell_type": "code",
   "execution_count": 5,
   "id": "fa3f3ba6-351d-4e6a-8170-375a44da7583",
   "metadata": {},
   "outputs": [],
   "source": [
    "# load temperature data at 400m:\n",
    "\n",
    "depth_slice = slice(400, 6000)\n",
    "# cut the data BOX 1\n",
    "lon_slice  = slice(-252.7, -251.7)\n",
    "lat_slice  = slice(-65.35, -65.1)\n",
    "\n",
    "temp_400m = cc.querying.getvar(iaf_cycle3,'temp' , master_session,frequency='1 monthly',start_time=start_time, end_time=end_time) - 273.15\n",
    "temp_400m = temp_400m.sel(yt_ocean=lat_slice).sel(xt_ocean=lon_slice).sel(st_ocean=depth_slice)\n"
   ]
  },
  {
   "cell_type": "code",
   "execution_count": 6,
   "id": "c8a213b5-3234-4154-8eb9-e9f70d4a9999",
   "metadata": {},
   "outputs": [],
   "source": [
    "# depth average:\n",
    "# there is no dzu saved\n",
    "# calculate grid thickness, adjusted for partial cells:\n",
    "zlevel1 = 400\n",
    "zlevel2 = 6000\n",
    "\n",
    "# import edges of st_ocean and add lat/lon dimensions:\n",
    "st_edges_ocean = cc.querying.getvar(iaf_cycle3,'st_edges_ocean',master_session,\n",
    "                 start_time=start_time, end_time=end_time,n=1)\n",
    "st_edges_array = st_edges_ocean.expand_dims({'yt_ocean':temp_400m.yt_ocean,'xt_ocean':temp_400m.xt_ocean},axis=[1,2])\n",
    "# import bathymetry:\n",
    "ht = cc.querying.getvar(iaf_cycle3,'ht',master_session,n=1)\n",
    "ht = ht.sel(yt_ocean=lat_slice).sel(xt_ocean=lon_slice)\n",
    "# adjust edges at bottom for partial thickness:\n",
    "st_edges_with_partial = st_edges_array.where(st_edges_array<ht,other=ht)\n",
    "thickness = st_edges_with_partial.diff(dim='st_edges_ocean')\n",
    "\n",
    "# change coordinate of thickness to st_ocean (needed for multipling with other variables):\n",
    "st_ocean = cc.querying.getvar(iaf_cycle3,'st_ocean',master_session,n=1)\n",
    "thickness['st_edges_ocean'] = st_ocean.values\n",
    "thickness = thickness.rename(({'st_edges_ocean':'st_ocean'}))\n",
    "\n",
    "# select correct depths:\n",
    "thickness = thickness.sel(st_ocean=slice(zlevel1,zlevel2))\n",
    "\n",
    "# multiply by thickness to avg\n",
    "temp_400m = (temp_400m*thickness).sum('st_ocean')/thickness.sum('st_ocean')"
   ]
  },
  {
   "cell_type": "code",
   "execution_count": 7,
   "id": "7a49185c-896b-4796-ae01-87a8a2ce5a17",
   "metadata": {
    "tags": []
   },
   "outputs": [
    {
     "data": {
      "text/plain": [
       "<matplotlib.collections.QuadMesh at 0x1547f6025040>"
      ]
     },
     "execution_count": 7,
     "metadata": {},
     "output_type": "execute_result"
    },
    {
     "data": {
      "image/png": "[encoded data removed]",
      "text/plain": [
       "<Figure size 432x288 with 2 Axes>"
      ]
     },
     "metadata": {
      "needs_background": "light"
     },
     "output_type": "display_data"
    }
   ],
   "source": [
    "##test if temp is still working after the depth weighting\n",
    "temp_400m[0,...].plot()"
   ]
  },
  {
   "cell_type": "code",
   "execution_count": 8,
   "id": "b812e4e8-d08b-4ada-bb0e-f23155f14602",
   "metadata": {},
   "outputs": [],
   "source": [
    "#AREA WEIGHTING #area t cant be found at iaf_cycle3\n",
    "# area weighting:\n",
    "area_t = cc.querying.getvar('01deg_jra55v13_ryf9091','area_t',master_session, ncfile = 'ocean_grid.nc',n=-1)\n",
    "area_t = area_t.sel(yt_ocean=lat_slice).sel(xt_ocean=lon_slice)\n",
    "\n",
    "# sum area:\n",
    "area_t_sum = area_t.sum('xt_ocean').sum('yt_ocean')\n",
    "\n",
    "# Apply area weight:\n",
    "temp_400m = (temp_400m*area_t).sum('xt_ocean').sum('yt_ocean')/area_t_sum\n"
   ]
  },
  {
   "cell_type": "code",
   "execution_count": 9,
   "id": "43d1c7a8-20e0-47f4-ad1b-691547754ff4",
   "metadata": {
    "tags": []
   },
   "outputs": [],
   "source": [
    "temp_400m = temp_400m.load()"
   ]
  },
  {
   "cell_type": "markdown",
   "id": "126ae2f6-faf2-47f6-879d-f7652f4f63fd",
   "metadata": {
    "tags": []
   },
   "source": [
    "#### Detrend time series and apply rolling mean "
   ]
  },
  {
   "cell_type": "code",
   "execution_count": 10,
   "id": "e4534ce3-a678-49a6-9af0-065d417dde33",
   "metadata": {},
   "outputs": [],
   "source": [
    "# Note we need to first detrend the data:\n",
    "temp_400m_zad = detrend_dim(temp_400m,'time')\n",
    "temp_400m_zadr = temp_400m_zad.rolling(time=12, center=True).mean()\n",
    "temp_400m_r = temp_400m.rolling(time=12, center=True).mean()"
   ]
  },
  {
   "cell_type": "code",
   "execution_count": null,
   "id": "d9ce6a2c-20aa-4a14-82fc-c2e91f7a31a2",
   "metadata": {},
   "outputs": [],
   "source": []
  },
  {
   "cell_type": "markdown",
   "id": "49fe74b0-07f8-49a3-bfbf-5cc0b6e06c7b",
   "metadata": {},
   "source": [
    "### LOADING THE T SERIES WHERE I REMOVED THE SEASONAL CYCLE BY CREATING AND SUBSTRACTING A CLIMATOLOGY FROM\n",
    "#### The idea of it is too do the correlations again and see if there is improvement. Code at \"test_climatolofy.ipynb\n",
    "\n",
    "#### clim_d is already detrended, but no rolling mean as we are trying to test against that method of removing the seasonal cycle. "
   ]
  },
  {
   "cell_type": "code",
   "execution_count": 11,
   "id": "1444fcfa-7997-4357-9a1a-6cdf43b554f8",
   "metadata": {},
   "outputs": [],
   "source": [
    "outpath = '/g/data/v45/ns3783/clim_d2.nc'\n",
    "profile_data = xr.open_dataset(outpath)\n",
    "clim_d = profile_data.clim_d"
   ]
  },
  {
   "cell_type": "code",
   "execution_count": null,
   "id": "8a95e268-9ace-407f-b6a4-86276e27ca0a",
   "metadata": {},
   "outputs": [],
   "source": []
  },
  {
   "cell_type": "markdown",
   "id": "1427e5f1-acc2-4abd-a747-a9225e3ae644",
   "metadata": {
    "tags": []
   },
   "source": [
    "### ISOPYCNAL DEPTH "
   ]
  },
  {
   "cell_type": "code",
   "execution_count": 12,
   "id": "61aa0ffe-1b6d-4a20-8594-4b7011ad123a",
   "metadata": {},
   "outputs": [],
   "source": [
    "# ORIGINAL\n",
    "lon_slice  = slice(-253, -251.5)\n",
    "lat_slice  = slice(-67.5, -63)\n",
    "\n",
    "temp_iso = cc.querying.getvar(iaf_cycle3,'temp' , master_session,frequency='1 monthly',start_time=start_time, end_time=end_time) - 273.15\n",
    "temp_iso = temp_iso.sel(yt_ocean=lat_slice).sel(xt_ocean=lon_slice)\n",
    "\n",
    "sal_iso = cc.querying.getvar(iaf_cycle3,'salt' , master_session,frequency='1 monthly',start_time=start_time, end_time=end_time)\n",
    "sal_iso = sal_iso.sel(yt_ocean=lat_slice).sel(xt_ocean=lon_slice)"
   ]
  },
  {
   "cell_type": "code",
   "execution_count": 13,
   "id": "5297540a-fe20-4b53-9dd1-057824bfc2de",
   "metadata": {},
   "outputs": [],
   "source": [
    "# calculate density along transect:\n",
    "# arrays for gsw to use\n",
    "depth_array = temp_iso*0 + temp_iso.st_ocean\n",
    "lat_array = temp_iso*0 + temp_iso.yt_ocean\n",
    "# need to convert practical salinity to absolute salinity:\n",
    "pressure = gsw.p_from_z(-depth_array,lat_array)\n",
    "# need to convert practical salinity to absolute salinity:\n",
    "salt_abs = gsw.SA_from_SP(sal_iso,pressure,sal_iso.xt_ocean,lat_array)\n",
    "#calculate sigma\n",
    "sigma0 = gsw.sigma0(salt_abs,temp_iso)"
   ]
  },
  {
   "cell_type": "code",
   "execution_count": 14,
   "id": "e889b1ef-e397-4a74-a45d-6aec3af56b4b",
   "metadata": {},
   "outputs": [],
   "source": [
    "# cut the data BOX 1\n",
    "#lon_slice  = slice(-253, -251.5) #best\n",
    "lat_slice  = slice(-65.3, -63)\n",
    "lon_slice  = slice(-253.5, -251.1)\n",
    "\n",
    "# topography data:\n",
    "ht = cc.querying.getvar(iaf_cycle3,'ht' , master_session,n=1)\n",
    "ht = ht.sel(yt_ocean=lat_slice).sel(xt_ocean=lon_slice)\n",
    "land_mask = np.squeeze(ht.values)*0\n",
    "land_mask[np.isnan(land_mask)] = 1\n",
    "land_mask = np.where(land_mask==1,land_mask,np.nan)\n",
    "\n",
    "fontsize=16"
   ]
  },
  {
   "cell_type": "markdown",
   "id": "0835b1d5-36f2-422b-9263-6f5ea2053438",
   "metadata": {},
   "source": [
    "MAKE MASK FOR BOX 1 offshore in between 1000 and 2000 isopycnals"
   ]
  },
  {
   "cell_type": "code",
   "execution_count": 15,
   "id": "bf157f79-f394-4da0-9752-f55b558ce980",
   "metadata": {},
   "outputs": [
    {
     "data": {
      "text/plain": [
       "<matplotlib.contour.QuadContourSet at 0x1547e339a250>"
      ]
     },
     "execution_count": 15,
     "metadata": {},
     "output_type": "execute_result"
    },
    {
     "data": {
      "image/png": "[encoded data removed]",
      "text/plain": [
       "<Figure size 576x432 with 2 Axes>"
      ]
     },
     "metadata": {
      "needs_background": "light"
     },
     "output_type": "display_data"
    }
   ],
   "source": [
    "# Mask \n",
    "\n",
    "# set to 1 everywhere:\n",
    "region_mask = ht*0 +1\n",
    "\n",
    "# mask open ocean:\n",
    "# shelf masking:\n",
    "contour_file = np.load('/g/data/jk72/ns3783/Antarctic_slope_contour_10002000m.npz')\n",
    "shelf_mask = contour_file['temp_mask']\n",
    "yt_ocean = contour_file['yt_ocean']\n",
    "xt_ocean = contour_file['xt_ocean']\n",
    "# Mask values that are non-zero\n",
    "shelf_mask[np.where(shelf_mask!=0)] = np.nan\n",
    "shelf_mask = shelf_mask+1\n",
    "shelf_mask = xr.DataArray(shelf_mask, coords = [('yt_ocean', yt_ocean), ('xt_ocean', xt_ocean)])\n",
    "\n",
    "region_mask = region_mask * shelf_mask.sel(yt_ocean=lat_slice).sel(xt_ocean=lon_slice)\n",
    "\n",
    "\n",
    "plt.figure(figsize=(8,6))\n",
    "region_mask.plot()\n",
    "plt.contour(ht.xt_ocean,ht.yt_ocean,ht,[700,1000,2000,3000],colors='k')\n",
    "#plt.xlim(-275,-245)\n",
    "plt.contourf(ht.xt_ocean,ht.yt_ocean,land_mask,colors='grey')"
   ]
  },
  {
   "cell_type": "code",
   "execution_count": 16,
   "id": "933c9738-8530-4f23-88d7-6dc854716322",
   "metadata": {},
   "outputs": [],
   "source": [
    "#apply the mask\n",
    "sigma0_off = sigma0*region_mask\n",
    "sigma0_off = sigma0_off.where(sigma0_off!=0)"
   ]
  },
  {
   "cell_type": "code",
   "execution_count": 17,
   "id": "794cf9af-c1d0-4efc-8d13-c3598eea3568",
   "metadata": {
    "tags": []
   },
   "outputs": [
    {
     "data": {
      "text/plain": [
       "<matplotlib.collections.QuadMesh at 0x1547b4a74130>"
      ]
     },
     "execution_count": 17,
     "metadata": {},
     "output_type": "execute_result"
    },
    {
     "data": {
      "image/png": "[encoded data removed]",
      "text/plain": [
       "<Figure size 432x288 with 2 Axes>"
      ]
     },
     "metadata": {
      "needs_background": "light"
     },
     "output_type": "display_data"
    }
   ],
   "source": [
    "# first time step only:\n",
    "sigma0_off[0,0,...].plot()"
   ]
  },
  {
   "cell_type": "code",
   "execution_count": 18,
   "id": "ff681caf-64db-4b40-998a-d85d220e8d39",
   "metadata": {},
   "outputs": [],
   "source": [
    "#load\n",
    "sigma0_off=sigma0_off.load()"
   ]
  },
  {
   "cell_type": "markdown",
   "id": "bc22e0ba-e3a3-4d47-86b2-745e4375695c",
   "metadata": {},
   "source": [
    "Incorporating Adele's method of calculating isopycnals.\n",
    "Old method works fine, but averaging across lat/lon first means that your final depth values will be limited to values of st_ocean (i.e. quite discrete and widely spaced).\n",
    "Try to find first depth where density > rho_thresh (27.82 looks like it might be around 500-600 m, i.e. at the depth of shelf break) at each lat/lon position, then average these depths after over lat/lon, which should make the final depth values have more variable values."
   ]
  },
  {
   "cell_type": "markdown",
   "id": "153286e8-2148-414c-aef8-2aa3ece41d01",
   "metadata": {},
   "source": [
    "Using only the isopycnals that had the highest correlations with previous variables 27.82 and 27.83"
   ]
  },
  {
   "cell_type": "code",
   "execution_count": 19,
   "id": "876c0c88-5170-4c60-9ef9-18dcab4ef1c6",
   "metadata": {},
   "outputs": [
    {
     "data": {
      "image/png": "[encoded data removed]",
      "text/plain": [
       "<Figure size 432x288 with 1 Axes>"
      ]
     },
     "metadata": {
      "needs_background": "light"
     },
     "output_type": "display_data"
    }
   ],
   "source": [
    "rho_thresh = 27.82\n",
    "\n",
    "# mask density where < rho_thresh:\n",
    "sigma0_off_mask = sigma0_off.where(sigma0_off>rho_thresh)\n",
    "# check this worked:\n",
    "#sigma0_off_mask[0,:,:,0].plot()\n",
    "\n",
    "# Now find first depth where sigma0_off_mask is not masked:\n",
    "depth_array = sigma0_off*0 + sigma0_off.st_ocean\n",
    "# mask depth array using density threshold:\n",
    "depth_array_masked = depth_array.where(sigma0_off>rho_thresh)\n",
    "# find minimum depth at each lat,lon location:\n",
    "min_depth = depth_array_masked.min(dim='st_ocean')\n",
    "\n",
    "# now average that minimum depth over lat and lon:\n",
    "min_depth_avg = min_depth.mean('xt_ocean').mean('yt_ocean')\n",
    "min_depth_avg.plot()\n",
    "\n",
    "#rename the isopycnal\n",
    "iso2782_dth=min_depth_avg"
   ]
  },
  {
   "cell_type": "code",
   "execution_count": 20,
   "id": "e83b7d25-db7d-496d-92f4-2ff3803ac2c4",
   "metadata": {},
   "outputs": [],
   "source": [
    "#they are still xarrays until I load them\n",
    "iso2782_dth=iso2782_dth.load()\n"
   ]
  },
  {
   "cell_type": "markdown",
   "id": "32aba1b3-0d89-40b8-9bb1-b8ca28ae9559",
   "metadata": {
    "tags": []
   },
   "source": [
    "### Apply rolling mean "
   ]
  },
  {
   "cell_type": "code",
   "execution_count": 21,
   "id": "33e86b42-610b-43f3-bbbf-b95aeff20ad5",
   "metadata": {},
   "outputs": [],
   "source": [
    "iso2782_dth_r = iso2782_dth.rolling(time=12, center=True).mean()\n",
    "\n"
   ]
  },
  {
   "cell_type": "code",
   "execution_count": 22,
   "id": "204ad77e-1cdb-40fc-8013-651cf4ea81b8",
   "metadata": {},
   "outputs": [],
   "source": [
    "# Note we need to first detrend the data:\n",
    "iso_detrended = detrend_dim(iso2782_dth,'time')"
   ]
  },
  {
   "cell_type": "code",
   "execution_count": 23,
   "id": "aacca717-c856-458f-ae97-c849137d970f",
   "metadata": {},
   "outputs": [],
   "source": [
    "iso_detrended_r=iso_detrended.rolling(time=12, center=True).mean()"
   ]
  },
  {
   "cell_type": "markdown",
   "id": "327b0f62-be1f-44fd-8c0d-c2672d27e121",
   "metadata": {},
   "source": [
    "### ASC SPEED USING TRANSECT LINE"
   ]
  },
  {
   "cell_type": "code",
   "execution_count": null,
   "id": "eff68d63-eb42-425d-8821-5d2790bd229a",
   "metadata": {},
   "outputs": [],
   "source": [
    "# depth limits chosen based on transects\n",
    "depth_slice = slice(200, 500)\n",
    "# set this to the rough region of interest:\n",
    "#lat_slice  = slice(-65.5,-65.4)\n",
    "#lat_slice  = -65\n",
    "lat_slice  = slice(-66, -63)\n",
    "lon_slice  = slice(-255, -248)\n",
    "#get U general \n",
    "u_speed = cc.querying.getvar(iaf_cycle3,'u',master_session,\n",
    "                 start_time=start_time, end_time=end_time,frequency='1 monthly').sel(yu_ocean=lat_slice).sel(xu_ocean=lon_slice).sel(st_ocean=depth_slice)"
   ]
  },
  {
   "cell_type": "code",
   "execution_count": null,
   "id": "bd5a253e-ba0f-499e-854a-2d2dbb602a10",
   "metadata": {},
   "outputs": [],
   "source": [
    "# load a sample slice of data to plot just for testing:\n",
    "#temp_slice = temp.sel(st_ocean=400,method='nearest').isel(time=0)\n",
    "u_slice = u_speed.sel(st_ocean=400,method='nearest').mean('time')\n",
    "u_slice = u_slice.load()\n",
    "\n",
    "# also get bathymetry:\n",
    "ht = cc.querying.getvar(iaf_cycle3,'ht' , master_session,n=1)\n",
    "ht = ht.sel(yt_ocean=lat_slice).sel(xt_ocean=lon_slice)\n",
    "ht = ht.load()"
   ]
  },
  {
   "cell_type": "code",
   "execution_count": null,
   "id": "9c730e99-8c5a-460f-8990-ae09c904bae8",
   "metadata": {},
   "outputs": [],
   "source": [
    "u_slice"
   ]
  },
  {
   "cell_type": "code",
   "execution_count": null,
   "id": "348d37d3-d3ed-43a4-9996-d4d7474317c8",
   "metadata": {},
   "outputs": [],
   "source": [
    "# define transect start and end points:\n",
    "# Change these values until you get the transect you want:\n",
    "lat0 = -64.7 #64.8\n",
    "lat1= -65.2 #65.1\n",
    "lon0 = -252.6 #252.1\n",
    "lon1 = -250.1 #250.1\n",
    "\n",
    "plt.figure(figsize=(12,7))\n",
    "\n",
    "# plot temperature:\n",
    "plt.pcolormesh(u_slice.xu_ocean,u_slice.yu_ocean,u_slice, cmap=cmocean.balance)#,\n",
    "#              vmin=-2,vmax=1)\n",
    "plt.colorbar()\n",
    "#plt.clim((-2.1,.8))\n",
    "\n",
    "# plot transect location:\n",
    "plt.plot([lon0,lon1],[lat0,lat1],'r')\n",
    "plt.xlim((-255, -248))\n",
    "plt.ylim((-67.5, -63))\n",
    "# plot bathymetry contours:\n",
    "i=plt.contour(ht.xt_ocean,ht.yt_ocean,ht,[1000,2000],colors='k')\n",
    "\n",
    "#save_results_to = '/g/data/jk72/ns3783/Round8'\n",
    "#plt.savefig(save_results_to + 'transect_lat_IAF3.png', dpi=120,bbox_inches='tight', pad_inches=0.1)\n",
    "#plt.savefig(save_results_to + 'transect_asc_trajectory+temp.png', dpi=120,bbox_inches='tight', pad_inches=0.1)"
   ]
  },
  {
   "cell_type": "code",
   "execution_count": null,
   "id": "dc2d1ec2-c987-4dee-a7a1-ab8fefbfe0e8",
   "metadata": {},
   "outputs": [],
   "source": [
    "# Note that this cell is slow, but it will load the entire timeseries along the transect \n",
    "# (which means you could later make movies of this or look at different snapshots):\n",
    "lons = [lon0, lon1]\n",
    "lats = [lat0, lat1]\n",
    "\n",
    "yu_ocean = u_speed.yu_ocean\n",
    "\n",
    "\n",
    "# get latitude of points along transect:\n",
    "lat_transect = yu_ocean.sel(yu_ocean = slice(lats[1],lats[0])).values\n",
    "\n",
    "# calculate slope and intercept of transect line:\n",
    "slope = (lons[0] - lons[1])/(lats[0]-lats[1])\n",
    "intercept = lons[0] - slope * lats[0]\n",
    "\n",
    "# get longitude along transect and convert to xarray:\n",
    "lon_transect = slope * lat_transect + intercept\n",
    "lon_transect = xr.DataArray(lon_transect, dims = 'yu_ocean')\n",
    "\n",
    "# convert to xarray:\n",
    "lat_transect = xr.DataArray(lat_transect, dims = 'yu_ocean')\n",
    "\n",
    "# Extract temp and salt along transect:\n",
    "u_transect = u_speed.sel(xu_ocean = lon_transect, yu_ocean = lat_transect, method = 'nearest')\n",
    "\n",
    "u_transect = u_transect.load()"
   ]
  },
  {
   "cell_type": "code",
   "execution_count": null,
   "id": "d0d57ee3-4364-4e61-b322-e0e855570929",
   "metadata": {},
   "outputs": [],
   "source": [
    "#u_transect"
   ]
  },
  {
   "cell_type": "code",
   "execution_count": null,
   "id": "2e8c1434-f450-4c24-bcc7-614425421c84",
   "metadata": {},
   "outputs": [],
   "source": [
    "u_transect=u_transect.mean('yu_ocean').mean('st_ocean')"
   ]
  },
  {
   "cell_type": "raw",
   "id": "82482fe9-cdc8-461a-8ab4-872fae5d9996",
   "metadata": {},
   "source": [
    "temp_mean = temp_transect.mean('time')\n",
    "sigma0_mean = sigma0.mean('time')\n",
    "u_speed_mean = u_speed_trans.mean('time')"
   ]
  },
  {
   "cell_type": "markdown",
   "id": "529891b1-eee7-425c-9872-a04482da68d8",
   "metadata": {
    "tags": []
   },
   "source": [
    "#### Detrend time series both ASC heat flux X and speed time series"
   ]
  },
  {
   "cell_type": "code",
   "execution_count": null,
   "id": "07cb8e6c-396d-464b-8abc-43a877a2b99a",
   "metadata": {},
   "outputs": [],
   "source": [
    "#asc_X_d = detrend_dim(asc_heat_x,'time')\n",
    "u_speed_td = detrend_dim(u_transect,'time')"
   ]
  },
  {
   "cell_type": "markdown",
   "id": "56a7948c-cb57-400d-a511-c77f051cfd6f",
   "metadata": {},
   "source": [
    "#### Apply Rolling mean to them "
   ]
  },
  {
   "cell_type": "code",
   "execution_count": null,
   "id": "7e37236a-ab45-4531-a776-2ad6131abd2b",
   "metadata": {
    "tags": []
   },
   "outputs": [],
   "source": [
    "#asc_X_dr = asc_X_d.rolling(time=12, center=True).mean()\n",
    "u_speed_tdr = u_speed_td.rolling(time=12, center=True).mean()"
   ]
  },
  {
   "cell_type": "code",
   "execution_count": null,
   "id": "814cda7d-91a3-4000-b92c-bd341d16dfef",
   "metadata": {
    "tags": []
   },
   "outputs": [],
   "source": [
    "u_speed_tr = u_transect.rolling(time=12, center=True).mean()"
   ]
  },
  {
   "cell_type": "markdown",
   "id": "8aeee841-b57c-4894-ad71-a31fd0f0f313",
   "metadata": {
    "tags": []
   },
   "source": [
    "## LOAD EKMAN right at the shelf. \n",
    "#### if you look in the same area of ASC doesn't work and the small area on the slope also didn't work \n",
    "#### what does work is a line between 700-1000m isobath runnign through mid-slope to the end of the eastern domain and that area just on the shelf. "
   ]
  },
  {
   "cell_type": "code",
   "execution_count": null,
   "id": "a12ed7ea-0cf3-42b7-bd52-8a7449b026b4",
   "metadata": {},
   "outputs": [],
   "source": [
    "lon_slice  = slice(-256, 240) \n",
    "lat_slice  = slice(-67.5, -63)\n",
    "\n",
    "\n",
    "# these are the values used by MOM5\n",
    "sigma = 7.292e-5     # Earth's rotation rate in radians/s\n",
    "Rearth = 6371.e3 # Earth's radius in m\n",
    "variable='geolat_c'\n",
    "geolat_c = cc.querying.getvar(iaf_cycle3,'geolat_c',master_session, n=-1).sel(yu_ocean=lat_slice).sel(xu_ocean=lon_slice)\n",
    "\n",
    "f = 2 * sigma * np.sin(np.deg2rad(geolat_c)) # convert lat in radians"
   ]
  },
  {
   "cell_type": "code",
   "execution_count": null,
   "id": "f6ce7b9f-5195-4664-86f5-5180cedb31b5",
   "metadata": {},
   "outputs": [],
   "source": [
    "#pick the northern latitude, so there are an equal number of t-cell and u-cell gridpoint in this range:\n",
    "lon_slice  = slice(-256, -240) # TRY SAME AS ISOPYCNALS\n",
    "lat_slice  = slice(-67.5, -63)\n",
    "\n",
    "\n",
    "first_year = '1958'\n",
    "last_year = '2018'\n",
    "\n",
    "start_time=first_year+'-01-01'\n",
    "end_time=last_year+'-12-31'\n",
    "\n",
    "tau_x_con = cc.querying.getvar(iaf_cycle3, 'tau_x', master_session, frequency='1 monthly',start_time=start_time, end_time=end_time).sel(yu_ocean=lat_slice).sel(xu_ocean=lon_slice)\n",
    "tau_x_con = tau_x_con.load()\n",
    "\n",
    "tau_y_con = cc.querying.getvar(iaf_cycle3, 'tau_y', master_session, frequency='1 monthly',start_time=start_time, end_time=end_time).sel(yu_ocean=lat_slice).sel(xu_ocean=lon_slice)\n",
    "tau_y_con = tau_y_con.load()"
   ]
  },
  {
   "cell_type": "code",
   "execution_count": null,
   "id": "60553988-9b73-4b64-ac3b-c3e5e23f4dd2",
   "metadata": {},
   "outputs": [],
   "source": [
    "# database for control simulation:\n",
    "control = '01deg_jra55v13_ryf9091'\n",
    "\n",
    "# Need to use these unmasked dxu and dyu, because otherwise it spreads the mask and we miss the Ekman pumping in the first ocean cell.\n",
    "\n",
    "tau_x_con_full = cc.querying.getvar(control, 'tau_x', master_session, ncfile='ocean_month.nc',start_time=start_time, end_time=end_time)\n",
    "dyu = cc.querying.getvar(control, 'dyu', master_session, n=1)\n",
    "dyu['ni'] = tau_x_con_full['xu_ocean'].values\n",
    "dyu['nj'] = tau_x_con_full['yu_ocean'].values\n",
    "#dyu = dyu.rename(({'nk':'time','ni':'xu_ocean', 'nj':'yu_ocean'}))\n",
    "dyu = dyu.rename(({'ni':'xu_ocean', 'nj':'yu_ocean'}))\n",
    "dyu = dyu.sel(yu_ocean=lat_slice)\n",
    "\n",
    "dxu = cc.querying.getvar(control, 'dxu', master_session, n=1)\n",
    "dxu['ni'] = tau_x_con_full['xu_ocean'].values\n",
    "dxu['nj'] = tau_x_con_full['yu_ocean'].values\n",
    "#dxu = dxu.rename(({'nk':'time','ni':'xu_ocean', 'nj':'yu_ocean'}))\n",
    "dxu = dxu.rename(({'ni':'xu_ocean', 'nj':'yu_ocean'}))\n",
    "dxu = dxu.sel(yu_ocean=lat_slice)"
   ]
  },
  {
   "cell_type": "code",
   "execution_count": null,
   "id": "e4ac3b1e-38fb-4086-bb51-3a16a4007f45",
   "metadata": {},
   "outputs": [],
   "source": [
    "# See https://cosima-recipes.readthedocs.io/en/latest/documented_examples/RelativeVorticity.html#gallery-documented-examples-relativevorticity-ipynb\n",
    "#ds = xr.open_mfdataset('/g/data/ik11/outputs/access-om2-01/01deg_jra55v13_ryf9091/output000/ocean/ocean_grid.nc', combine='by_coords')\n",
    "#inverse_dxtn = 0.5*(1/ds.dxu + np.roll(1/ds.dxu, 1, axis=1))\n",
    "#inverse_dyte = 0.5*(1/ds.dyu + np.roll(1/ds.dyu, 1, axis=1))\n",
    "\n",
    "# use dyu from above, because otherwise the nans from land spread:\n",
    "inverse_dyte = 0.5*(1/dyu + np.roll(1/dyu, 1, axis=0))\n",
    "inverse_dxtn = 0.5*(1/dxu + np.roll(1/dxu, 1, axis=0))\n",
    "\n",
    "# fill land with zeros:\n",
    "tauy_f_con = tau_y_con/f\n",
    "tauy_f_con = tauy_f_con.fillna(0)\n",
    "taux_f_con = tau_x_con/f\n",
    "taux_f_con = taux_f_con.fillna(0)"
   ]
  },
  {
   "cell_type": "code",
   "execution_count": null,
   "id": "186cdf18-6879-4805-8afa-51639374970b",
   "metadata": {},
   "outputs": [],
   "source": [
    "# compute derivatives:\n",
    "#d_dx_tauyf_con = (tauy_f_con - np.roll(tauy_f_con, 1, axis=1))*inverse_dxtn\n",
    "d_dx_tauyf_con = (tauy_f_con - np.roll(tauy_f_con, 1, axis=2))*inverse_dxtn\n",
    "#d_dy_tauxf_con = (taux_f_con - np.roll(taux_f_con, 1, axis=0))*inverse_dyte\n",
    "d_dy_tauxf_con = (taux_f_con - np.roll(taux_f_con, 1, axis=1))*inverse_dyte\n",
    "\n",
    "# interpolate onto the same grid:\n",
    "#d_dx_tauyf_con = 0.5 * (d_dx_tauyf_con + np.roll(d_dx_tauyf_con, 1, axis=0))\n",
    "d_dx_tauyf_con = 0.5 * (d_dx_tauyf_con + np.roll(d_dx_tauyf_con, 1, axis=1))\n",
    "#d_dy_tauxf_con = 0.5 * (d_dy_tauxf_con + np.roll(d_dy_tauxf_con, 1, axis=1))\n",
    "d_dy_tauxf_con = 0.5 * (d_dy_tauxf_con + np.roll(d_dy_tauxf_con, 1, axis=2))\n",
    "\n",
    "# compute curl:\n",
    "curl_tauf_con = d_dx_tauyf_con - d_dy_tauxf_con\n",
    "curl_tauf_con = curl_tauf_con.load()\n",
    "\n",
    "#convert from m/s to m/day\n",
    "s_day=60*60*24\n",
    "rho0 = 1035.\n",
    "ekman_con = curl_tauf_con/rho0*s_day\n"
   ]
  },
  {
   "cell_type": "code",
   "execution_count": null,
   "id": "e9026fbc-2516-4855-bb3b-ce33eeb7ed43",
   "metadata": {},
   "outputs": [],
   "source": [
    "# quick check that this looks ok:\n",
    "ekman_con.mean('time').plot(vmin=-2,vmax=2,cmap=cmocean.balance)"
   ]
  },
  {
   "cell_type": "code",
   "execution_count": null,
   "id": "a1baa8c2-cf6e-4b43-b0d7-023d76165421",
   "metadata": {},
   "outputs": [],
   "source": [
    "# cut the data BOX 1\n",
    "#lon_slice  = slice(-253, -251.5) #best\n",
    "lat_slice  = slice(-67, -64)\n",
    "lon_slice  = slice(-255, -248)\n",
    "\n",
    "# topography data:\n",
    "hu = cc.querying.getvar(iaf_cycle3,'hu' , master_session,n=1)\n",
    "hu = hu.sel(yu_ocean=lat_slice).sel(xu_ocean=lon_slice)\n",
    "land_maskU = np.squeeze(hu.values)*0\n",
    "land_maskU[np.isnan(land_maskU)] = 1\n",
    "land_maskU = np.where(land_maskU==1,land_maskU,np.nan)"
   ]
  },
  {
   "cell_type": "code",
   "execution_count": null,
   "id": "4675f877-d914-4df8-a8b4-5deb3e9a861d",
   "metadata": {},
   "outputs": [],
   "source": [
    "# Mask \n",
    "\n",
    "# set to 1 everywhere:\n",
    "region_mask = hu*0 +1\n",
    "\n",
    "# mask open ocean:\n",
    "# shelf masking:\n",
    "contour_file = np.load('/g/data/jk72/ns3783/Antarctic_slope_contour_U0m.npz')\n",
    "shelf_mask = contour_file['temp_maskU']\n",
    "yu_ocean = contour_file['yu_ocean']\n",
    "xu_ocean = contour_file['xu_ocean']\n",
    "# Mask values that are non-zero\n",
    "shelf_mask[np.where(shelf_mask!=1)] = np.nan\n",
    "shelf_mask = shelf_mask+0\n",
    "shelf_mask = xr.DataArray(shelf_mask, coords = [('yu_ocean', yu_ocean), ('xu_ocean', xu_ocean)])\n",
    "\n",
    "region_mask = region_mask * shelf_mask.sel(yu_ocean=lat_slice).sel(xu_ocean=lon_slice)\n",
    "\n",
    "plt.figure(figsize=(8,6))\n",
    "region_mask.plot()\n",
    "#plt.contour(ht.xt_ocean,ht.yt_ocean,ht,[700,1000,2000,3000],colors='k')\n",
    "plt.contourf(hu.xu_ocean,hu.yu_ocean,land_maskU,colors='grey')"
   ]
  },
  {
   "cell_type": "code",
   "execution_count": null,
   "id": "2818c0c6-6384-4436-87eb-7f3f56ec1aa0",
   "metadata": {},
   "outputs": [],
   "source": [
    "#apply the mask\n",
    "ekman_off = ekman_con*region_mask\n",
    "ekman_off = ekman_off.where(ekman_off!=0)"
   ]
  },
  {
   "cell_type": "code",
   "execution_count": null,
   "id": "b0584ba6-be85-4ce6-b243-75f09470bbef",
   "metadata": {
    "jupyter": {
     "source_hidden": true
    },
    "tags": []
   },
   "outputs": [],
   "source": [
    "ekman_off"
   ]
  },
  {
   "cell_type": "code",
   "execution_count": null,
   "id": "ff6726ae-b097-4f37-853a-9f5f723e8ae6",
   "metadata": {
    "tags": []
   },
   "outputs": [],
   "source": [
    "# first time step only:\n",
    "ekman_off[0,...].plot()"
   ]
  },
  {
   "cell_type": "code",
   "execution_count": null,
   "id": "fa4cb583-073d-4be8-8075-b27ac2c2a5b8",
   "metadata": {},
   "outputs": [],
   "source": [
    "#load\n",
    "ekman_off=ekman_off.load()"
   ]
  },
  {
   "cell_type": "code",
   "execution_count": null,
   "id": "b083b7e2-4422-45c9-808d-a755a44a7ac1",
   "metadata": {},
   "outputs": [],
   "source": [
    "#ekman_off=ekman_off.mean('yu_ocean').mean('xu_ocean')\n",
    "ekman_off=ekman_off.sum('yu_ocean').sum('xu_ocean')"
   ]
  },
  {
   "cell_type": "markdown",
   "id": "505d07b3-b826-4e5a-acbe-4780ea1a8e7c",
   "metadata": {},
   "source": [
    "#### Detrend time series both ASC heat flux X and speed time series"
   ]
  },
  {
   "cell_type": "code",
   "execution_count": null,
   "id": "6d3bf0d3-ded2-45ea-9ee7-d708dce6a2a7",
   "metadata": {
    "tags": []
   },
   "outputs": [],
   "source": [
    "#asc_X_d = detrend_dim(asc_heat_x,'time')\n",
    "ekman_con_d = detrend_dim(ekman_off,'time')"
   ]
  },
  {
   "cell_type": "markdown",
   "id": "d1166c92-b115-45af-9911-aee517222357",
   "metadata": {
    "tags": []
   },
   "source": [
    "#### Apply Rolling mean to them "
   ]
  },
  {
   "cell_type": "code",
   "execution_count": null,
   "id": "5db84fd8-26ba-4ca4-9a41-01162379c6fb",
   "metadata": {
    "tags": []
   },
   "outputs": [],
   "source": [
    "#asc_X_dr = asc_X_d.rolling(time=12, center=True).mean()\n",
    "ekman_con_dr_shelf = ekman_con_d.rolling(time=12, center=True).mean()"
   ]
  },
  {
   "cell_type": "code",
   "execution_count": null,
   "id": "861345d7-fd54-44f3-bdc3-09f217fd4f90",
   "metadata": {
    "tags": []
   },
   "outputs": [],
   "source": [
    "ekman_con_r_shelf = ekman_off.rolling(time=12, center=True).mean()"
   ]
  },
  {
   "cell_type": "markdown",
   "id": "5cc6848e-fc19-4e71-a575-9fa5ef14a742",
   "metadata": {},
   "source": [
    "## Ekman along the fine slope area "
   ]
  },
  {
   "cell_type": "code",
   "execution_count": null,
   "id": "e2fba1c5-55cc-4418-83be-7334ea2fa729",
   "metadata": {},
   "outputs": [],
   "source": [
    "lon_slice  = slice(-251, 245) \n",
    "lat_slice  = slice(-67.5, -63)\n",
    "\n",
    "\n",
    "# these are the values used by MOM5\n",
    "sigma = 7.292e-5     # Earth's rotation rate in radians/s\n",
    "Rearth = 6371.e3 # Earth's radius in m\n",
    "variable='geolat_c'\n",
    "geolat_c = cc.querying.getvar(iaf_cycle3,'geolat_c',master_session, n=-1).sel(yu_ocean=lat_slice).sel(xu_ocean=lon_slice)\n",
    "\n",
    "f = 2 * sigma * np.sin(np.deg2rad(geolat_c)) # convert lat in radians\n"
   ]
  },
  {
   "cell_type": "code",
   "execution_count": null,
   "id": "1ce561c3-3a7c-4f22-889b-959ff122a227",
   "metadata": {},
   "outputs": [],
   "source": [
    "#pick the northern latitude, so there are an equal number of t-cell and u-cell gridpoint in this range:\n",
    "lon_slice  = slice(-256, -245) # TRY SAME AS ISOPYCNALS\n",
    "lat_slice  = slice(-67.5, -63)\n",
    "\n",
    "\n",
    "first_year = '1958'\n",
    "last_year = '2018'\n",
    "\n",
    "start_time=first_year+'-01-01'\n",
    "end_time=last_year+'-12-31'\n",
    "\n",
    "tau_x_con = cc.querying.getvar(iaf_cycle3, 'tau_x', master_session, frequency='1 monthly',start_time=start_time, end_time=end_time).sel(yu_ocean=lat_slice).sel(xu_ocean=lon_slice)\n",
    "tau_x_con = tau_x_con.load()\n",
    "\n",
    "tau_y_con = cc.querying.getvar(iaf_cycle3, 'tau_y', master_session, frequency='1 monthly',start_time=start_time, end_time=end_time).sel(yu_ocean=lat_slice).sel(xu_ocean=lon_slice)\n",
    "tau_y_con = tau_y_con.load()"
   ]
  },
  {
   "cell_type": "code",
   "execution_count": null,
   "id": "789ea8a0-a1fc-44c1-b43d-67b5feebc863",
   "metadata": {},
   "outputs": [],
   "source": [
    "# database for control simulation:\n",
    "control = '01deg_jra55v13_ryf9091'\n",
    "\n",
    "# Need to use these unmasked dxu and dyu, because otherwise it spreads the mask and we miss the Ekman pumping in the first ocean cell.\n",
    "\n",
    "tau_x_con_full = cc.querying.getvar(control, 'tau_x', master_session, ncfile='ocean_month.nc',start_time=start_time, end_time=end_time)\n",
    "dyu = cc.querying.getvar(control, 'dyu', master_session, n=1)\n",
    "dyu['ni'] = tau_x_con_full['xu_ocean'].values\n",
    "dyu['nj'] = tau_x_con_full['yu_ocean'].values\n",
    "#dyu = dyu.rename(({'nk':'time','ni':'xu_ocean', 'nj':'yu_ocean'}))\n",
    "dyu = dyu.rename(({'ni':'xu_ocean', 'nj':'yu_ocean'}))\n",
    "dyu = dyu.sel(yu_ocean=lat_slice)\n",
    "\n",
    "dxu = cc.querying.getvar(control, 'dxu', master_session, n=1)\n",
    "dxu['ni'] = tau_x_con_full['xu_ocean'].values\n",
    "dxu['nj'] = tau_x_con_full['yu_ocean'].values\n",
    "#dxu = dxu.rename(({'nk':'time','ni':'xu_ocean', 'nj':'yu_ocean'}))\n",
    "dxu = dxu.rename(({'ni':'xu_ocean', 'nj':'yu_ocean'}))\n",
    "dxu = dxu.sel(yu_ocean=lat_slice)"
   ]
  },
  {
   "cell_type": "code",
   "execution_count": null,
   "id": "5c6aff7d-38a5-4396-843c-5ecf170e207a",
   "metadata": {},
   "outputs": [],
   "source": [
    "# See https://cosima-recipes.readthedocs.io/en/latest/documented_examples/RelativeVorticity.html#gallery-documented-examples-relativevorticity-ipynb\n",
    "#ds = xr.open_mfdataset('/g/data/ik11/outputs/access-om2-01/01deg_jra55v13_ryf9091/output000/ocean/ocean_grid.nc', combine='by_coords')\n",
    "#inverse_dxtn = 0.5*(1/ds.dxu + np.roll(1/ds.dxu, 1, axis=1))\n",
    "#inverse_dyte = 0.5*(1/ds.dyu + np.roll(1/ds.dyu, 1, axis=1))\n",
    "\n",
    "# use dyu from above, because otherwise the nans from land spread:\n",
    "inverse_dyte = 0.5*(1/dyu + np.roll(1/dyu, 1, axis=0))\n",
    "inverse_dxtn = 0.5*(1/dxu + np.roll(1/dxu, 1, axis=0))\n",
    "\n",
    "# fill land with zeros:\n",
    "tauy_f_con = tau_y_con/f\n",
    "tauy_f_con = tauy_f_con.fillna(0)\n",
    "taux_f_con = tau_x_con/f\n",
    "taux_f_con = taux_f_con.fillna(0)"
   ]
  },
  {
   "cell_type": "code",
   "execution_count": null,
   "id": "1e8ab958-814e-46c1-a495-13704efdffc0",
   "metadata": {},
   "outputs": [],
   "source": [
    "# compute derivatives:\n",
    "#d_dx_tauyf_con = (tauy_f_con - np.roll(tauy_f_con, 1, axis=1))*inverse_dxtn\n",
    "d_dx_tauyf_con = (tauy_f_con - np.roll(tauy_f_con, 1, axis=2))*inverse_dxtn\n",
    "#d_dy_tauxf_con = (taux_f_con - np.roll(taux_f_con, 1, axis=0))*inverse_dyte\n",
    "d_dy_tauxf_con = (taux_f_con - np.roll(taux_f_con, 1, axis=1))*inverse_dyte\n",
    "\n",
    "# interpolate onto the same grid:\n",
    "#d_dx_tauyf_con = 0.5 * (d_dx_tauyf_con + np.roll(d_dx_tauyf_con, 1, axis=0))\n",
    "d_dx_tauyf_con = 0.5 * (d_dx_tauyf_con + np.roll(d_dx_tauyf_con, 1, axis=1))\n",
    "#d_dy_tauxf_con = 0.5 * (d_dy_tauxf_con + np.roll(d_dy_tauxf_con, 1, axis=1))\n",
    "d_dy_tauxf_con = 0.5 * (d_dy_tauxf_con + np.roll(d_dy_tauxf_con, 1, axis=2))\n",
    "\n",
    "# compute curl:\n",
    "curl_tauf_con = d_dx_tauyf_con - d_dy_tauxf_con\n",
    "curl_tauf_con = curl_tauf_con.load()\n",
    "\n",
    "#convert from m/s to m/day\n",
    "s_day=60*60*24\n",
    "rho0 = 1035.\n",
    "ekman_con = curl_tauf_con/rho0*s_day\n"
   ]
  },
  {
   "cell_type": "code",
   "execution_count": null,
   "id": "7b9f141d-bf01-44ed-adf2-e1c9ec3efe47",
   "metadata": {
    "jupyter": {
     "source_hidden": true
    },
    "tags": []
   },
   "outputs": [],
   "source": [
    "# quick check that this looks ok:\n",
    "ekman_con.mean('time').plot(vmin=-2,vmax=2,cmap=cmocean.balance)"
   ]
  },
  {
   "cell_type": "code",
   "execution_count": null,
   "id": "70393fa5-ea19-474b-98e6-5282cd0f560f",
   "metadata": {},
   "outputs": [],
   "source": [
    "# cut the data BOX 1\n",
    "#lon_slice  = slice(-252.3, -250.1) \n",
    "lon_slice  = slice(-251, -246) # best -251\n",
    "#lon_slice  = slice(-253.5, -251.1)\n",
    "lat_slice  = slice(-65.6, -63)\n",
    "\n",
    "# topography data:\n",
    "hu = cc.querying.getvar(iaf_cycle3,'hu' , master_session,n=1)\n",
    "hu = hu.sel(yu_ocean=lat_slice).sel(xu_ocean=lon_slice)\n",
    "land_maskU = np.squeeze(hu.values)*0\n",
    "land_maskU[np.isnan(land_maskU)] = 1\n",
    "land_maskU = np.where(land_maskU==1,land_maskU,np.nan)"
   ]
  },
  {
   "cell_type": "code",
   "execution_count": null,
   "id": "0cc9e9df-07fd-49ed-b629-484662a18aac",
   "metadata": {},
   "outputs": [],
   "source": [
    "# Mask \n",
    "\n",
    "# set to 1 everywhere:\n",
    "region_mask = hu*0 +1\n",
    "\n",
    "# mask open ocean:\n",
    "# shelf masking:\n",
    "contour_file = np.load('/g/data/jk72/ns3783/Antarctic_slope_contour_U5001000m.npz')\n",
    "shelf_mask = contour_file['temp_maskU']\n",
    "yu_ocean = contour_file['yu_ocean']\n",
    "xu_ocean = contour_file['xu_ocean']\n",
    "# Mask values that are non-zero\n",
    "shelf_mask[np.where(shelf_mask!=0)] = np.nan\n",
    "shelf_mask = shelf_mask+1\n",
    "shelf_mask = xr.DataArray(shelf_mask, coords = [('yu_ocean', yu_ocean), ('xu_ocean', xu_ocean)])\n",
    "\n",
    "region_mask = region_mask * shelf_mask.sel(yu_ocean=lat_slice).sel(xu_ocean=lon_slice)\n",
    "\n",
    "\n",
    "#plt.figure(figsize=(8,6))\n",
    "region_mask.plot()\n",
    "#i=plt.contour(hu.xu_ocean,hu.yu_ocean,hu,[1000,2000,3000],colors='k')\n",
    "i=plt.contour(hu.xu_ocean,hu.yu_ocean,hu,[550,600,650,900,1050,2000,3000],colors='b')\n",
    "#plt.xlim(-275,-245)\n",
    "plt.contourf(hu.xu_ocean,hu.yu_ocean,land_maskU,colors='grey')"
   ]
  },
  {
   "cell_type": "code",
   "execution_count": null,
   "id": "6b1a85e6-cb76-4593-adff-6cf1c6adba0e",
   "metadata": {
    "tags": []
   },
   "outputs": [],
   "source": [
    "#apply the mask\n",
    "ekman_con_off = ekman_con*region_mask\n",
    "ekman_con_off = ekman_con_off.where(ekman_con_off!=0)"
   ]
  },
  {
   "cell_type": "code",
   "execution_count": null,
   "id": "a5d8cd70-3c9e-4426-bd60-a193774ff16e",
   "metadata": {},
   "outputs": [],
   "source": [
    "# first time step only:\n",
    "ek=ekman_con_off.mean('time')\n",
    "ek.plot()\n",
    "#ekman_con_off[0,...].plot()"
   ]
  },
  {
   "cell_type": "code",
   "execution_count": null,
   "id": "bed10ca6-8a96-4187-b0a6-710b987073c9",
   "metadata": {},
   "outputs": [],
   "source": [
    "#AREA WEIGHTING #area t cant be found at iaf_cycle3\n",
    "# area weighting:\n",
    "area_u = cc.querying.getvar('01deg_jra55v13_ryf9091','area_u',master_session, ncfile = 'ocean_grid.nc',n=-1)\n",
    "area_u = area_u.sel(yu_ocean=lat_slice).sel(xu_ocean=lon_slice)\n",
    "\n",
    "\n",
    "#add mask to area_t\n",
    "#NRS added it here because it looks like area weighting also adds zero to masked area instead of nans \n",
    "area_u = area_u*region_mask\n",
    "\n",
    "# sum area:\n",
    "area_u_sum = area_u.sum('xu_ocean').sum('yu_ocean')\n",
    "\n",
    "# Apply area weight:\n",
    "ekman_con_a = (ekman_con_off*area_u).sum('xu_ocean').sum('yu_ocean')/area_u_sum"
   ]
  },
  {
   "cell_type": "code",
   "execution_count": null,
   "id": "80989c9b-acef-46b6-95f3-ec3c13ef5b03",
   "metadata": {
    "jupyter": {
     "source_hidden": true
    },
    "tags": []
   },
   "outputs": [],
   "source": [
    "ekman_con_s = ekman_con_off.sum('yu_ocean').sum('xu_ocean')\n",
    "ekman_con_s = ekman_con_s.load()"
   ]
  },
  {
   "cell_type": "raw",
   "id": "342706fd-9a2b-450d-9a3b-799a7e2b3272",
   "metadata": {},
   "source": [
    "ekman_con_a = ekman_con_off.mean('yu_ocean').mean('xu_ocean')"
   ]
  },
  {
   "cell_type": "code",
   "execution_count": null,
   "id": "652d65d8-2c68-41bb-86e8-79adb49dc318",
   "metadata": {
    "tags": []
   },
   "outputs": [],
   "source": [
    "#load the variable\n",
    "ekman_con_a = ekman_con_a.load()"
   ]
  },
  {
   "cell_type": "markdown",
   "id": "d328ae87-e342-400c-98f1-be3a96d88627",
   "metadata": {
    "tags": []
   },
   "source": [
    "### detrend ekman series"
   ]
  },
  {
   "cell_type": "code",
   "execution_count": null,
   "id": "5620a809-e346-4ae5-9bf5-1c42d4a92f73",
   "metadata": {},
   "outputs": [],
   "source": [
    "# Note we need to first detrend the data:\n",
    "ekman_con_d = detrend_dim(ekman_con_a,'time')\n",
    "ekman_con_dr = ekman_con_d.rolling(time=12, center=True).mean()\n",
    "ekman_con_r = ekman_con_a.rolling(time=12, center=True).mean()"
   ]
  },
  {
   "cell_type": "code",
   "execution_count": null,
   "id": "a931dceb-04bf-43e0-b071-f15ebc0ef57c",
   "metadata": {
    "tags": []
   },
   "outputs": [],
   "source": [
    "ekman_con_r.plot()\n"
   ]
  },
  {
   "cell_type": "markdown",
   "id": "df0eba40-fc91-40ee-a7f5-d579c72bd490",
   "metadata": {},
   "source": [
    "## ekman for outside slope"
   ]
  },
  {
   "cell_type": "code",
   "execution_count": null,
   "id": "8ee71489-488d-4340-a03e-f0ec4fa053ea",
   "metadata": {},
   "outputs": [],
   "source": [
    "lon_slice  = slice(-251, 245) \n",
    "lat_slice  = slice(-67.5, -63)\n",
    "\n",
    "\n",
    "# these are the values used by MOM5\n",
    "sigma = 7.292e-5     # Earth's rotation rate in radians/s\n",
    "Rearth = 6371.e3 # Earth's radius in m\n",
    "variable='geolat_c'\n",
    "geolat_c = cc.querying.getvar(iaf_cycle3,'geolat_c',master_session, n=-1).sel(yu_ocean=lat_slice).sel(xu_ocean=lon_slice)\n",
    "\n",
    "f = 2 * sigma * np.sin(np.deg2rad(geolat_c)) # convert lat in radians\n"
   ]
  },
  {
   "cell_type": "code",
   "execution_count": null,
   "id": "b3bc1676-5b6e-4b10-9c46-ae43c2e2a60d",
   "metadata": {},
   "outputs": [],
   "source": [
    "#pick the northern latitude, so there are an equal number of t-cell and u-cell gridpoint in this range:\n",
    "lon_slice  = slice(-256, -245) # TRY SAME AS ISOPYCNALS\n",
    "lat_slice  = slice(-67.5, -63)\n",
    "\n",
    "\n",
    "first_year = '1958'\n",
    "last_year = '2018'\n",
    "\n",
    "start_time=first_year+'-01-01'\n",
    "end_time=last_year+'-12-31'\n",
    "\n",
    "tau_x_con = cc.querying.getvar(iaf_cycle3, 'tau_x', master_session, frequency='1 monthly',start_time=start_time, end_time=end_time).sel(yu_ocean=lat_slice).sel(xu_ocean=lon_slice)\n",
    "tau_x_con = tau_x_con.load()\n",
    "\n",
    "tau_y_con = cc.querying.getvar(iaf_cycle3, 'tau_y', master_session, frequency='1 monthly',start_time=start_time, end_time=end_time).sel(yu_ocean=lat_slice).sel(xu_ocean=lon_slice)\n",
    "tau_y_con = tau_y_con.load()"
   ]
  },
  {
   "cell_type": "code",
   "execution_count": null,
   "id": "0fd78ccb-1f4e-4897-9dc2-63bbd12cbe66",
   "metadata": {},
   "outputs": [],
   "source": [
    "# database for control simulation:\n",
    "control = '01deg_jra55v13_ryf9091'\n",
    "\n",
    "# Need to use these unmasked dxu and dyu, because otherwise it spreads the mask and we miss the Ekman pumping in the first ocean cell.\n",
    "\n",
    "tau_x_con_full = cc.querying.getvar(control, 'tau_x', master_session, ncfile='ocean_month.nc',start_time=start_time, end_time=end_time)\n",
    "dyu = cc.querying.getvar(control, 'dyu', master_session, n=1)\n",
    "dyu['ni'] = tau_x_con_full['xu_ocean'].values\n",
    "dyu['nj'] = tau_x_con_full['yu_ocean'].values\n",
    "#dyu = dyu.rename(({'nk':'time','ni':'xu_ocean', 'nj':'yu_ocean'}))\n",
    "dyu = dyu.rename(({'ni':'xu_ocean', 'nj':'yu_ocean'}))\n",
    "dyu = dyu.sel(yu_ocean=lat_slice)\n",
    "\n",
    "dxu = cc.querying.getvar(control, 'dxu', master_session, n=1)\n",
    "dxu['ni'] = tau_x_con_full['xu_ocean'].values\n",
    "dxu['nj'] = tau_x_con_full['yu_ocean'].values\n",
    "#dxu = dxu.rename(({'nk':'time','ni':'xu_ocean', 'nj':'yu_ocean'}))\n",
    "dxu = dxu.rename(({'ni':'xu_ocean', 'nj':'yu_ocean'}))\n",
    "dxu = dxu.sel(yu_ocean=lat_slice)"
   ]
  },
  {
   "cell_type": "code",
   "execution_count": null,
   "id": "a9cbaa9d-0bb7-4d23-9dc8-4442fb1ad10d",
   "metadata": {},
   "outputs": [],
   "source": [
    "# See https://cosima-recipes.readthedocs.io/en/latest/documented_examples/RelativeVorticity.html#gallery-documented-examples-relativevorticity-ipynb\n",
    "#ds = xr.open_mfdataset('/g/data/ik11/outputs/access-om2-01/01deg_jra55v13_ryf9091/output000/ocean/ocean_grid.nc', combine='by_coords')\n",
    "#inverse_dxtn = 0.5*(1/ds.dxu + np.roll(1/ds.dxu, 1, axis=1))\n",
    "#inverse_dyte = 0.5*(1/ds.dyu + np.roll(1/ds.dyu, 1, axis=1))\n",
    "\n",
    "# use dyu from above, because otherwise the nans from land spread:\n",
    "inverse_dyte = 0.5*(1/dyu + np.roll(1/dyu, 1, axis=0))\n",
    "inverse_dxtn = 0.5*(1/dxu + np.roll(1/dxu, 1, axis=0))\n",
    "\n",
    "# fill land with zeros:\n",
    "tauy_f_con = tau_y_con/f\n",
    "tauy_f_con = tauy_f_con.fillna(0)\n",
    "taux_f_con = tau_x_con/f\n",
    "taux_f_con = taux_f_con.fillna(0)"
   ]
  },
  {
   "cell_type": "code",
   "execution_count": null,
   "id": "df927249-b8df-4de3-9f7c-5036c90dd136",
   "metadata": {},
   "outputs": [],
   "source": [
    "# compute derivatives:\n",
    "#d_dx_tauyf_con = (tauy_f_con - np.roll(tauy_f_con, 1, axis=1))*inverse_dxtn\n",
    "d_dx_tauyf_con = (tauy_f_con - np.roll(tauy_f_con, 1, axis=2))*inverse_dxtn\n",
    "#d_dy_tauxf_con = (taux_f_con - np.roll(taux_f_con, 1, axis=0))*inverse_dyte\n",
    "d_dy_tauxf_con = (taux_f_con - np.roll(taux_f_con, 1, axis=1))*inverse_dyte\n",
    "\n",
    "# interpolate onto the same grid:\n",
    "#d_dx_tauyf_con = 0.5 * (d_dx_tauyf_con + np.roll(d_dx_tauyf_con, 1, axis=0))\n",
    "d_dx_tauyf_con = 0.5 * (d_dx_tauyf_con + np.roll(d_dx_tauyf_con, 1, axis=1))\n",
    "#d_dy_tauxf_con = 0.5 * (d_dy_tauxf_con + np.roll(d_dy_tauxf_con, 1, axis=1))\n",
    "d_dy_tauxf_con = 0.5 * (d_dy_tauxf_con + np.roll(d_dy_tauxf_con, 1, axis=2))\n",
    "\n",
    "# compute curl:\n",
    "curl_tauf_con = d_dx_tauyf_con - d_dy_tauxf_con\n",
    "curl_tauf_con = curl_tauf_con.load()\n",
    "\n",
    "#convert from m/s to m/day\n",
    "s_day=60*60*24\n",
    "rho0 = 1035.\n",
    "ekman_con = curl_tauf_con/rho0*s_day\n"
   ]
  },
  {
   "cell_type": "code",
   "execution_count": null,
   "id": "34cf78cc-dd83-4aa7-845b-903f1ffb51bc",
   "metadata": {
    "tags": []
   },
   "outputs": [],
   "source": [
    "# quick check that this looks ok:\n",
    "ekman_con.mean('time').plot(vmin=-2,vmax=2,cmap=cmocean.balance)"
   ]
  },
  {
   "cell_type": "code",
   "execution_count": null,
   "id": "e335b534-035e-492e-a38e-1859b9902f73",
   "metadata": {},
   "outputs": [],
   "source": [
    "# cut the data BOX 1\n",
    "#lon_slice  = slice(-252.3, -250.1) \n",
    "lon_slice  = slice(-251, -246) # best -251\n",
    "#lon_slice  = slice(-253.5, -251.1)\n",
    "lat_slice  = slice(-65.6, -63)\n",
    "\n",
    "# topography data:\n",
    "hu = cc.querying.getvar(iaf_cycle3,'hu' , master_session,n=1)\n",
    "hu = hu.sel(yu_ocean=lat_slice).sel(xu_ocean=lon_slice)\n",
    "land_maskU = np.squeeze(hu.values)*0\n",
    "land_maskU[np.isnan(land_maskU)] = 1\n",
    "land_maskU = np.where(land_maskU==1,land_maskU,np.nan)"
   ]
  },
  {
   "cell_type": "code",
   "execution_count": null,
   "id": "1f235002-a931-4a16-a058-c30a1e436fdd",
   "metadata": {},
   "outputs": [],
   "source": [
    "# Mask \n",
    "\n",
    "# set to 1 everywhere:\n",
    "region_mask = hu*0 +1\n",
    "\n",
    "# mask open ocean:\n",
    "# shelf masking:\n",
    "contour_file = np.load('/g/data/jk72/ns3783/Antarctic_slope_contour_U22002800m.npz')\n",
    "shelf_mask = contour_file['temp_maskU']\n",
    "yu_ocean = contour_file['yu_ocean']\n",
    "xu_ocean = contour_file['xu_ocean']\n",
    "# Mask values that are non-zero\n",
    "shelf_mask[np.where(shelf_mask!=0)] = np.nan\n",
    "shelf_mask = shelf_mask+1\n",
    "shelf_mask = xr.DataArray(shelf_mask, coords = [('yu_ocean', yu_ocean), ('xu_ocean', xu_ocean)])\n",
    "\n",
    "region_mask = region_mask * shelf_mask.sel(yu_ocean=lat_slice).sel(xu_ocean=lon_slice)\n",
    "\n",
    "\n",
    "#plt.figure(figsize=(8,6))\n",
    "region_mask.plot()\n",
    "#i=plt.contour(hu.xu_ocean,hu.yu_ocean,hu,[1000,2000,3000],colors='k')\n",
    "i=plt.contour(hu.xu_ocean,hu.yu_ocean,hu,[550,600,650,900,1050,2000,3000],colors='b')\n",
    "#plt.xlim(-275,-245)\n",
    "plt.contourf(hu.xu_ocean,hu.yu_ocean,land_maskU,colors='grey')"
   ]
  },
  {
   "cell_type": "code",
   "execution_count": null,
   "id": "443907a0-e450-4ec5-91d2-1953b0895aea",
   "metadata": {
    "tags": []
   },
   "outputs": [],
   "source": [
    "#apply the mask\n",
    "ekman_con_off = ekman_con*region_mask\n",
    "ekman_con_off = ekman_con_off.where(ekman_con_off!=0)"
   ]
  },
  {
   "cell_type": "code",
   "execution_count": null,
   "id": "54a1c1b8-0037-4b33-9d31-b7c4a6a31b46",
   "metadata": {},
   "outputs": [],
   "source": [
    "# first time step only:\n",
    "ek=ekman_con_off.mean('time')\n",
    "ek.plot()\n",
    "#ekman_con_off[0,...].plot()"
   ]
  },
  {
   "cell_type": "code",
   "execution_count": null,
   "id": "df9b98da-c77f-466d-ad6f-0a18b16bb018",
   "metadata": {},
   "outputs": [],
   "source": [
    "#AREA WEIGHTING #area t cant be found at iaf_cycle3\n",
    "# area weighting:\n",
    "area_u = cc.querying.getvar('01deg_jra55v13_ryf9091','area_u',master_session, ncfile = 'ocean_grid.nc',n=-1)\n",
    "area_u = area_u.sel(yu_ocean=lat_slice).sel(xu_ocean=lon_slice)\n",
    "\n",
    "\n",
    "#add mask to area_t\n",
    "#NRS added it here because it looks like area weighting also adds zero to masked area instead of nans \n",
    "area_u = area_u*region_mask\n",
    "\n",
    "# sum area:\n",
    "area_u_sum = area_u.sum('xu_ocean').sum('yu_ocean')\n",
    "\n",
    "# Apply area weight:\n",
    "ekman_con_a = (ekman_con_off*area_u).sum('xu_ocean').sum('yu_ocean')/area_u_sum"
   ]
  },
  {
   "cell_type": "code",
   "execution_count": null,
   "id": "6e16cc56-923a-470d-9251-ff290de2fc27",
   "metadata": {
    "jupyter": {
     "source_hidden": true
    },
    "tags": []
   },
   "outputs": [],
   "source": [
    "ekman_con_s = ekman_con_off.sum('yu_ocean').sum('xu_ocean')\n",
    "ekman_con_s = ekman_con_s.load()"
   ]
  },
  {
   "cell_type": "raw",
   "id": "71f8bc17-ff29-4502-89c8-0e00aa51fdaf",
   "metadata": {},
   "source": [
    "ekman_con_a = ekman_con_off.mean('yu_ocean').mean('xu_ocean')"
   ]
  },
  {
   "cell_type": "code",
   "execution_count": null,
   "id": "ca91eb1b-71a1-4092-a7c0-cc02f5c7aeec",
   "metadata": {
    "tags": []
   },
   "outputs": [],
   "source": [
    "#load the variable\n",
    "ekman_con_a = ekman_con_a.load()"
   ]
  },
  {
   "cell_type": "markdown",
   "id": "48058e4e-8958-4457-bb55-e5426b06fd43",
   "metadata": {
    "tags": []
   },
   "source": [
    "### detrend ekman series"
   ]
  },
  {
   "cell_type": "code",
   "execution_count": null,
   "id": "39d254f4-d00c-4b04-ba4b-7dd88c364280",
   "metadata": {},
   "outputs": [],
   "source": [
    "# Note we need to first detrend the data:\n",
    "ekman_con_d_offslope = detrend_dim(ekman_con_a,'time')\n",
    "ekman_con_dr_offslope = ekman_con_d_offslope.rolling(time=12, center=True).mean()\n",
    "ekman_con_r_offslope = ekman_con_a.rolling(time=12, center=True).mean()"
   ]
  },
  {
   "cell_type": "code",
   "execution_count": null,
   "id": "64b7b6e6-b7d5-4734-9b75-cc32c6512cf8",
   "metadata": {},
   "outputs": [],
   "source": []
  },
  {
   "cell_type": "code",
   "execution_count": null,
   "id": "f73b8c29-3ee8-47ef-88b4-a6b26e50bb0a",
   "metadata": {},
   "outputs": [],
   "source": [
    "#ek_transect_dr\n",
    "ekman_temp_sh=ekman_con_r\n",
    "ekman_temp_sh=ekman_temp_sh.shift(time=-2).dropna(dim='time')\n",
    "\n",
    "ekman_iso_sh=ekman_con_r\n",
    "#ekman_iso_sh=ekman_iso_sh.shift(time=-3).dropna(dim='time')\n",
    "\n",
    "#ekman_asc_sh=ekman_con_r\n",
    "#ekman_asc_sh=ekman_asc_sh.shift(time=-7).dropna(dim='time')\n"
   ]
  },
  {
   "cell_type": "markdown",
   "id": "5b493c7b-5e64-4bd3-bee7-317289abb4df",
   "metadata": {},
   "source": [
    "### PLOT TIME SERIES FOR FIGURE "
   ]
  },
  {
   "cell_type": "code",
   "execution_count": null,
   "id": "73ac94df-34eb-4964-ad8a-d900bd28a5ac",
   "metadata": {},
   "outputs": [],
   "source": [
    "fontsize=18\n",
    "fig=plt.figure(figsize=(25, 22))\n",
    "fig.subplots_adjust(top=0.88)\n",
    "\n",
    "\n",
    "ax1 = plt.subplot(4, 1, 1)\n",
    "ekman_temp_sh.plot(color='green',linewidth=4)\n",
    "ax1.set_ylabel('Ekman Pumping (m/day)', fontsize=fontsize,color='green')\n",
    "ax1.tick_params(axis='y', labelcolor='green',labelsize=fontsize)\n",
    "ax1.set_xlabel(' ', fontsize = fontsize)\n",
    "ax1.tick_params(axis='x',labelsize=fontsize)\n",
    "#plt.title('Monthly T (Box1) vs Zonal Wind (small grid; -65,-64.5S/-258,-252E) / Rolling mean',fontsize=fontsize)\n",
    "plt.grid(color = 'gray', linestyle = '--', linewidth = 0.5)\n",
    "plt.ylim([-1.25,0.5])\n",
    "#plt.text(100,0.4,\"cor = -0.73, lag = 4 months\")\n",
    "\n",
    "ax2 = ax1.twinx()\n",
    "#isocon_off_dr.plot(color='C0')\n",
    "temp_400m_r.plot(color='blueviolet',linestyle='--',linewidth=3)\n",
    "#isocon_off3_dr.plot(color='C0',linestyle=':')\n",
    "ax2.set_ylabel('Intrusion Box Temperature ($^{\\circ}$C)', fontsize=fontsize, color='blueviolet')\n",
    "ax2.tick_params(axis='x',labelsize=fontsize)\n",
    "ax2.tick_params(axis='y', labelcolor='blueviolet',labelsize=fontsize)\n",
    "#ax2.invert_yaxis()\n",
    "plt.grid(color = 'gray', linestyle = '--', linewidth = 0.5)\n",
    "#plt.text(700, -0.4, 'cor=0.016', fontsize = 12)\n",
    "#building legend\n",
    "#plt.plot(np.nan,np.nan,color='C0',linestyle=':',label='27.80')\n",
    "plt.plot(np.nan,np.nan,color='k',marker=\".\",linestyle='none',label='cor = 0.6; best 0.7 lag of 2 months')\n",
    "#plt.plot(np.nan,np.nan,color='C0',label='27.83')\n",
    "plt.legend(loc=\"lower left\",fontsize=fontsize)\n",
    "plt.ylim([-1.6,-0.2])\n",
    "\n",
    "\n",
    "ax1 = plt.subplot(4, 1, 2)\n",
    "ekman_iso_sh.plot(color='green',linewidth=4)\n",
    "ax1.set_ylabel('Ekman Pumping (m/day)', fontsize=fontsize,color='green')\n",
    "ax1.tick_params(axis='y', labelcolor='green',labelsize=fontsize)\n",
    "ax1.set_xlabel(' ', fontsize = fontsize)\n",
    "ax1.tick_params(axis='x',labelsize=fontsize)\n",
    "#plt.title('Monthly T (Box1) vs Zonal Wind (small grid; -65,-64.5S/-258,-252E) / Rolling mean',fontsize=fontsize)\n",
    "plt.grid(color = 'gray', linestyle = '--', linewidth = 0.5)\n",
    "plt.ylim([-1.25,0.5])\n",
    "#plt.text(100,0.4,\"cor = -0.73, lag = 4 months\")\n",
    "\n",
    "ax2 = ax1.twinx()\n",
    "#isocon_off_dr.plot(color='C0')\n",
    "iso2782_dth_r.plot(color='blueviolet',linestyle='--',linewidth=3)\n",
    "#isocon_off3_dr.plot(color='C0',linestyle=':')\n",
    "ax2.set_ylabel('27.82 isopycnal depth (m)', fontsize=fontsize, color='blueviolet')\n",
    "ax2.tick_params(axis='x',labelsize=fontsize)\n",
    "ax2.tick_params(axis='y', labelcolor='blueviolet',labelsize=fontsize)\n",
    "#ax2.invert_yaxis()\n",
    "plt.grid(color = 'gray', linestyle = '--', linewidth = 0.5)\n",
    "#plt.text(700, -0.4, 'cor=0.016', fontsize = 12)\n",
    "#building legend\n",
    "#plt.plot(np.nan,np.nan,color='C0',linestyle=':',label='27.80')\n",
    "plt.plot(np.nan,np.nan,color='k',marker=\".\",linestyle='none',label='cor = - 0.5')\n",
    "#plt.plot(np.nan,np.nan,color='C0',label='27.83')\n",
    "plt.legend(loc=\"lower left\",fontsize=fontsize)\n",
    "plt.ylim([200,900])\n",
    "\n",
    "\n",
    "# ax1 = plt.subplot(4, 1, 3)\n",
    "# ekman_asc_sh.plot(color='gold',linewidth=4)\n",
    "# ax1.set_ylabel('Ekman Pump (m/day)', fontsize=fontsize,color='green')\n",
    "# ax1.tick_params(axis='y', labelcolor='green',labelsize=fontsize)\n",
    "# ax1.set_xlabel(' ', fontsize = fontsize)\n",
    "# ax1.tick_params(axis='x',labelsize=fontsize)\n",
    "# plt.title(' ')\n",
    "# plt.grid(color = 'gray', linestyle = '--', linewidth = 0.5)\n",
    "# plt.ylim([-1.25,0.5])\n",
    "# #plt.text(100,0.4,\"cor = -0.73, lag = 4 months\")\n",
    "\n",
    "\n",
    "# ax2 = ax1.twinx()\n",
    "# #isocon_off_dr.plot(color='C0')\n",
    "# u_speed_tr.plot(color='blueviolet',linestyle='--',linewidth=3)\n",
    "# #isocon_off3_dr.plot(color='C0',linestyle=':')\n",
    "# ax2.set_ylabel('ASC (m/s)', fontsize=fontsize, color='blueviolet')\n",
    "# ax2.tick_params(axis='x',labelsize=fontsize)\n",
    "# ax2.tick_params(axis='y', labelcolor='blueviolet',labelsize=fontsize)\n",
    "# plt.ylim([-0.09,0.01])\n",
    "# #ax2.invert_yaxis()\n",
    "# plt.grid(color = 'gray', linestyle = '--', linewidth = 0.5)\n",
    "# #plt.text(700, -0.4, 'cor=0.016', fontsize = 12)\n",
    "# #building legend\n",
    "# #plt.plot(np.nan,np.nan,color='C0',linestyle=':',label='27.80')\n",
    "# plt.plot(np.nan,np.nan,color='k',marker=\".\",linestyle='none',label='cor = 0.1; best 0.4 lag of 7 months')\n",
    "# #plt.plot(np.nan,np.nan,color='C0',label='27.83')\n",
    "# plt.legend(loc=\"lower left\",fontsize=fontsize)\n",
    "\n",
    "\n",
    "\n",
    "figdir = '/home/581/ns3783/Scripts/Figures/New_codes_CFD/Figures'\n",
    "###figdir = '/g/data/jk72/ns3783'\n",
    "filestr = figdir+'/fig6_ekman_time_series.png'\n",
    "plt.savefig(filestr,dpi=600,bbox_inches='tight')"
   ]
  },
  {
   "cell_type": "code",
   "execution_count": null,
   "id": "ca05f7e8-945b-465d-9293-2677cc0482ce",
   "metadata": {},
   "outputs": [],
   "source": [
    "pwd"
   ]
  },
  {
   "cell_type": "code",
   "execution_count": null,
   "id": "60b2eb2c-df34-4de8-9368-e23125b15ae8",
   "metadata": {},
   "outputs": [],
   "source": [
    "clim_d"
   ]
  },
  {
   "cell_type": "code",
   "execution_count": null,
   "id": "5b8f1967-0ee0-4164-a0ea-42caa398a783",
   "metadata": {},
   "outputs": [],
   "source": [
    "temp_400m_zadr"
   ]
  },
  {
   "cell_type": "code",
   "execution_count": null,
   "id": "a780898c-b8ea-4433-860b-248bc77f7fb7",
   "metadata": {},
   "outputs": [],
   "source": [
    "plt.plot(temp_400m_zadr,ekman_con_dr,'.')\n"
   ]
  },
  {
   "cell_type": "code",
   "execution_count": null,
   "id": "c616e048-612f-4c98-b725-47ed8e5999b4",
   "metadata": {},
   "outputs": [],
   "source": [
    "plt.plot(clim_d,ekman_con_dr,'.')"
   ]
  },
  {
   "cell_type": "code",
   "execution_count": null,
   "id": "0ab0f35d-c338-4281-af9e-6800cb6abf55",
   "metadata": {},
   "outputs": [],
   "source": [
    "plt.plot(temp_400m_zadr,clim_d,'.')"
   ]
  },
  {
   "cell_type": "code",
   "execution_count": null,
   "id": "0a71182b-c68b-41bb-82e3-d5ca943e7ccd",
   "metadata": {},
   "outputs": [],
   "source": [
    "xr.corr(temp_400m_zadr,ekman_con_dr)"
   ]
  },
  {
   "cell_type": "markdown",
   "id": "2c4510dd-8afc-441f-a5f6-fc5341fda60a",
   "metadata": {},
   "source": [
    "### CORRELATIONS WITH EKMAN SLOPE"
   ]
  },
  {
   "cell_type": "code",
   "execution_count": null,
   "id": "4ec6169a-93b7-498c-8979-8324b397fdb6",
   "metadata": {},
   "outputs": [],
   "source": [
    "cov1,cor_temp,slope1,intercept1,pval_temp,stderr1 = lag_linregress_3D(ekman_con_dr,temp_400m_zadr,lagx=0,lagy=3)\n",
    "cov1,cor_clim,slope1,intercept1,pval_temp,stderr1 = lag_linregress_3D(ekman_con_dr,clim_d,lagx=0,lagy=3)\n",
    "cov2,cor_iso,slope2,intercept2,pval_iso,stderr2 = lag_linregress_3D(ekman_con_dr,iso2782_dth_r,lagx=0,lagy=1)\n",
    "cov2,cor_ekman,slope2,intercept2,pval2,stderr2 = lag_linregress_3D(u_speed_tr,ekman_con_dr,lagx=7,lagy=0)\n",
    "cov2,cor_ekman_ek,slope2,intercept2,pval2,stderr2 = lag_linregress_3D(ekman_con_dr_offslope,ekman_con_dr,lagx=0,lagy=0)\n",
    "\n",
    "print('Cor EKMAN vs TEMP',cor_temp) \n",
    "print('Cor EKMAN vs CLIM',cor_clim) \n",
    "print('Cor EKMAN vs ISO',cor_iso)\n",
    "print('Cor EKMAN vs ASC',cor_ekman)\n",
    "print('Cor EKMAN SLOPE vs EKMNA OFF',cor_ekman_ek)\n"
   ]
  },
  {
   "cell_type": "code",
   "execution_count": null,
   "id": "17362ab9-5b9c-4dfe-9eb2-265a9d2738a2",
   "metadata": {},
   "outputs": [],
   "source": [
    "# AA\n",
    "s=10;\n",
    "for i in range(-s,0):\n",
    "    cov,cor,slope,intercept,pval,stderr = lag_linregress_3D(iso_detrended_r,ekman_con_dr,\n",
    "                                                       lagx=0, lagy=i)\n",
    "\n",
    "    print('lag', i+1, ': ',cor)"
   ]
  },
  {
   "cell_type": "code",
   "execution_count": null,
   "id": "3bd79e5d-f288-4902-9e7c-04d011b451ac",
   "metadata": {},
   "outputs": [],
   "source": [
    "# AA\n",
    "s=20;\n",
    "for i in range(-s,0):\n",
    "    cov,cor,slope,intercept,pval,stderr = lag_linregress_3D(temp_400m_zadr,ekman_con_dr,\n",
    "                                                       lagx=0, lagy=i)\n",
    "\n",
    "    print('lag', i+1, ': ',cor)"
   ]
  },
  {
   "cell_type": "code",
   "execution_count": null,
   "id": "4042ba4c-54df-445d-861a-20ee1b50132e",
   "metadata": {},
   "outputs": [],
   "source": [
    "# AA\n",
    "s=15;\n",
    "for i in range(-s,0):\n",
    "    cov,cor,slope,intercept,pval,stderr = lag_linregress_3D(iso_detrended_r,temp_400m_zadr,\n",
    "                                                       lagx=i, lagy=0)\n",
    "\n",
    "    print('lag', i+1, ': ',cor)"
   ]
  },
  {
   "cell_type": "code",
   "execution_count": 91,
   "id": "3487cc1d-44fa-4469-a6dd-121adc8990c9",
   "metadata": {},
   "outputs": [
    {
     "name": "stdout",
     "output_type": "stream",
     "text": [
      "lag -14 :  <xarray.DataArray ()>\n",
      "array(-0.16769833)\n",
      "lag -13 :  <xarray.DataArray ()>\n",
      "array(-0.20552712)\n",
      "lag -12 :  <xarray.DataArray ()>\n",
      "array(-0.21177457)\n",
      "lag -11 :  <xarray.DataArray ()>\n",
      "array(-0.18291488)\n",
      "lag -10 :  <xarray.DataArray ()>\n",
      "array(-0.1363963)\n",
      "lag -9 :  <xarray.DataArray ()>\n",
      "array(-0.09313487)\n",
      "lag -8 :  <xarray.DataArray ()>\n",
      "array(-0.08846214)\n",
      "lag -7 :  <xarray.DataArray ()>\n",
      "array(-0.13492024)\n",
      "lag -6 :  <xarray.DataArray ()>\n",
      "array(-0.21480263)\n",
      "lag -5 :  <xarray.DataArray ()>\n",
      "array(-0.31146276)\n",
      "lag -4 :  <xarray.DataArray ()>\n",
      "array(-0.40708698)\n",
      "lag -3 :  <xarray.DataArray ()>\n",
      "array(-0.4977822)\n",
      "lag -2 :  <xarray.DataArray ()>\n",
      "array(-0.58402933)\n",
      "lag -1 :  <xarray.DataArray ()>\n",
      "array(-0.65239556)\n",
      "lag 0 :  <xarray.DataArray ()>\n",
      "array(-0.69206748)\n"
     ]
    }
   ],
   "source": [
    "# AA\n",
    "s=15;\n",
    "for i in range(-s,0):\n",
    "    cov,cor,slope,intercept,pval,stderr = lag_linregress_3D(iso_detrended,temp_400m_zad,\n",
    "                                                       lagx=i, lagy=0)\n",
    "\n",
    "    print('lag', i+1, ': ',cor)"
   ]
  },
  {
   "cell_type": "code",
   "execution_count": 88,
   "id": "1b129150-ef00-4cab-9c81-52a8912d992b",
   "metadata": {},
   "outputs": [
    {
     "name": "stdout",
     "output_type": "stream",
     "text": [
      "lag -9 :  <xarray.DataArray ()>\n",
      "array(0.33324)\n",
      "lag -8 :  <xarray.DataArray ()>\n",
      "array(0.34455258)\n",
      "lag -7 :  <xarray.DataArray ()>\n",
      "array(0.34717612)\n",
      "lag -6 :  <xarray.DataArray ()>\n",
      "array(0.33837897)\n",
      "lag -5 :  <xarray.DataArray ()>\n",
      "array(0.32110723)\n",
      "lag -4 :  <xarray.DataArray ()>\n",
      "array(0.29815569)\n",
      "lag -3 :  <xarray.DataArray ()>\n",
      "array(0.26812129)\n",
      "lag -2 :  <xarray.DataArray ()>\n",
      "array(0.23310059)\n",
      "lag -1 :  <xarray.DataArray ()>\n",
      "array(0.19252977)\n",
      "lag 0 :  <xarray.DataArray ()>\n",
      "array(0.14689109)\n"
     ]
    }
   ],
   "source": [
    "# AA\n",
    "s=10;\n",
    "for i in range(-s,0):\n",
    "    cov,cor,slope,intercept,pval,stderr = lag_linregress_3D(u_speed_tr,ekman_con_dr,\n",
    "                                                       lagx=0, lagy=i)\n",
    "\n",
    "    print('lag', i+1, ': ',cor)"
   ]
  },
  {
   "cell_type": "markdown",
   "id": "1899963e-b6ad-40e3-885f-ca81ddc1ac24",
   "metadata": {
    "tags": []
   },
   "source": [
    "### CORRELATIONS WITH EKMAN SHELF"
   ]
  },
  {
   "cell_type": "code",
   "execution_count": 81,
   "id": "df931e35-6866-4295-917d-fd52eefd2f65",
   "metadata": {},
   "outputs": [
    {
     "name": "stdout",
     "output_type": "stream",
     "text": [
      "Cor EKMAN vs TEMP <xarray.DataArray ()>\n",
      "array(0.01654704)\n",
      "Cor EKMAN vs CLIM <xarray.DataArray ()>\n",
      "array(0.04129146)\n",
      "Cor EKMAN vs ISO <xarray.DataArray ()>\n",
      "array(-0.04482721)\n",
      "Cor EKMAN vs ASC <xarray.DataArray ()>\n",
      "array(0.0892826)\n"
     ]
    }
   ],
   "source": [
    "cov1,cor_temp,slope1,intercept1,pval_temp,stderr1 = lag_linregress_3D(ekman_con_dr_shelf,temp_400m_zadr,lagx=0,lagy=3)\n",
    "cov1,cor_clim,slope1,intercept1,pval_temp,stderr1 = lag_linregress_3D(ekman_con_dr_shelf,clim_d,lagx=0,lagy=3)\n",
    "cov2,cor_iso,slope2,intercept2,pval_iso,stderr2 = lag_linregress_3D(ekman_con_dr_shelf,iso2782_dth_r,lagx=0,lagy=0)\n",
    "cov2,cor_ekman,slope2,intercept2,pval2,stderr2 = lag_linregress_3D(u_speed_tr,ekman_con_dr_shelf,lagx=0,lagy=0)\n",
    "\n",
    "print('Cor EKMAN vs TEMP',cor_temp) \n",
    "print('Cor EKMAN vs CLIM',cor_clim)\n",
    "print('Cor EKMAN vs ISO',cor_iso)\n",
    "print('Cor EKMAN vs ASC',cor_ekman)\n"
   ]
  },
  {
   "cell_type": "code",
   "execution_count": 86,
   "id": "79dbf3d8-eb09-4fb4-aa98-2073ab18faf3",
   "metadata": {},
   "outputs": [
    {
     "name": "stdout",
     "output_type": "stream",
     "text": [
      "lag -9 :  <xarray.DataArray ()>\n",
      "array(0.08708731)\n",
      "lag -8 :  <xarray.DataArray ()>\n",
      "array(0.06689723)\n",
      "lag -7 :  <xarray.DataArray ()>\n",
      "array(0.04339477)\n",
      "lag -6 :  <xarray.DataArray ()>\n",
      "array(0.01923731)\n",
      "lag -5 :  <xarray.DataArray ()>\n",
      "array(-0.00314808)\n",
      "lag -4 :  <xarray.DataArray ()>\n",
      "array(-0.02408547)\n",
      "lag -3 :  <xarray.DataArray ()>\n",
      "array(-0.03919648)\n",
      "lag -2 :  <xarray.DataArray ()>\n",
      "array(-0.0487335)\n",
      "lag -1 :  <xarray.DataArray ()>\n",
      "array(-0.05454671)\n",
      "lag 0 :  <xarray.DataArray ()>\n",
      "array(-0.05449877)\n"
     ]
    }
   ],
   "source": [
    "# AA\n",
    "s=10;\n",
    "for i in range(-s,0):\n",
    "    cov,cor,slope,intercept,pval,stderr = lag_linregress_3D(iso2782_dth_r,ekman_con_dr_shelf,\n",
    "                                                       lagx=0, lagy=i)\n",
    "\n",
    "    print('lag', i+1, ': ',cor)"
   ]
  },
  {
   "cell_type": "code",
   "execution_count": 87,
   "id": "8e8d9a56-ac12-4f55-a272-422faa0bbcde",
   "metadata": {},
   "outputs": [
    {
     "name": "stdout",
     "output_type": "stream",
     "text": [
      "lag -9 :  <xarray.DataArray ()>\n",
      "array(-0.11650739)\n",
      "lag -8 :  <xarray.DataArray ()>\n",
      "array(-0.09286298)\n",
      "lag -7 :  <xarray.DataArray ()>\n",
      "array(-0.06895322)\n",
      "lag -6 :  <xarray.DataArray ()>\n",
      "array(-0.04611083)\n",
      "lag -5 :  <xarray.DataArray ()>\n",
      "array(-0.02446679)\n",
      "lag -4 :  <xarray.DataArray ()>\n",
      "array(-0.00491557)\n",
      "lag -3 :  <xarray.DataArray ()>\n",
      "array(0.00930986)\n",
      "lag -2 :  <xarray.DataArray ()>\n",
      "array(0.01654697)\n",
      "lag -1 :  <xarray.DataArray ()>\n",
      "array(0.01990557)\n",
      "lag 0 :  <xarray.DataArray ()>\n",
      "array(0.01722752)\n"
     ]
    }
   ],
   "source": [
    "# AA\n",
    "s=10;\n",
    "for i in range(-s,0):\n",
    "    cov,cor,slope,intercept,pval,stderr = lag_linregress_3D(temp_400m_zadr,ekman_con_dr_shelf,\n",
    "                                                       lagx=0, lagy=i)\n",
    "\n",
    "    print('lag', i+1, ': ',cor)"
   ]
  },
  {
   "cell_type": "code",
   "execution_count": 88,
   "id": "3308c81e-d8f1-40ec-ae59-79da4d35c3ff",
   "metadata": {},
   "outputs": [
    {
     "name": "stdout",
     "output_type": "stream",
     "text": [
      "lag -14 :  <xarray.DataArray ()>\n",
      "array(0.03493865)\n",
      "lag -13 :  <xarray.DataArray ()>\n",
      "array(0.04070314)\n",
      "lag -12 :  <xarray.DataArray ()>\n",
      "array(0.04870899)\n",
      "lag -11 :  <xarray.DataArray ()>\n",
      "array(0.0652682)\n",
      "lag -10 :  <xarray.DataArray ()>\n",
      "array(0.08635464)\n",
      "lag -9 :  <xarray.DataArray ()>\n",
      "array(0.10522238)\n",
      "lag -8 :  <xarray.DataArray ()>\n",
      "array(0.12072806)\n",
      "lag -7 :  <xarray.DataArray ()>\n",
      "array(0.13793004)\n",
      "lag -6 :  <xarray.DataArray ()>\n",
      "array(0.15102225)\n",
      "lag -5 :  <xarray.DataArray ()>\n",
      "array(0.16110951)\n",
      "lag -4 :  <xarray.DataArray ()>\n",
      "array(0.1688396)\n",
      "lag -3 :  <xarray.DataArray ()>\n",
      "array(0.16701873)\n",
      "lag -2 :  <xarray.DataArray ()>\n",
      "array(0.15837646)\n",
      "lag -1 :  <xarray.DataArray ()>\n",
      "array(0.14490672)\n",
      "lag 0 :  <xarray.DataArray ()>\n",
      "array(0.1251764)\n"
     ]
    }
   ],
   "source": [
    "# AA\n",
    "s=15;\n",
    "for i in range(-s,0):\n",
    "    cov,cor,slope,intercept,pval,stderr = lag_linregress_3D(u_speed_tr,ekman_con_dr_shelf,\n",
    "                                                       lagx=0, lagy=i)\n",
    "\n",
    "    print('lag', i+1, ': ',cor)"
   ]
  },
  {
   "cell_type": "code",
   "execution_count": null,
   "id": "1e4fdc33-dbf6-4b5a-867c-1c6946f9951e",
   "metadata": {},
   "outputs": [],
   "source": []
  },
  {
   "cell_type": "code",
   "execution_count": null,
   "id": "d119512c-fbbd-477b-a331-08a9447660a5",
   "metadata": {},
   "outputs": [],
   "source": []
  },
  {
   "cell_type": "code",
   "execution_count": null,
   "id": "325eeaef-fad9-43b4-b5b4-059fe42df69c",
   "metadata": {},
   "outputs": [],
   "source": []
  },
  {
   "cell_type": "code",
   "execution_count": null,
   "id": "ae8567ce-2ffb-46dc-b723-3ff3ba67f8f4",
   "metadata": {},
   "outputs": [],
   "source": []
  },
  {
   "cell_type": "markdown",
   "id": "baec03da-63fc-4306-a576-36e0cd204951",
   "metadata": {},
   "source": [
    "### CORRELATIONS WITH EKMAN OFF SLOPE "
   ]
  },
  {
   "cell_type": "code",
   "execution_count": 82,
   "id": "a8bd5678-4915-4899-8fc1-80a654126b65",
   "metadata": {},
   "outputs": [
    {
     "name": "stdout",
     "output_type": "stream",
     "text": [
      "Cor EKMAN vs TEMP <xarray.DataArray ()>\n",
      "array(0.24281491)\n",
      "Cor EKMAN vs CLIM <xarray.DataArray ()>\n",
      "array(0.21787889)\n",
      "Cor EKMAN vs ISO <xarray.DataArray ()>\n",
      "array(-0.22931407)\n",
      "Cor EKMAN vs ASC <xarray.DataArray ()>\n",
      "array(0.42643552)\n"
     ]
    }
   ],
   "source": [
    "cov1,cor_temp,slope1,intercept1,pval_temp,stderr1 = lag_linregress_3D(ekman_con_dr_offslope,temp_400m_zadr,lagx=0,lagy=6)\n",
    "cov1,cor_clim,slope1,intercept1,pval_temp,stderr1 = lag_linregress_3D(ekman_con_dr_offslope,clim_d,lagx=0,lagy=6)\n",
    "cov2,cor_iso,slope2,intercept2,pval_iso,stderr2 = lag_linregress_3D(ekman_con_dr_offslope,iso2782_dth_r,lagx=8,lagy=0)\n",
    "cov2,cor_ekman,slope2,intercept2,pval2,stderr2 = lag_linregress_3D(u_speed_tr,ekman_con_dr_offslope,lagx=0,lagy=0)\n",
    "\n",
    "print('Cor EKMAN vs TEMP',cor_temp) \n",
    "print('Cor EKMAN vs CLIM',cor_clim) \n",
    "print('Cor EKMAN vs ISO',cor_iso)\n",
    "print('Cor EKMAN vs ASC',cor_ekman)\n"
   ]
  },
  {
   "cell_type": "code",
   "execution_count": 90,
   "id": "befce2ca-5fef-4dbb-b469-528f8908f69d",
   "metadata": {},
   "outputs": [
    {
     "name": "stdout",
     "output_type": "stream",
     "text": [
      "lag -9 :  <xarray.DataArray ()>\n",
      "array(0.10091586)\n",
      "lag -8 :  <xarray.DataArray ()>\n",
      "array(0.09428245)\n",
      "lag -7 :  <xarray.DataArray ()>\n",
      "array(0.07958809)\n",
      "lag -6 :  <xarray.DataArray ()>\n",
      "array(0.05787477)\n",
      "lag -5 :  <xarray.DataArray ()>\n",
      "array(0.03263578)\n",
      "lag -4 :  <xarray.DataArray ()>\n",
      "array(0.00394672)\n",
      "lag -3 :  <xarray.DataArray ()>\n",
      "array(-0.02890439)\n",
      "lag -2 :  <xarray.DataArray ()>\n",
      "array(-0.0633182)\n",
      "lag -1 :  <xarray.DataArray ()>\n",
      "array(-0.09663098)\n",
      "lag 0 :  <xarray.DataArray ()>\n",
      "array(-0.12907674)\n"
     ]
    }
   ],
   "source": [
    "# AA\n",
    "s=10;\n",
    "for i in range(-s,0):\n",
    "    cov,cor,slope,intercept,pval,stderr = lag_linregress_3D(iso2782_dth_r,ekman_con_dr_offslope,\n",
    "                                                       lagx=0, lagy=i)\n",
    "\n",
    "    print('lag', i+1, ': ',cor)"
   ]
  },
  {
   "cell_type": "code",
   "execution_count": 91,
   "id": "fe525f16-6a7f-443b-bdaf-525f2c65fc05",
   "metadata": {},
   "outputs": [
    {
     "name": "stdout",
     "output_type": "stream",
     "text": [
      "lag -9 :  <xarray.DataArray ()>\n",
      "array(0.14623687)\n",
      "lag -8 :  <xarray.DataArray ()>\n",
      "array(0.16793698)\n",
      "lag -7 :  <xarray.DataArray ()>\n",
      "array(0.19195422)\n",
      "lag -6 :  <xarray.DataArray ()>\n",
      "array(0.21794144)\n",
      "lag -5 :  <xarray.DataArray ()>\n",
      "array(0.24226401)\n",
      "lag -4 :  <xarray.DataArray ()>\n",
      "array(0.26556701)\n",
      "lag -3 :  <xarray.DataArray ()>\n",
      "array(0.288468)\n",
      "lag -2 :  <xarray.DataArray ()>\n",
      "array(0.30877084)\n",
      "lag -1 :  <xarray.DataArray ()>\n",
      "array(0.32235893)\n",
      "lag 0 :  <xarray.DataArray ()>\n",
      "array(0.32927865)\n"
     ]
    }
   ],
   "source": [
    "# AA\n",
    "s=10;\n",
    "for i in range(-s,0):\n",
    "    cov,cor,slope,intercept,pval,stderr = lag_linregress_3D(temp_400m_zadr,ekman_con_dr_offslope,\n",
    "                                                       lagx=0, lagy=i)\n",
    "\n",
    "    print('lag', i+1, ': ',cor)"
   ]
  },
  {
   "cell_type": "code",
   "execution_count": 92,
   "id": "7f1100db-e108-4477-af11-85fe053adfb5",
   "metadata": {},
   "outputs": [
    {
     "name": "stdout",
     "output_type": "stream",
     "text": [
      "lag -14 :  <xarray.DataArray ()>\n",
      "array(-0.05315238)\n",
      "lag -13 :  <xarray.DataArray ()>\n",
      "array(-0.05827793)\n",
      "lag -12 :  <xarray.DataArray ()>\n",
      "array(-0.05406724)\n",
      "lag -11 :  <xarray.DataArray ()>\n",
      "array(-0.03992376)\n",
      "lag -10 :  <xarray.DataArray ()>\n",
      "array(-0.01099071)\n",
      "lag -9 :  <xarray.DataArray ()>\n",
      "array(0.02745125)\n",
      "lag -8 :  <xarray.DataArray ()>\n",
      "array(0.07044143)\n",
      "lag -7 :  <xarray.DataArray ()>\n",
      "array(0.11378361)\n",
      "lag -6 :  <xarray.DataArray ()>\n",
      "array(0.15720885)\n",
      "lag -5 :  <xarray.DataArray ()>\n",
      "array(0.19865092)\n",
      "lag -4 :  <xarray.DataArray ()>\n",
      "array(0.24039277)\n",
      "lag -3 :  <xarray.DataArray ()>\n",
      "array(0.28614651)\n",
      "lag -2 :  <xarray.DataArray ()>\n",
      "array(0.33242984)\n",
      "lag -1 :  <xarray.DataArray ()>\n",
      "array(0.37436648)\n",
      "lag 0 :  <xarray.DataArray ()>\n",
      "array(0.40899421)\n"
     ]
    }
   ],
   "source": [
    "# AA\n",
    "s=15;\n",
    "for i in range(-s,0):\n",
    "    cov,cor,slope,intercept,pval,stderr = lag_linregress_3D(u_speed_tr,ekman_con_dr_offslope,\n",
    "                                                       lagx=0, lagy=i)\n",
    "\n",
    "    print('lag', i+1, ': ',cor)"
   ]
  },
  {
   "cell_type": "code",
   "execution_count": null,
   "id": "4890f273-d7a2-4fb4-930c-33e10017a7ae",
   "metadata": {},
   "outputs": [],
   "source": []
  },
  {
   "cell_type": "code",
   "execution_count": null,
   "id": "8b7299a2-f634-46f1-8009-5b31ba38f42e",
   "metadata": {},
   "outputs": [],
   "source": []
  },
  {
   "cell_type": "code",
   "execution_count": null,
   "id": "4d8b52df-434e-4ae0-9f9f-8f2910963f34",
   "metadata": {},
   "outputs": [],
   "source": []
  },
  {
   "cell_type": "markdown",
   "id": "b3c92285-f3c7-4774-a694-24ccd270c76d",
   "metadata": {},
   "source": [
    "### CORRELATIONS WITH ASC"
   ]
  },
  {
   "cell_type": "code",
   "execution_count": 83,
   "id": "8203c0e3-f43b-4ea7-85d6-2d5d7e6a6fd1",
   "metadata": {},
   "outputs": [
    {
     "name": "stdout",
     "output_type": "stream",
     "text": [
      "Cor ASC vs TEMP <xarray.DataArray ()>\n",
      "array(0.46063771)\n",
      "Cor ASC vs CLIM <xarray.DataArray ()>\n",
      "array(0.44502542)\n",
      "Cor ASC vs ISO <xarray.DataArray ()>\n",
      "array(-0.36616344)\n",
      "Cor ASC vs EKMAN SLOPE <xarray.DataArray ()>\n",
      "array(0.09618177)\n"
     ]
    }
   ],
   "source": [
    "cov1,cor_temp,slope1,intercept1,pval1,stderr1 = lag_linregress_3D(u_speed_tr,temp_400m_zadr)\n",
    "cov1,cor_clim,slope1,intercept1,pval1,stderr1 = lag_linregress_3D(u_speed_tr,clim_d)\n",
    "cov2,cor_iso,slope2,intercept2,pval2,stderr2 = lag_linregress_3D(u_speed_tr,iso2782_dth_r)\n",
    "cov2,cor_ekman,slope2,intercept2,pval2,stderr2 = lag_linregress_3D(u_speed_tr,ekman_con_dr)\n",
    "\n",
    "print('Cor ASC vs TEMP',cor_temp) \n",
    "print('Cor ASC vs CLIM',cor_clim) \n",
    "print('Cor ASC vs ISO',cor_iso)\n",
    "print('Cor ASC vs EKMAN SLOPE',cor_ekman)\n"
   ]
  },
  {
   "cell_type": "code",
   "execution_count": 94,
   "id": "f876433f-b8a3-4af1-a84c-0cdddbe3c440",
   "metadata": {},
   "outputs": [
    {
     "name": "stdout",
     "output_type": "stream",
     "text": [
      "lag -9 :  <xarray.DataArray ()>\n",
      "array(-0.23511561)\n",
      "lag -8 :  <xarray.DataArray ()>\n",
      "array(-0.30008821)\n",
      "lag -7 :  <xarray.DataArray ()>\n",
      "array(-0.36150481)\n",
      "lag -6 :  <xarray.DataArray ()>\n",
      "array(-0.4150075)\n",
      "lag -5 :  <xarray.DataArray ()>\n",
      "array(-0.45779717)\n",
      "lag -4 :  <xarray.DataArray ()>\n",
      "array(-0.48682986)\n",
      "lag -3 :  <xarray.DataArray ()>\n",
      "array(-0.50012786)\n",
      "lag -2 :  <xarray.DataArray ()>\n",
      "array(-0.49567822)\n",
      "lag -1 :  <xarray.DataArray ()>\n",
      "array(-0.47260358)\n",
      "lag 0 :  <xarray.DataArray ()>\n",
      "array(-0.43089179)\n"
     ]
    }
   ],
   "source": [
    "# AA\n",
    "s=10;\n",
    "for i in range(-s,0):\n",
    "    cov,cor,slope,intercept,pval,stderr = lag_linregress_3D(iso2782_dth_r,u_speed_tr,\n",
    "                                                       lagx=i, lagy=0)\n",
    "\n",
    "    print('lag', i+1, ': ',cor)"
   ]
  },
  {
   "cell_type": "code",
   "execution_count": null,
   "id": "b808606e-34bc-4193-84e3-d8eea025a983",
   "metadata": {},
   "outputs": [
    {
     "name": "stdout",
     "output_type": "stream",
     "text": [
      "lag -10 :  <xarray.DataArray ()>\n",
      "array(0.1062491)\n",
      "lag -9 :  <xarray.DataArray ()>\n",
      "array(0.06597358)\n",
      "lag -8 :  <xarray.DataArray ()>\n",
      "array(0.01426687)\n",
      "lag -7 :  <xarray.DataArray ()>\n",
      "array(-0.04856176)\n",
      "lag -6 :  <xarray.DataArray ()>\n",
      "array(-0.12083471)\n",
      "lag -5 :  <xarray.DataArray ()>\n",
      "array(-0.2001916)\n",
      "lag -4 :  <xarray.DataArray ()>\n",
      "array(-0.28387409)\n",
      "lag -3 :  <xarray.DataArray ()>\n",
      "array(-0.36954174)\n",
      "lag -2 :  <xarray.DataArray ()>\n",
      "array(-0.45311552)\n",
      "lag -1 :  <xarray.DataArray ()>\n",
      "array(-0.53147005)\n",
      "lag 0 :  <xarray.DataArray ()>\n",
      "array(-0.6015749)\n"
     ]
    }
   ],
   "source": [
    "# AA\n",
    "s=11;\n",
    "for i in range(-s,0):\n",
    "    cov,cor,slope,intercept,pval,stderr = lag_linregress_3D(u_speed_tr,temp_400m_zadr,\n",
    "                                                       lagx=0, lagy=i)\n",
    "\n",
    "    print('lag', i+1, ': ',cor)"
   ]
  },
  {
   "cell_type": "code",
   "execution_count": 96,
   "id": "2db24ba0-9512-48a8-ab6b-e78e0938434b",
   "metadata": {},
   "outputs": [
    {
     "name": "stdout",
     "output_type": "stream",
     "text": [
      "lag -14 :  <xarray.DataArray ()>\n",
      "array(0.19255951)\n",
      "lag -13 :  <xarray.DataArray ()>\n",
      "array(0.22578196)\n",
      "lag -12 :  <xarray.DataArray ()>\n",
      "array(0.25860285)\n",
      "lag -11 :  <xarray.DataArray ()>\n",
      "array(0.28853023)\n",
      "lag -10 :  <xarray.DataArray ()>\n",
      "array(0.31483227)\n",
      "lag -9 :  <xarray.DataArray ()>\n",
      "array(0.33324)\n",
      "lag -8 :  <xarray.DataArray ()>\n",
      "array(0.34455258)\n",
      "lag -7 :  <xarray.DataArray ()>\n",
      "array(0.34717612)\n",
      "lag -6 :  <xarray.DataArray ()>\n",
      "array(0.33837897)\n",
      "lag -5 :  <xarray.DataArray ()>\n",
      "array(0.32110723)\n",
      "lag -4 :  <xarray.DataArray ()>\n",
      "array(0.29815569)\n",
      "lag -3 :  <xarray.DataArray ()>\n",
      "array(0.26812129)\n",
      "lag -2 :  <xarray.DataArray ()>\n",
      "array(0.23310059)\n",
      "lag -1 :  <xarray.DataArray ()>\n",
      "array(0.19252977)\n",
      "lag 0 :  <xarray.DataArray ()>\n",
      "array(0.14689109)\n"
     ]
    }
   ],
   "source": [
    "# AA\n",
    "s=15;\n",
    "for i in range(-s,0):\n",
    "    cov,cor,slope,intercept,pval,stderr = lag_linregress_3D(u_speed_tr,ekman_con_dr,\n",
    "                                                       lagx=0, lagy=i)\n",
    "\n",
    "    print('lag', i+1, ': ',cor)"
   ]
  },
  {
   "cell_type": "markdown",
   "id": "7ed1cebf-d9cb-49ec-9816-7ea172d4283c",
   "metadata": {},
   "source": [
    "### CORRELATIONS WITH ISO"
   ]
  },
  {
   "cell_type": "code",
   "execution_count": 84,
   "id": "85fe0030-eb75-4c33-9813-5c2b2cbbc5ff",
   "metadata": {},
   "outputs": [
    {
     "name": "stdout",
     "output_type": "stream",
     "text": [
      "Cor ISO vs TEMP <xarray.DataArray ()>\n",
      "array(-0.64945427)\n",
      "Cor ISO vs TEMP <xarray.DataArray ()>\n",
      "array(-0.63537604)\n",
      "Cor ISO vs EKMAN SLOPE <xarray.DataArray ()>\n",
      "array(-0.45554475)\n"
     ]
    }
   ],
   "source": [
    "cov1,cor_temp,slope1,intercept1,pval1,stderr1 = lag_linregress_3D(iso2782_dth_r,temp_400m_zadr)\n",
    "cov1,cor_clim,slope1,intercept1,pval1,stderr1 = lag_linregress_3D(iso2782_dth_r,clim_d)\n",
    "#cov2,cor_iso,slope2,intercept2,pval2,stderr2 = lag_linregress_3D(u_speed_dr2,iso2782_dth_r)\n",
    "#cov1,cor_salt,slope1,intercept1,pval1,stderr1 = lag_linregress_3D(iso2782_dth_r,sal_za_dr)\n",
    "#cov2,cor_age,slope2,intercept2,pval2,stderr2 = lag_linregress_3D(iso2782_dth_r,bottom_age_adr)\n",
    "cov2,cor_ekman,slope2,intercept2,pval2,stderr2 = lag_linregress_3D(iso2782_dth_r,ekman_con_dr)\n",
    "#cov2,cor_ekman2,slope2,intercept2,pval2,stderr2 = lag_linregress_3D(iso2782_dth_r,ekman_con_sdr)\n",
    "#cov2,cor_ekman_trans,slope2,intercept2,pval2,stderr2 = lag_linregress_3D(iso2782_dth_r,ek_transect_dr)\n",
    "print('Cor ISO vs TEMP',cor_temp)\n",
    "print('Cor ISO vs TEMP',cor_clim)\n",
    "#print('Cor ISO vs ASC',cor_iso)\n",
    "\n",
    "\n",
    "#print('Cor ISO vs SAL',cor_salt)\n",
    "#print('Cor ISO vs AGE',cor_age)\n",
    "print('Cor ISO vs EKMAN SLOPE',cor_ekman)\n",
    "#print('Cor ISO vs EKMAN SHELF',cor_ekman2)\n",
    "#print('Cor ISO vs EKMAN TRANS',cor_ekman_trans)"
   ]
  },
  {
   "cell_type": "code",
   "execution_count": 144,
   "id": "157ebcba-c1ea-4e9d-87cc-10c5dc5c604d",
   "metadata": {},
   "outputs": [
    {
     "ename": "NameError",
     "evalue": "name 'ekman_con_dr2' is not defined",
     "output_type": "error",
     "traceback": [
      "\u001b[0;31m---------------------------------------------------------------------------\u001b[0m",
      "\u001b[0;31mNameError\u001b[0m                                 Traceback (most recent call last)",
      "\u001b[0;32m/jobfs/44466082.gadi-pbs/ipykernel_361493/3538077939.py\u001b[0m in \u001b[0;36m<cell line: 3>\u001b[0;34m()\u001b[0m\n\u001b[1;32m      2\u001b[0m \u001b[0ms\u001b[0m\u001b[0;34m=\u001b[0m\u001b[0;36m11\u001b[0m\u001b[0;34m;\u001b[0m\u001b[0;34m\u001b[0m\u001b[0;34m\u001b[0m\u001b[0m\n\u001b[1;32m      3\u001b[0m \u001b[0;32mfor\u001b[0m \u001b[0mi\u001b[0m \u001b[0;32min\u001b[0m \u001b[0mrange\u001b[0m\u001b[0;34m(\u001b[0m\u001b[0;34m-\u001b[0m\u001b[0ms\u001b[0m\u001b[0;34m,\u001b[0m\u001b[0;36m0\u001b[0m\u001b[0;34m)\u001b[0m\u001b[0;34m:\u001b[0m\u001b[0;34m\u001b[0m\u001b[0;34m\u001b[0m\u001b[0m\n\u001b[0;32m----> 4\u001b[0;31m     cov,cor,slope,intercept,pval,stderr = lag_linregress_3D(ekman_con_dr2,u_speed_dr,\n\u001b[0m\u001b[1;32m      5\u001b[0m                                                        lagx=i, lagy=0)\n\u001b[1;32m      6\u001b[0m \u001b[0;34m\u001b[0m\u001b[0m\n",
      "\u001b[0;31mNameError\u001b[0m: name 'ekman_con_dr2' is not defined"
     ]
    }
   ],
   "source": [
    "# AA\n",
    "s=11;\n",
    "for i in range(-s,0):\n",
    "    cov,cor,slope,intercept,pval,stderr = lag_linregress_3D(ekman_con_dr2,u_speed_dr,\n",
    "                                                       lagx=i, lagy=0)\n",
    "\n",
    "    print('lag', i+1, ': ',cor)"
   ]
  },
  {
   "cell_type": "code",
   "execution_count": 145,
   "id": "f41eacfc-97d0-48a3-90f6-170c03f02536",
   "metadata": {},
   "outputs": [
    {
     "name": "stdout",
     "output_type": "stream",
     "text": [
      "lag -10 :  <xarray.DataArray ()>\n",
      "array(-0.25832214)\n",
      "lag -9 :  <xarray.DataArray ()>\n",
      "array(-0.31295613)\n",
      "lag -8 :  <xarray.DataArray ()>\n",
      "array(-0.36532256)\n",
      "lag -7 :  <xarray.DataArray ()>\n",
      "array(-0.41238914)\n",
      "lag -6 :  <xarray.DataArray ()>\n",
      "array(-0.45143057)\n",
      "lag -5 :  <xarray.DataArray ()>\n",
      "array(-0.48168253)\n",
      "lag -4 :  <xarray.DataArray ()>\n",
      "array(-0.50250026)\n",
      "lag -3 :  <xarray.DataArray ()>\n",
      "array(-0.51483267)\n",
      "lag -2 :  <xarray.DataArray ()>\n",
      "array(-0.5183648)\n",
      "lag -1 :  <xarray.DataArray ()>\n",
      "array(-0.51166213)\n",
      "lag 0 :  <xarray.DataArray ()>\n",
      "array(-0.49321339)\n"
     ]
    }
   ],
   "source": [
    "# AA\n",
    "s=11;\n",
    "for i in range(-s,0):\n",
    "    cov,cor,slope,intercept,pval,stderr = lag_linregress_3D(ekman_con_dr,iso2782_dth_r,\n",
    "                                                       lagx=i, lagy=0)\n",
    "\n",
    "    print('lag', i+1, ': ',cor)"
   ]
  },
  {
   "cell_type": "raw",
   "id": "c017e902-780a-4372-af09-6db5476f1d78",
   "metadata": {},
   "source": [
    "It doesn't correlate\n",
    "# AA\n",
    "s=11;\n",
    "for i in range(-s,0):\n",
    "    cov,cor,slope,intercept,pval,stderr = lag_linregress_3D(bottom_age_adr,u_speed_dr,\n",
    "                                                       lagx=0, lagy=i)\n",
    "\n",
    "    print('lag', i+1, ': ',cor)"
   ]
  },
  {
   "cell_type": "code",
   "execution_count": null,
   "id": "7059cb31-1440-4792-91c0-c18b75ecdbcb",
   "metadata": {},
   "outputs": [],
   "source": [
    "# AA\n",
    "s=5;\n",
    "for i in range(-s,0):\n",
    "    cov,cor,slope,intercept,pval,stderr = lag_linregress_3D(u_speed_dr,sal_za_dr,\n",
    "                                                       lagx=i, lagy=0)\n",
    "\n",
    "    print('lag', i+1, ': ',cor)"
   ]
  },
  {
   "cell_type": "code",
   "execution_count": 178,
   "id": "e7a6974a-a1a4-433a-ad60-a66113401b2e",
   "metadata": {},
   "outputs": [
    {
     "name": "stdout",
     "output_type": "stream",
     "text": [
      "lag -10 :  <xarray.DataArray ()>\n",
      "array(-0.43702462)\n",
      "lag -9 :  <xarray.DataArray ()>\n",
      "array(-0.48470736)\n",
      "lag -8 :  <xarray.DataArray ()>\n",
      "array(-0.53262765)\n",
      "lag -7 :  <xarray.DataArray ()>\n",
      "array(-0.57998784)\n",
      "lag -6 :  <xarray.DataArray ()>\n",
      "array(-0.62487207)\n",
      "lag -5 :  <xarray.DataArray ()>\n",
      "array(-0.66454501)\n",
      "lag -4 :  <xarray.DataArray ()>\n",
      "array(-0.69621424)\n",
      "lag -3 :  <xarray.DataArray ()>\n",
      "array(-0.71802749)\n",
      "lag -2 :  <xarray.DataArray ()>\n",
      "array(-0.72694028)\n",
      "lag -1 :  <xarray.DataArray ()>\n",
      "array(-0.7208279)\n",
      "lag 0 :  <xarray.DataArray ()>\n",
      "array(-0.69861441)\n"
     ]
    }
   ],
   "source": [
    "# AA\n",
    "s=11;\n",
    "for i in range(-s,0):\n",
    "    cov,cor,slope,intercept,pval,stderr = lag_linregress_3D(iso2782_dth_r,temp_400m_zadr,\n",
    "                                                       lagx=i, lagy=0)\n",
    "\n",
    "    print('lag', i+1, ': ',cor)"
   ]
  },
  {
   "cell_type": "code",
   "execution_count": 167,
   "id": "75c47c5e-608d-48b7-8fd7-bac5a507b54d",
   "metadata": {},
   "outputs": [
    {
     "name": "stdout",
     "output_type": "stream",
     "text": [
      "lag -10 :  <xarray.DataArray ()>\n",
      "array(-0.2532655)\n",
      "lag -9 :  <xarray.DataArray ()>\n",
      "array(-0.2920926)\n",
      "lag -8 :  <xarray.DataArray ()>\n",
      "array(-0.33568933)\n",
      "lag -7 :  <xarray.DataArray ()>\n",
      "array(-0.38302287)\n",
      "lag -6 :  <xarray.DataArray ()>\n",
      "array(-0.43254585)\n",
      "lag -5 :  <xarray.DataArray ()>\n",
      "array(-0.47731753)\n",
      "lag -4 :  <xarray.DataArray ()>\n",
      "array(-0.5048257)\n",
      "lag -3 :  <xarray.DataArray ()>\n",
      "array(-0.5178316)\n",
      "lag -2 :  <xarray.DataArray ()>\n",
      "array(-0.52325691)\n",
      "lag -1 :  <xarray.DataArray ()>\n",
      "array(-0.51649473)\n",
      "lag 0 :  <xarray.DataArray ()>\n",
      "array(-0.49260815)\n"
     ]
    }
   ],
   "source": [
    "# AA\n",
    "s=11;\n",
    "for i in range(-s,0):\n",
    "    cov,cor,slope,intercept,pval,stderr = lag_linregress_3D(iso_detrended,temp_400m_zadr,\n",
    "                                                       lagx=i, lagy=0)\n",
    "\n",
    "    print('lag', i+1, ': ',cor)"
   ]
  },
  {
   "cell_type": "code",
   "execution_count": null,
   "id": "0cc3e5f6-bf95-423f-b13a-9a97c7fe0f46",
   "metadata": {},
   "outputs": [],
   "source": [
    "# AA\n",
    "s=11;\n",
    "for i in range(-s,0):\n",
    "    cov,cor,slope,intercept,pval,stderr = lag_linregress_3D(u_speed_dr2,iso2782_dth_r,\n",
    "                                                       lagx=0, lagy=i)\n",
    "\n",
    "    print('lag', i+1, ': ',cor)"
   ]
  },
  {
   "cell_type": "code",
   "execution_count": null,
   "id": "64efd7fb-9404-4edf-8919-f246c5f650ca",
   "metadata": {},
   "outputs": [],
   "source": [
    "# AA\n",
    "s=11;\n",
    "for i in range(-s,0):\n",
    "    cov,cor,slope,intercept,pval,stderr = lag_linregress_3D(ekman_con_dr2,iso2782_dth_r,\n",
    "                                                       lagx=i, lagy=0)\n",
    "\n",
    "    print('lag', i+1, ': ',cor)"
   ]
  },
  {
   "cell_type": "code",
   "execution_count": null,
   "id": "bb387d3f-9d34-40c6-81aa-e9acd42d6ecc",
   "metadata": {},
   "outputs": [],
   "source": [
    "# AA\n",
    "s=11;\n",
    "for i in range(-s,0):\n",
    "    cov,cor,slope,intercept,pval,stderr = lag_linregress_3D(temp_400m_zadr,ekman_con_dr,\n",
    "                                                       lagx=0, lagy=i)\n",
    "\n",
    "    print('lag', i+1, ': ',cor)"
   ]
  },
  {
   "cell_type": "markdown",
   "id": "28eb795d-87d5-47ce-a1c3-90ae269dfe4c",
   "metadata": {},
   "source": [
    "### CORRELATIONS EKMAN WITH TEMPERATURE"
   ]
  },
  {
   "cell_type": "code",
   "execution_count": 85,
   "id": "ba267f2f-0fda-49a8-8dfe-f9e0d817d306",
   "metadata": {},
   "outputs": [
    {
     "ename": "NameError",
     "evalue": "name 'ekman_con_dr2' is not defined",
     "output_type": "error",
     "traceback": [
      "\u001b[0;31m---------------------------------------------------------------------------\u001b[0m",
      "\u001b[0;31mNameError\u001b[0m                                 Traceback (most recent call last)",
      "\u001b[0;32m/jobfs/63922992.gadi-pbs/ipykernel_92284/184673264.py\u001b[0m in \u001b[0;36m<cell line: 2>\u001b[0;34m()\u001b[0m\n\u001b[1;32m      1\u001b[0m \u001b[0mcov2\u001b[0m\u001b[0;34m,\u001b[0m\u001b[0mcor_ekman\u001b[0m\u001b[0;34m,\u001b[0m\u001b[0mslope2\u001b[0m\u001b[0;34m,\u001b[0m\u001b[0mintercept2\u001b[0m\u001b[0;34m,\u001b[0m\u001b[0mpval2\u001b[0m\u001b[0;34m,\u001b[0m\u001b[0mstderr2\u001b[0m \u001b[0;34m=\u001b[0m \u001b[0mlag_linregress_3D\u001b[0m\u001b[0;34m(\u001b[0m\u001b[0mtemp_400m_zadr\u001b[0m\u001b[0;34m,\u001b[0m\u001b[0mekman_con_dr\u001b[0m\u001b[0;34m)\u001b[0m\u001b[0;34m\u001b[0m\u001b[0;34m\u001b[0m\u001b[0m\n\u001b[0;32m----> 2\u001b[0;31m \u001b[0mcov2\u001b[0m\u001b[0;34m,\u001b[0m\u001b[0mcor_ekman2\u001b[0m\u001b[0;34m,\u001b[0m\u001b[0mslope2\u001b[0m\u001b[0;34m,\u001b[0m\u001b[0mintercept2\u001b[0m\u001b[0;34m,\u001b[0m\u001b[0mpval2\u001b[0m\u001b[0;34m,\u001b[0m\u001b[0mstderr2\u001b[0m \u001b[0;34m=\u001b[0m \u001b[0mlag_linregress_3D\u001b[0m\u001b[0;34m(\u001b[0m\u001b[0mtemp_400m_zadr\u001b[0m\u001b[0;34m,\u001b[0m\u001b[0mekman_con_dr2\u001b[0m\u001b[0;34m)\u001b[0m\u001b[0;34m\u001b[0m\u001b[0;34m\u001b[0m\u001b[0m\n\u001b[0m\u001b[1;32m      3\u001b[0m \u001b[0mcov2\u001b[0m\u001b[0;34m,\u001b[0m\u001b[0mcor_ekman_shelf\u001b[0m\u001b[0;34m,\u001b[0m\u001b[0mslope2\u001b[0m\u001b[0;34m,\u001b[0m\u001b[0mintercept2\u001b[0m\u001b[0;34m,\u001b[0m\u001b[0mpval2\u001b[0m\u001b[0;34m,\u001b[0m\u001b[0mstderr2\u001b[0m \u001b[0;34m=\u001b[0m \u001b[0mlag_linregress_3D\u001b[0m\u001b[0;34m(\u001b[0m\u001b[0mtemp_400m_zadr\u001b[0m\u001b[0;34m,\u001b[0m\u001b[0mekman_shelf_dr\u001b[0m\u001b[0;34m)\u001b[0m\u001b[0;34m\u001b[0m\u001b[0;34m\u001b[0m\u001b[0m\n\u001b[1;32m      4\u001b[0m \u001b[0;34m\u001b[0m\u001b[0m\n\u001b[1;32m      5\u001b[0m \u001b[0;34m\u001b[0m\u001b[0m\n",
      "\u001b[0;31mNameError\u001b[0m: name 'ekman_con_dr2' is not defined"
     ]
    }
   ],
   "source": [
    "cov2,cor_ekman,slope2,intercept2,pval2,stderr2 = lag_linregress_3D(temp_400m_zadr,ekman_con_dr)\n",
    "cov2,cor_ekman2,slope2,intercept2,pval2,stderr2 = lag_linregress_3D(temp_400m_zadr,ekman_con_dr2)\n",
    "cov2,cor_ekman_shelf,slope2,intercept2,pval2,stderr2 = lag_linregress_3D(temp_400m_zadr,ekman_shelf_dr)\n",
    "\n",
    "\n",
    "print('Cor ISO vs EKMAN SLOPE',cor_ekman)\n",
    "print('Cor ISO vs EKMAN NEAR SHELF',cor_ekman2)\n",
    "print('Cor ISO vs EKMAN SHELF',cor_ekman_shelf)"
   ]
  },
  {
   "cell_type": "code",
   "execution_count": null,
   "id": "be0e7fa8-3013-403d-8e51-988ea1083441",
   "metadata": {},
   "outputs": [],
   "source": [
    "# AA\n",
    "s=11;\n",
    "for i in range(-s,0):\n",
    "    cov,cor,slope,intercept,pval,stderr = lag_linregress_3D(temp_400m_zadr,ekman_con_dr,\n",
    "                                                       lagx=0, lagy=i)\n",
    "\n",
    "    print('lag', i+1, ': ',cor)"
   ]
  },
  {
   "cell_type": "code",
   "execution_count": null,
   "id": "d5e5cecd-c05a-430f-bb3b-2b7458285ef4",
   "metadata": {},
   "outputs": [],
   "source": []
  },
  {
   "cell_type": "code",
   "execution_count": null,
   "id": "30372aa9-080e-48ae-9b13-40f4755f98f9",
   "metadata": {},
   "outputs": [],
   "source": [
    "fontsize=16\n",
    "fig=plt.figure(figsize=(25, 22))\n",
    "fig.subplots_adjust(top=0.88)\n",
    "\n",
    "ax1 = plt.subplot(4, 1, 2)\n",
    "bottom_age_adr.plot(color='darkorange')\n",
    "\n",
    "ax1.set_ylabel('Age of Bottom (years)', fontsize=fontsize,color='darkorange')\n",
    "ax1.tick_params(axis='y', labelcolor='darkorange',labelsize=fontsize)\n",
    "ax1.set_xlabel(' ', fontsize = fontsize)\n",
    "ax1.tick_params(axis='x',labelsize=fontsize)\n",
    "#plt.title('Monthly T (Box1) vs Zonal Wind (small grid; -65,-64.5S/-258,-252E) / Rolling mean',fontsize=fontsize)\n",
    "plt.grid(color = 'gray', linestyle = '--', linewidth = 0.5)\n",
    "#plt.ylim([-0.8,0.8])\n",
    "#plt.text(100,0.4,\"cor = -0.73, lag = 4 months\")\n",
    "\n",
    "\n",
    "ax2 = ax1.twinx()\n",
    "#isocon_off_dr.plot(color='C0')\n",
    "iso2782_dth_r.plot(color='C0',linestyle='--')\n",
    "#isocon_off3_dr.plot(color='C0',linestyle=':')\n",
    "ax2.set_ylabel('Isopycnal Depth (m)', fontsize=fontsize, color='C0')\n",
    "ax2.tick_params(axis='x',labelsize=fontsize)\n",
    "ax2.tick_params(axis='y', labelcolor='C0',labelsize=fontsize)\n",
    "#ax2.invert_yaxis()\n",
    "plt.grid(color = 'gray', linestyle = '--', linewidth = 0.5)\n",
    "#plt.text(700, -0.4, 'cor=0.016', fontsize = 12)\n",
    "#building legend\n",
    "#plt.plot(np.nan,np.nan,color='C0',linestyle=':',label='27.80')\n",
    "plt.plot(np.nan,np.nan,color='C0',linestyle='--',label='27.82 kgm$^{-3}$')\n",
    "#plt.plot(np.nan,np.nan,color='C0',label='27.83')\n",
    "plt.legend(loc=\"upper left\",fontsize=fontsize)\n",
    "#plt.ylim([100,900])\n",
    "\n",
    "figdir = '/home/581/ns3783/Scripts/Figures'\n",
    "#figdir = '/g/data/jk72/ns3783'\n",
    "filestr = figdir+'/test_series.png'\n",
    "plt.savefig(filestr,dpi=600,bbox_inches='tight')"
   ]
  },
  {
   "cell_type": "code",
   "execution_count": null,
   "id": "5f8374e5-12cf-43a8-bb35-1779c8f234df",
   "metadata": {},
   "outputs": [],
   "source": [
    "fontsize=16\n",
    "fig=plt.figure(figsize=(25, 22))\n",
    "fig.subplots_adjust(top=0.88)\n",
    "\n",
    "ax1 = plt.subplot(4, 1, 2)\n",
    "sal_za_r.plot(color='darkorange')\n",
    "\n",
    "ax1.set_ylabel('Shelf Salinity', fontsize=fontsize,color='darkorange')\n",
    "ax1.tick_params(axis='y', labelcolor='darkorange',labelsize=fontsize)\n",
    "ax1.set_xlabel(' ', fontsize = fontsize)\n",
    "ax1.tick_params(axis='x',labelsize=fontsize)\n",
    "#plt.title('Monthly T (Box1) vs Zonal Wind (small grid; -65,-64.5S/-258,-252E) / Rolling mean',fontsize=fontsize)\n",
    "plt.grid(color = 'gray', linestyle = '--', linewidth = 0.5)\n",
    "#plt.ylim([-0.8,0.8])\n",
    "#plt.text(100,0.4,\"cor = -0.73, lag = 4 months\")\n",
    "\n",
    "\n",
    "ax2 = ax1.twinx()\n",
    "#isocon_off_dr.plot(color='C0')\n",
    "u_speed_r.plot(color='C0',linestyle='--')\n",
    "#isocon_off3_dr.plot(color='C0',linestyle=':')\n",
    "ax2.set_ylabel('ASC (m/s)', fontsize=fontsize, color='C0')\n",
    "ax2.tick_params(axis='x',labelsize=fontsize)\n",
    "ax2.tick_params(axis='y', labelcolor='C0',labelsize=fontsize)\n",
    "#ax2.invert_yaxis()\n",
    "plt.grid(color = 'gray', linestyle = '--', linewidth = 0.5)\n",
    "#plt.text(700, -0.4, 'cor=0.016', fontsize = 12)\n",
    "#building legend\n",
    "#plt.plot(np.nan,np.nan,color='C0',linestyle=':',label='27.80')\n",
    "plt.plot(np.nan,np.nan,color='C0',linestyle='--',label='27.82 kgm$^{-3}$')\n",
    "#plt.plot(np.nan,np.nan,color='C0',label='27.83')\n",
    "plt.legend(loc=\"upper left\",fontsize=fontsize)\n",
    "#plt.ylim([100,900])\n",
    "\n",
    "#figdir = '/home/581/ns3783/Scripts/Figures'\n",
    "#figdir = '/g/data/jk72/ns3783'\n",
    "#filestr = figdir+'/test_series.png'\n",
    "#plt.savefig(filestr,dpi=600,bbox_inches='tight')"
   ]
  },
  {
   "cell_type": "code",
   "execution_count": null,
   "id": "2af39412-33d1-49fc-9c78-42ced8b69602",
   "metadata": {},
   "outputs": [],
   "source": [
    "fontsize=16\n",
    "fig=plt.figure(figsize=(25, 22))\n",
    "fig.subplots_adjust(top=0.88)\n",
    "\n",
    "ax1 = plt.subplot(4, 1, 2)\n",
    "sal_za_r.plot(color='darkorange')\n",
    "\n",
    "ax1.set_ylabel('Shelf Salinity', fontsize=fontsize,color='darkorange')\n",
    "ax1.tick_params(axis='y', labelcolor='darkorange',labelsize=fontsize)\n",
    "ax1.set_xlabel(' ', fontsize = fontsize)\n",
    "ax1.tick_params(axis='x',labelsize=fontsize)\n",
    "#plt.title('Monthly T (Box1) vs Zonal Wind (small grid; -65,-64.5S/-258,-252E) / Rolling mean',fontsize=fontsize)\n",
    "plt.grid(color = 'gray', linestyle = '--', linewidth = 0.5)\n",
    "#plt.ylim([-0.8,0.8])\n",
    "#plt.text(100,0.4,\"cor = -0.73, lag = 4 months\")\n",
    "\n",
    "\n",
    "ax2 = ax1.twinx()\n",
    "#isocon_off_dr.plot(color='C0')\n",
    "u_speed_r.plot(color='C0',linestyle='--')\n",
    "#isocon_off3_dr.plot(color='C0',linestyle=':')\n",
    "ax2.set_ylabel('ASC (m/s)', fontsize=fontsize, color='C0')\n",
    "ax2.tick_params(axis='x',labelsize=fontsize)\n",
    "ax2.tick_params(axis='y', labelcolor='C0',labelsize=fontsize)\n",
    "#ax2.invert_yaxis()\n",
    "plt.grid(color = 'gray', linestyle = '--', linewidth = 0.5)\n",
    "#plt.text(700, -0.4, 'cor=0.016', fontsize = 12)\n",
    "#building legend\n",
    "#plt.plot(np.nan,np.nan,color='C0',linestyle=':',label='27.80')\n",
    "plt.plot(np.nan,np.nan,color='C0',linestyle='--',label='27.82 kgm$^{-3}$')\n",
    "#plt.plot(np.nan,np.nan,color='C0',label='27.83')\n",
    "plt.legend(loc=\"upper left\",fontsize=fontsize)\n",
    "#plt.ylim([100,900])\n",
    "\n",
    "#figdir = '/home/581/ns3783/Scripts/Figures'\n",
    "#figdir = '/g/data/jk72/ns3783'\n",
    "#filestr = figdir+'/test_series.png'\n",
    "#plt.savefig(filestr,dpi=600,bbox_inches='tight')"
   ]
  },
  {
   "cell_type": "code",
   "execution_count": null,
   "id": "36e69753-f9cc-4748-9307-2077a55dfe50",
   "metadata": {},
   "outputs": [],
   "source": []
  },
  {
   "cell_type": "code",
   "execution_count": null,
   "id": "c96124de-36e6-497f-bb2e-221c44b90d47",
   "metadata": {},
   "outputs": [],
   "source": [
    "fontsize=16\n",
    "fig=plt.figure(figsize=(25, 22))\n",
    "fig.subplots_adjust(top=0.88)\n",
    "\n",
    "ax1 = plt.subplot(4, 1, 2)\n",
    "ekman_con_dr2.plot(color='darkorange')\n",
    "\n",
    "ax1.set_ylabel('Ekman Pump (m/day)', fontsize=fontsize,color='darkorange')\n",
    "ax1.tick_params(axis='y', labelcolor='darkorange',labelsize=fontsize)\n",
    "ax1.set_xlabel(' ', fontsize = fontsize)\n",
    "ax1.tick_params(axis='x',labelsize=fontsize)\n",
    "#plt.title('Monthly T (Box1) vs Zonal Wind (small grid; -65,-64.5S/-258,-252E) / Rolling mean',fontsize=fontsize)\n",
    "plt.grid(color = 'gray', linestyle = '--', linewidth = 0.5)\n",
    "#plt.ylim([-0.8,0.8])\n",
    "#plt.text(100,0.4,\"cor = -0.73, lag = 4 months\")\n",
    "\n",
    "\n",
    "ax2 = ax1.twinx()\n",
    "#isocon_off_dr.plot(color='C0')\n",
    "u_speed_r.plot(color='C0',linestyle='--')\n",
    "#isocon_off3_dr.plot(color='C0',linestyle=':')\n",
    "ax2.set_ylabel('ASC (m/s)', fontsize=fontsize, color='C0')\n",
    "ax2.tick_params(axis='x',labelsize=fontsize)\n",
    "ax2.tick_params(axis='y', labelcolor='C0',labelsize=fontsize)\n",
    "#ax2.invert_yaxis()\n",
    "plt.grid(color = 'gray', linestyle = '--', linewidth = 0.5)\n",
    "#plt.text(700, -0.4, 'cor=0.016', fontsize = 12)\n",
    "#building legend\n",
    "#plt.plot(np.nan,np.nan,color='C0',linestyle=':',label='27.80')\n",
    "plt.plot(np.nan,np.nan,color='C0',linestyle='--',label='27.82 kgm$^{-3}$')\n",
    "#plt.plot(np.nan,np.nan,color='C0',label='27.83')\n",
    "plt.legend(loc=\"lower left\",fontsize=fontsize)\n",
    "#plt.ylim([100,900])\n",
    "\n",
    "#figdir = '/home/581/ns3783/Scripts/Figures'\n",
    "#figdir = '/g/data/jk72/ns3783'\n",
    "#filestr = figdir+'/test_series.png'\n",
    "#plt.savefig(filestr,dpi=600,bbox_inches='tight')"
   ]
  },
  {
   "cell_type": "code",
   "execution_count": 533,
   "id": "01c40707-76b5-43e1-91c4-af64b1e90011",
   "metadata": {},
   "outputs": [
    {
     "data": {
      "text/plain": [
       "<matplotlib.legend.Legend at 0x146fe4e52580>"
      ]
     },
     "execution_count": 533,
     "metadata": {},
     "output_type": "execute_result"
    },
    {
     "data": {
      "image/png": "[encoded data removed]",
      "text/plain": [
       "<Figure size 1800x1584 with 2 Axes>"
      ]
     },
     "metadata": {},
     "output_type": "display_data"
    }
   ],
   "source": [
    "fontsize=16\n",
    "fig=plt.figure(figsize=(25, 22))\n",
    "fig.subplots_adjust(top=0.88)\n",
    "\n",
    "ax1 = plt.subplot(4, 1, 2)\n",
    "ekman_con_dr2.plot(color='darkorange')\n",
    "\n",
    "ax1.set_ylabel('Ekman Pump (m/day)', fontsize=fontsize,color='darkorange')\n",
    "ax1.tick_params(axis='y', labelcolor='darkorange',labelsize=fontsize)\n",
    "ax1.set_xlabel(' ', fontsize = fontsize)\n",
    "ax1.tick_params(axis='x',labelsize=fontsize)\n",
    "#plt.title('Monthly T (Box1) vs Zonal Wind (small grid; -65,-64.5S/-258,-252E) / Rolling mean',fontsize=fontsize)\n",
    "plt.grid(color = 'gray', linestyle = '--', linewidth = 0.5)\n",
    "#plt.ylim([-0.8,0.8])\n",
    "#plt.text(100,0.4,\"cor = -0.73, lag = 4 months\")\n",
    "\n",
    "\n",
    "ax2 = ax1.twinx()\n",
    "#isocon_off_dr.plot(color='C0')\n",
    "iso2782_dth_r.plot(color='C0',linestyle='--')\n",
    "#isocon_off3_dr.plot(color='C0',linestyle=':')\n",
    "ax2.set_ylabel('ASC (m/s)', fontsize=fontsize, color='C0')\n",
    "ax2.tick_params(axis='x',labelsize=fontsize)\n",
    "ax2.tick_params(axis='y', labelcolor='C0',labelsize=fontsize)\n",
    "#ax2.invert_yaxis()\n",
    "plt.grid(color = 'gray', linestyle = '--', linewidth = 0.5)\n",
    "#plt.text(700, -0.4, 'cor=0.016', fontsize = 12)\n",
    "#building legend\n",
    "#plt.plot(np.nan,np.nan,color='C0',linestyle=':',label='27.80')\n",
    "plt.plot(np.nan,np.nan,color='C0',linestyle='--',label='27.82 kgm$^{-3}$')\n",
    "#plt.plot(np.nan,np.nan,color='C0',label='27.83')\n",
    "plt.legend(loc=\"lower left\",fontsize=fontsize)\n",
    "#plt.ylim([100,900])\n",
    "\n",
    "#figdir = '/home/581/ns3783/Scripts/Figures'\n",
    "#figdir = '/g/data/jk72/ns3783'\n",
    "#filestr = figdir+'/test_series.png'\n",
    "#plt.savefig(filestr,dpi=600,bbox_inches='tight')"
   ]
  },
  {
   "cell_type": "code",
   "execution_count": 673,
   "id": "5e3a0140-4bb9-48e8-8070-c09396702442",
   "metadata": {},
   "outputs": [],
   "source": [
    "cov2,cor_ekman,slope2,intercept2,pval2,stderr2 = lag_linregress_3D(ekman_con_dr,u_speed_dr)"
   ]
  },
  {
   "cell_type": "code",
   "execution_count": 674,
   "id": "f7fc7d4c-3e9c-4471-8fcf-8d478f4f677e",
   "metadata": {},
   "outputs": [
    {
     "data": {
      "text/html": [
       "<div><svg style=\"position: absolute; width: 0; height: 0; overflow: hidden\">\n",
       "<defs>\n",
       "<symbol id=\"icon-database\" viewBox=\"0 0 32 32\">\n",
       "<path d=\"M16 0c-8.837 0-16 2.239-16 5v4c0 2.761 7.163 5 16 5s16-2.239 16-5v-4c0-2.761-7.163-5-16-5z\"></path>\n",
       "<path d=\"M16 17c-8.837 0-16-2.239-16-5v6c0 2.761 7.163 5 16 5s16-2.239 16-5v-6c0 2.761-7.163 5-16 5z\"></path>\n",
       "<path d=\"M16 26c-8.837 0-16-2.239-16-5v6c0 2.761 7.163 5 16 5s16-2.239 16-5v-6c0 2.761-7.163 5-16 5z\"></path>\n",
       "</symbol>\n",
       "<symbol id=\"icon-file-text2\" viewBox=\"0 0 32 32\">\n",
       "<path d=\"M28.681 7.159c-0.694-0.947-1.662-2.053-2.724-3.116s-2.169-2.030-3.116-2.724c-1.612-1.182-2.393-1.319-2.841-1.319h-15.5c-1.378 0-2.5 1.121-2.5 2.5v27c0 1.378 1.122 2.5 2.5 2.5h23c1.378 0 2.5-1.122 2.5-2.5v-19.5c0-0.448-0.137-1.23-1.319-2.841zM24.543 5.457c0.959 0.959 1.712 1.825 2.268 2.543h-4.811v-4.811c0.718 0.556 1.584 1.309 2.543 2.268zM28 29.5c0 0.271-0.229 0.5-0.5 0.5h-23c-0.271 0-0.5-0.229-0.5-0.5v-27c0-0.271 0.229-0.5 0.5-0.5 0 0 15.499-0 15.5 0v7c0 0.552 0.448 1 1 1h7v19.5z\"></path>\n",
       "<path d=\"M23 26h-14c-0.552 0-1-0.448-1-1s0.448-1 1-1h14c0.552 0 1 0.448 1 1s-0.448 1-1 1z\"></path>\n",
       "<path d=\"M23 22h-14c-0.552 0-1-0.448-1-1s0.448-1 1-1h14c0.552 0 1 0.448 1 1s-0.448 1-1 1z\"></path>\n",
       "<path d=\"M23 18h-14c-0.552 0-1-0.448-1-1s0.448-1 1-1h14c0.552 0 1 0.448 1 1s-0.448 1-1 1z\"></path>\n",
       "</symbol>\n",
       "</defs>\n",
       "</svg>\n",
       "<style>/* CSS stylesheet for displaying xarray objects in jupyterlab.\n",
       " *\n",
       " */\n",
       "\n",
       ":root {\n",
       "  --xr-font-color0: var(--jp-content-font-color0, rgba(0, 0, 0, 1));\n",
       "  --xr-font-color2: var(--jp-content-font-color2, rgba(0, 0, 0, 0.54));\n",
       "  --xr-font-color3: var(--jp-content-font-color3, rgba(0, 0, 0, 0.38));\n",
       "  --xr-border-color: var(--jp-border-color2, #e0e0e0);\n",
       "  --xr-disabled-color: var(--jp-layout-color3, #bdbdbd);\n",
       "  --xr-background-color: var(--jp-layout-color0, white);\n",
       "  --xr-background-color-row-even: var(--jp-layout-color1, white);\n",
       "  --xr-background-color-row-odd: var(--jp-layout-color2, #eeeeee);\n",
       "}\n",
       "\n",
       "html[theme=dark],\n",
       "body.vscode-dark {\n",
       "  --xr-font-color0: rgba(255, 255, 255, 1);\n",
       "  --xr-font-color2: rgba(255, 255, 255, 0.54);\n",
       "  --xr-font-color3: rgba(255, 255, 255, 0.38);\n",
       "  --xr-border-color: #1F1F1F;\n",
       "  --xr-disabled-color: #515151;\n",
       "  --xr-background-color: #111111;\n",
       "  --xr-background-color-row-even: #111111;\n",
       "  --xr-background-color-row-odd: #313131;\n",
       "}\n",
       "\n",
       ".xr-wrap {\n",
       "  display: block !important;\n",
       "  min-width: 300px;\n",
       "  max-width: 700px;\n",
       "}\n",
       "\n",
       ".xr-text-repr-fallback {\n",
       "  /* fallback to plain text repr when CSS is not injected (untrusted notebook) */\n",
       "  display: none;\n",
       "}\n",
       "\n",
       ".xr-header {\n",
       "  padding-top: 6px;\n",
       "  padding-bottom: 6px;\n",
       "  margin-bottom: 4px;\n",
       "  border-bottom: solid 1px var(--xr-border-color);\n",
       "}\n",
       "\n",
       ".xr-header > div,\n",
       ".xr-header > ul {\n",
       "  display: inline;\n",
       "  margin-top: 0;\n",
       "  margin-bottom: 0;\n",
       "}\n",
       "\n",
       ".xr-obj-type,\n",
       ".xr-array-name {\n",
       "  margin-left: 2px;\n",
       "  margin-right: 10px;\n",
       "}\n",
       "\n",
       ".xr-obj-type {\n",
       "  color: var(--xr-font-color2);\n",
       "}\n",
       "\n",
       ".xr-sections {\n",
       "  padding-left: 0 !important;\n",
       "  display: grid;\n",
       "  grid-template-columns: 150px auto auto 1fr 20px 20px;\n",
       "}\n",
       "\n",
       ".xr-section-item {\n",
       "  display: contents;\n",
       "}\n",
       "\n",
       ".xr-section-item input {\n",
       "  display: none;\n",
       "}\n",
       "\n",
       ".xr-section-item input + label {\n",
       "  color: var(--xr-disabled-color);\n",
       "}\n",
       "\n",
       ".xr-section-item input:enabled + label {\n",
       "  cursor: pointer;\n",
       "  color: var(--xr-font-color2);\n",
       "}\n",
       "\n",
       ".xr-section-item input:enabled + label:hover {\n",
       "  color: var(--xr-font-color0);\n",
       "}\n",
       "\n",
       ".xr-section-summary {\n",
       "  grid-column: 1;\n",
       "  color: var(--xr-font-color2);\n",
       "  font-weight: 500;\n",
       "}\n",
       "\n",
       ".xr-section-summary > span {\n",
       "  display: inline-block;\n",
       "  padding-left: 0.5em;\n",
       "}\n",
       "\n",
       ".xr-section-summary-in:disabled + label {\n",
       "  color: var(--xr-font-color2);\n",
       "}\n",
       "\n",
       ".xr-section-summary-in + label:before {\n",
       "  display: inline-block;\n",
       "  content: '►';\n",
       "  font-size: 11px;\n",
       "  width: 15px;\n",
       "  text-align: center;\n",
       "}\n",
       "\n",
       ".xr-section-summary-in:disabled + label:before {\n",
       "  color: var(--xr-disabled-color);\n",
       "}\n",
       "\n",
       ".xr-section-summary-in:checked + label:before {\n",
       "  content: '▼';\n",
       "}\n",
       "\n",
       ".xr-section-summary-in:checked + label > span {\n",
       "  display: none;\n",
       "}\n",
       "\n",
       ".xr-section-summary,\n",
       ".xr-section-inline-details {\n",
       "  padding-top: 4px;\n",
       "  padding-bottom: 4px;\n",
       "}\n",
       "\n",
       ".xr-section-inline-details {\n",
       "  grid-column: 2 / -1;\n",
       "}\n",
       "\n",
       ".xr-section-details {\n",
       "  display: none;\n",
       "  grid-column: 1 / -1;\n",
       "  margin-bottom: 5px;\n",
       "}\n",
       "\n",
       ".xr-section-summary-in:checked ~ .xr-section-details {\n",
       "  display: contents;\n",
       "}\n",
       "\n",
       ".xr-array-wrap {\n",
       "  grid-column: 1 / -1;\n",
       "  display: grid;\n",
       "  grid-template-columns: 20px auto;\n",
       "}\n",
       "\n",
       ".xr-array-wrap > label {\n",
       "  grid-column: 1;\n",
       "  vertical-align: top;\n",
       "}\n",
       "\n",
       ".xr-preview {\n",
       "  color: var(--xr-font-color3);\n",
       "}\n",
       "\n",
       ".xr-array-preview,\n",
       ".xr-array-data {\n",
       "  padding: 0 5px !important;\n",
       "  grid-column: 2;\n",
       "}\n",
       "\n",
       ".xr-array-data,\n",
       ".xr-array-in:checked ~ .xr-array-preview {\n",
       "  display: none;\n",
       "}\n",
       "\n",
       ".xr-array-in:checked ~ .xr-array-data,\n",
       ".xr-array-preview {\n",
       "  display: inline-block;\n",
       "}\n",
       "\n",
       ".xr-dim-list {\n",
       "  display: inline-block !important;\n",
       "  list-style: none;\n",
       "  padding: 0 !important;\n",
       "  margin: 0;\n",
       "}\n",
       "\n",
       ".xr-dim-list li {\n",
       "  display: inline-block;\n",
       "  padding: 0;\n",
       "  margin: 0;\n",
       "}\n",
       "\n",
       ".xr-dim-list:before {\n",
       "  content: '(';\n",
       "}\n",
       "\n",
       ".xr-dim-list:after {\n",
       "  content: ')';\n",
       "}\n",
       "\n",
       ".xr-dim-list li:not(:last-child):after {\n",
       "  content: ',';\n",
       "  padding-right: 5px;\n",
       "}\n",
       "\n",
       ".xr-has-index {\n",
       "  font-weight: bold;\n",
       "}\n",
       "\n",
       ".xr-var-list,\n",
       ".xr-var-item {\n",
       "  display: contents;\n",
       "}\n",
       "\n",
       ".xr-var-item > div,\n",
       ".xr-var-item label,\n",
       ".xr-var-item > .xr-var-name span {\n",
       "  background-color: var(--xr-background-color-row-even);\n",
       "  margin-bottom: 0;\n",
       "}\n",
       "\n",
       ".xr-var-item > .xr-var-name:hover span {\n",
       "  padding-right: 5px;\n",
       "}\n",
       "\n",
       ".xr-var-list > li:nth-child(odd) > div,\n",
       ".xr-var-list > li:nth-child(odd) > label,\n",
       ".xr-var-list > li:nth-child(odd) > .xr-var-name span {\n",
       "  background-color: var(--xr-background-color-row-odd);\n",
       "}\n",
       "\n",
       ".xr-var-name {\n",
       "  grid-column: 1;\n",
       "}\n",
       "\n",
       ".xr-var-dims {\n",
       "  grid-column: 2;\n",
       "}\n",
       "\n",
       ".xr-var-dtype {\n",
       "  grid-column: 3;\n",
       "  text-align: right;\n",
       "  color: var(--xr-font-color2);\n",
       "}\n",
       "\n",
       ".xr-var-preview {\n",
       "  grid-column: 4;\n",
       "}\n",
       "\n",
       ".xr-var-name,\n",
       ".xr-var-dims,\n",
       ".xr-var-dtype,\n",
       ".xr-preview,\n",
       ".xr-attrs dt {\n",
       "  white-space: nowrap;\n",
       "  overflow: hidden;\n",
       "  text-overflow: ellipsis;\n",
       "  padding-right: 10px;\n",
       "}\n",
       "\n",
       ".xr-var-name:hover,\n",
       ".xr-var-dims:hover,\n",
       ".xr-var-dtype:hover,\n",
       ".xr-attrs dt:hover {\n",
       "  overflow: visible;\n",
       "  width: auto;\n",
       "  z-index: 1;\n",
       "}\n",
       "\n",
       ".xr-var-attrs,\n",
       ".xr-var-data {\n",
       "  display: none;\n",
       "  background-color: var(--xr-background-color) !important;\n",
       "  padding-bottom: 5px !important;\n",
       "}\n",
       "\n",
       ".xr-var-attrs-in:checked ~ .xr-var-attrs,\n",
       ".xr-var-data-in:checked ~ .xr-var-data {\n",
       "  display: block;\n",
       "}\n",
       "\n",
       ".xr-var-data > table {\n",
       "  float: right;\n",
       "}\n",
       "\n",
       ".xr-var-name span,\n",
       ".xr-var-data,\n",
       ".xr-attrs {\n",
       "  padding-left: 25px !important;\n",
       "}\n",
       "\n",
       ".xr-attrs,\n",
       ".xr-var-attrs,\n",
       ".xr-var-data {\n",
       "  grid-column: 1 / -1;\n",
       "}\n",
       "\n",
       "dl.xr-attrs {\n",
       "  padding: 0;\n",
       "  margin: 0;\n",
       "  display: grid;\n",
       "  grid-template-columns: 125px auto;\n",
       "}\n",
       "\n",
       ".xr-attrs dt,\n",
       ".xr-attrs dd {\n",
       "  padding: 0;\n",
       "  margin: 0;\n",
       "  float: left;\n",
       "  padding-right: 10px;\n",
       "  width: auto;\n",
       "}\n",
       "\n",
       ".xr-attrs dt {\n",
       "  font-weight: normal;\n",
       "  grid-column: 1;\n",
       "}\n",
       "\n",
       ".xr-attrs dt:hover span {\n",
       "  display: inline-block;\n",
       "  background: var(--xr-background-color);\n",
       "  padding-right: 10px;\n",
       "}\n",
       "\n",
       ".xr-attrs dd {\n",
       "  grid-column: 2;\n",
       "  white-space: pre-wrap;\n",
       "  word-break: break-all;\n",
       "}\n",
       "\n",
       ".xr-icon-database,\n",
       ".xr-icon-file-text2 {\n",
       "  display: inline-block;\n",
       "  vertical-align: middle;\n",
       "  width: 1em;\n",
       "  height: 1.5em !important;\n",
       "  stroke-width: 0;\n",
       "  stroke: currentColor;\n",
       "  fill: currentColor;\n",
       "}\n",
       "</style><pre class='xr-text-repr-fallback'>&lt;xarray.DataArray ()&gt;\n",
       "array(-0.5542671)\n",
       "Coordinates:\n",
       "    yu_ocean  float64 -64.99</pre><div class='xr-wrap' style='display:none'><div class='xr-header'><div class='xr-obj-type'>xarray.DataArray</div><div class='xr-array-name'></div></div><ul class='xr-sections'><li class='xr-section-item'><div class='xr-array-wrap'><input id='section-9b1f0341-c07b-42b1-aafb-a96cc24e06db' class='xr-array-in' type='checkbox' checked><label for='section-9b1f0341-c07b-42b1-aafb-a96cc24e06db' title='Show/hide data repr'><svg class='icon xr-icon-database'><use xlink:href='#icon-database'></use></svg></label><div class='xr-array-preview xr-preview'><span>-0.5543</span></div><div class='xr-array-data'><pre>array(-0.5542671)</pre></div></div></li><li class='xr-section-item'><input id='section-ab04a714-f7b3-4fd3-aa1b-c19e2057135c' class='xr-section-summary-in' type='checkbox'  checked><label for='section-ab04a714-f7b3-4fd3-aa1b-c19e2057135c' class='xr-section-summary' >Coordinates: <span>(1)</span></label><div class='xr-section-inline-details'></div><div class='xr-section-details'><ul class='xr-var-list'><li class='xr-var-item'><div class='xr-var-name'><span>yu_ocean</span></div><div class='xr-var-dims'>()</div><div class='xr-var-dtype'>float64</div><div class='xr-var-preview xr-preview'>-64.99</div><input id='attrs-56a54dd4-f999-4816-adf3-de538fa3001e' class='xr-var-attrs-in' type='checkbox' ><label for='attrs-56a54dd4-f999-4816-adf3-de538fa3001e' title='Show/Hide attributes'><svg class='icon xr-icon-file-text2'><use xlink:href='#icon-file-text2'></use></svg></label><input id='data-322737c7-d401-4250-9b61-64a4bb6f9ebd' class='xr-var-data-in' type='checkbox'><label for='data-322737c7-d401-4250-9b61-64a4bb6f9ebd' title='Show/Hide data repr'><svg class='icon xr-icon-database'><use xlink:href='#icon-database'></use></svg></label><div class='xr-var-attrs'><dl class='xr-attrs'><dt><span>long_name :</span></dt><dd>ucell latitude</dd><dt><span>units :</span></dt><dd>degrees_N</dd><dt><span>cartesian_axis :</span></dt><dd>Y</dd></dl></div><div class='xr-var-data'><pre>array(-64.99430221)</pre></div></li></ul></div></li><li class='xr-section-item'><input id='section-ccd8171f-1e56-465d-a4fe-3a070aac5d41' class='xr-section-summary-in' type='checkbox' disabled ><label for='section-ccd8171f-1e56-465d-a4fe-3a070aac5d41' class='xr-section-summary'  title='Expand/collapse section'>Attributes: <span>(0)</span></label><div class='xr-section-inline-details'></div><div class='xr-section-details'><dl class='xr-attrs'></dl></div></li></ul></div></div>"
      ],
      "text/plain": [
       "<xarray.DataArray ()>\n",
       "array(-0.5542671)\n",
       "Coordinates:\n",
       "    yu_ocean  float64 -64.99"
      ]
     },
     "execution_count": 674,
     "metadata": {},
     "output_type": "execute_result"
    }
   ],
   "source": [
    "cor_ekman"
   ]
  },
  {
   "cell_type": "code",
   "execution_count": null,
   "id": "d0ba3214-5c70-426d-bd75-b4ebb45c68ff",
   "metadata": {},
   "outputs": [],
   "source": []
  }
 ],
 "metadata": {
  "kernelspec": {
   "display_name": "Python [conda env:analysis3-22.01]",
   "language": "python",
   "name": "conda-env-analysis3-22.01-py"
  },
  "language_info": {
   "codemirror_mode": {
    "name": "ipython",
    "version": 3
   },
   "file_extension": ".py",
   "mimetype": "text/x-python",
   "name": "python",
   "nbconvert_exporter": "python",
   "pygments_lexer": "ipython3",
   "version": "3.9.12"
  }
 },
 "nbformat": 4,
 "nbformat_minor": 5
}
