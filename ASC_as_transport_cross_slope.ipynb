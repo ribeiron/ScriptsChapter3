{
 "cells": [
  {
   "cell_type": "markdown",
   "id": "99deee47-0427-4d77-a912-f46289db25e4",
   "metadata": {},
   "source": [
    "### Recalculate ASC per transport accross slope. \n",
    "#### maybe use this is a baseline. https://github.com/COSIMA/cosima-recipes/blob/main/Recipes/Transport_Through_Straits.ipynb"
   ]
  },
  {
   "cell_type": "code",
   "execution_count": null,
   "id": "395be63a-0908-466e-b28e-2ce41236ee03",
   "metadata": {},
   "outputs": [],
   "source": []
  }
 ],
 "metadata": {
  "kernelspec": {
   "display_name": "Python [conda env:analysis3-22.07]",
   "language": "python",
   "name": "conda-env-analysis3-22.07-py"
  },
  "language_info": {
   "codemirror_mode": {
    "name": "ipython",
    "version": 3
   },
   "file_extension": ".py",
   "mimetype": "text/x-python",
   "name": "python",
   "nbconvert_exporter": "python",
   "pygments_lexer": "ipython3",
   "version": "3.9.15"
  }
 },
 "nbformat": 4,
 "nbformat_minor": 5
}
